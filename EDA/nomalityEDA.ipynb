{
 "cells": [
  {
   "cell_type": "code",
   "execution_count": null,
   "metadata": {},
   "outputs": [],
   "source": [
    "import pandas as pd\n",
    "data=pd.read_csv('..\\\\dataPreprocessing\\\\k_movie_2.csv')\n",
    "data"
   ]
  },
  {
   "cell_type": "code",
   "execution_count": null,
   "metadata": {},
   "outputs": [],
   "source": [
    "from statsmodels.graphics.gofplots import qqplot\n",
    "qqplot(data['VIEWNG_NMPR_CO'], line='s')"
   ]
  },
  {
   "cell_type": "code",
   "execution_count": null,
   "metadata": {},
   "outputs": [],
   "source": [
    "import numpy as np\n",
    "data['VIEWNG_NMPR_CO_log_t']=np.log(data['VIEWNG_NMPR_CO'])\n",
    "qqplot(data['VIEWNG_NMPR_CO_log_t'],line='s')"
   ]
  },
  {
   "cell_type": "code",
   "execution_count": null,
   "metadata": {},
   "outputs": [],
   "source": [
    "from scipy.stats import shapiro, levene\n",
    "#정규성 검사 - 비정규\n",
    "print(shapiro(data['VIEWNG_NMPR_CO_log_t']))"
   ]
  }
 ],
 "metadata": {
  "kernelspec": {
   "display_name": "base",
   "language": "python",
   "name": "python3"
  },
  "language_info": {
   "name": "python",
   "version": "3.8.5 (default, Sep  3 2020, 21:29:08) [MSC v.1916 64 bit (AMD64)]"
  },
  "orig_nbformat": 4,
  "vscode": {
   "interpreter": {
    "hash": "939c2a35bb44f922d4801ff6645981833f7a456ccc01d595bc465aeed00364a0"
   }
  }
 },
 "nbformat": 4,
 "nbformat_minor": 2
}
