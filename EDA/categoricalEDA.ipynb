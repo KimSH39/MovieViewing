{
 "cells": [
  {
   "cell_type": "code",
   "execution_count": 42,
   "metadata": {},
   "outputs": [
    {
     "data": {
      "text/html": [
       "<div>\n",
       "<style scoped>\n",
       "    .dataframe tbody tr th:only-of-type {\n",
       "        vertical-align: middle;\n",
       "    }\n",
       "\n",
       "    .dataframe tbody tr th {\n",
       "        vertical-align: top;\n",
       "    }\n",
       "\n",
       "    .dataframe thead th {\n",
       "        text-align: right;\n",
       "    }\n",
       "</style>\n",
       "<table border=\"1\" class=\"dataframe\">\n",
       "  <thead>\n",
       "    <tr style=\"text-align: right;\">\n",
       "      <th></th>\n",
       "      <th>MOVIE_NM</th>\n",
       "      <th>DRCTR_NM</th>\n",
       "      <th>MAKR_NM</th>\n",
       "      <th>DISTB_CMPNY_NM</th>\n",
       "      <th>OPN_DE</th>\n",
       "      <th>MOVIE_TY_NM</th>\n",
       "      <th>MOVIE_STLE_NM</th>\n",
       "      <th>NLTY_NM</th>\n",
       "      <th>TOT_SCRN_CO</th>\n",
       "      <th>VIEWNG_NMPR_CO</th>\n",
       "      <th>SEOUL_VIEWNG_NMPR_CO</th>\n",
       "      <th>GENRE_NM</th>\n",
       "      <th>GRAD_NM</th>\n",
       "      <th>MOVIE_SDIV_NM</th>\n",
       "      <th>CRITIC_RT</th>\n",
       "      <th>VIEWER_RT</th>\n",
       "      <th>YEAR</th>\n",
       "      <th>MONTH</th>\n",
       "      <th>DISTB_CMPNY_COUNT</th>\n",
       "      <th>SUCCESS</th>\n",
       "    </tr>\n",
       "  </thead>\n",
       "  <tbody>\n",
       "    <tr>\n",
       "      <th>0</th>\n",
       "      <td>산상수훈</td>\n",
       "      <td>유영의</td>\n",
       "      <td>(주)그란</td>\n",
       "      <td>['이언픽쳐스', '(주)그란']</td>\n",
       "      <td>20171207</td>\n",
       "      <td>개봉영화</td>\n",
       "      <td>장편</td>\n",
       "      <td>한국</td>\n",
       "      <td>71.0</td>\n",
       "      <td>284.0</td>\n",
       "      <td>284.0</td>\n",
       "      <td>드라마</td>\n",
       "      <td>전체관람가</td>\n",
       "      <td>독립/예술영화</td>\n",
       "      <td>3.00</td>\n",
       "      <td>6.30</td>\n",
       "      <td>2017</td>\n",
       "      <td>12</td>\n",
       "      <td>2</td>\n",
       "      <td>0.0</td>\n",
       "    </tr>\n",
       "    <tr>\n",
       "      <th>1</th>\n",
       "      <td>교회오빠</td>\n",
       "      <td>이호경</td>\n",
       "      <td>KBS,커넥트픽쳐스(주)</td>\n",
       "      <td>['커넥트픽쳐스(주)']</td>\n",
       "      <td>20190516</td>\n",
       "      <td>개봉영화</td>\n",
       "      <td>장편</td>\n",
       "      <td>한국</td>\n",
       "      <td>200.0</td>\n",
       "      <td>154.0</td>\n",
       "      <td>154.0</td>\n",
       "      <td>다큐멘터리</td>\n",
       "      <td>전체관람가</td>\n",
       "      <td>독립/예술영화</td>\n",
       "      <td>5.59</td>\n",
       "      <td>9.31</td>\n",
       "      <td>2019</td>\n",
       "      <td>5</td>\n",
       "      <td>1</td>\n",
       "      <td>0.0</td>\n",
       "    </tr>\n",
       "    <tr>\n",
       "      <th>2</th>\n",
       "      <td>기생충</td>\n",
       "      <td>봉준호</td>\n",
       "      <td>(주)바른손이앤에이</td>\n",
       "      <td>['(주)씨제이이엔엠']</td>\n",
       "      <td>20190530</td>\n",
       "      <td>개봉영화</td>\n",
       "      <td>장편</td>\n",
       "      <td>한국</td>\n",
       "      <td>1948.0</td>\n",
       "      <td>227811.0</td>\n",
       "      <td>97354.0</td>\n",
       "      <td>드라마</td>\n",
       "      <td>15세이상관람가</td>\n",
       "      <td>일반영화</td>\n",
       "      <td>9.06</td>\n",
       "      <td>8.49</td>\n",
       "      <td>2019</td>\n",
       "      <td>5</td>\n",
       "      <td>1</td>\n",
       "      <td>1.0</td>\n",
       "    </tr>\n",
       "    <tr>\n",
       "      <th>3</th>\n",
       "      <td>이타미 준의 바다</td>\n",
       "      <td>정다운</td>\n",
       "      <td>기린그림</td>\n",
       "      <td>['(주)영화사 진진']</td>\n",
       "      <td>20190815</td>\n",
       "      <td>개봉영화</td>\n",
       "      <td>장편</td>\n",
       "      <td>한국</td>\n",
       "      <td>57.0</td>\n",
       "      <td>144.0</td>\n",
       "      <td>144.0</td>\n",
       "      <td>다큐멘터리</td>\n",
       "      <td>전체관람가</td>\n",
       "      <td>독립/예술영화</td>\n",
       "      <td>6.50</td>\n",
       "      <td>8.96</td>\n",
       "      <td>2019</td>\n",
       "      <td>8</td>\n",
       "      <td>1</td>\n",
       "      <td>0.0</td>\n",
       "    </tr>\n",
       "    <tr>\n",
       "      <th>4</th>\n",
       "      <td>벌새</td>\n",
       "      <td>김보라</td>\n",
       "      <td>에피파니(주)</td>\n",
       "      <td>['(주)엣나인필름', '(주)콘텐츠판다']</td>\n",
       "      <td>20190829</td>\n",
       "      <td>개봉영화</td>\n",
       "      <td>장편</td>\n",
       "      <td>한국</td>\n",
       "      <td>145.0</td>\n",
       "      <td>2721.0</td>\n",
       "      <td>2082.0</td>\n",
       "      <td>드라마</td>\n",
       "      <td>15세이상관람가</td>\n",
       "      <td>독립/예술영화</td>\n",
       "      <td>5.59</td>\n",
       "      <td>7.44</td>\n",
       "      <td>2019</td>\n",
       "      <td>8</td>\n",
       "      <td>2</td>\n",
       "      <td>1.0</td>\n",
       "    </tr>\n",
       "    <tr>\n",
       "      <th>...</th>\n",
       "      <td>...</td>\n",
       "      <td>...</td>\n",
       "      <td>...</td>\n",
       "      <td>...</td>\n",
       "      <td>...</td>\n",
       "      <td>...</td>\n",
       "      <td>...</td>\n",
       "      <td>...</td>\n",
       "      <td>...</td>\n",
       "      <td>...</td>\n",
       "      <td>...</td>\n",
       "      <td>...</td>\n",
       "      <td>...</td>\n",
       "      <td>...</td>\n",
       "      <td>...</td>\n",
       "      <td>...</td>\n",
       "      <td>...</td>\n",
       "      <td>...</td>\n",
       "      <td>...</td>\n",
       "      <td>...</td>\n",
       "    </tr>\n",
       "    <tr>\n",
       "      <th>353</th>\n",
       "      <td>2차 송환</td>\n",
       "      <td>김동원</td>\n",
       "      <td>푸른영상</td>\n",
       "      <td>['(주)시네마달']</td>\n",
       "      <td>2022-09-</td>\n",
       "      <td>개봉영화</td>\n",
       "      <td>장편</td>\n",
       "      <td>한국</td>\n",
       "      <td>16.0</td>\n",
       "      <td>415.0</td>\n",
       "      <td>373.0</td>\n",
       "      <td>다큐멘터리</td>\n",
       "      <td>12세이상관람가</td>\n",
       "      <td>독립/예술영화</td>\n",
       "      <td>8.20</td>\n",
       "      <td>6.44</td>\n",
       "      <td>2022</td>\n",
       "      <td>9</td>\n",
       "      <td>1</td>\n",
       "      <td>0.0</td>\n",
       "    </tr>\n",
       "    <tr>\n",
       "      <th>354</th>\n",
       "      <td>EBS친구들 씽씽 댄스파티</td>\n",
       "      <td>감독명 누락</td>\n",
       "      <td>한국교육방송공사 EBS</td>\n",
       "      <td>['(주)에픽캔']</td>\n",
       "      <td>2022-09-</td>\n",
       "      <td>개봉영화</td>\n",
       "      <td>장편</td>\n",
       "      <td>한국</td>\n",
       "      <td>1.0</td>\n",
       "      <td>60.0</td>\n",
       "      <td>22.0</td>\n",
       "      <td>가족</td>\n",
       "      <td>전체관람가</td>\n",
       "      <td>일반영화</td>\n",
       "      <td>5.59</td>\n",
       "      <td>7.44</td>\n",
       "      <td>2022</td>\n",
       "      <td>9</td>\n",
       "      <td>1</td>\n",
       "      <td>0.0</td>\n",
       "    </tr>\n",
       "    <tr>\n",
       "      <th>355</th>\n",
       "      <td>당신의 이웃은 친절하지 않다</td>\n",
       "      <td>안드로</td>\n",
       "      <td>(주)빅픽처</td>\n",
       "      <td>['주식회사 씨엠닉스']</td>\n",
       "      <td>2022-09-</td>\n",
       "      <td>개봉영화</td>\n",
       "      <td>장편</td>\n",
       "      <td>한국</td>\n",
       "      <td>9.0</td>\n",
       "      <td>395.0</td>\n",
       "      <td>250.0</td>\n",
       "      <td>미스터리</td>\n",
       "      <td>15세이상관람가</td>\n",
       "      <td>독립/예술영화</td>\n",
       "      <td>5.59</td>\n",
       "      <td>7.47</td>\n",
       "      <td>2022</td>\n",
       "      <td>9</td>\n",
       "      <td>1</td>\n",
       "      <td>0.0</td>\n",
       "    </tr>\n",
       "    <tr>\n",
       "      <th>356</th>\n",
       "      <td>부적: 남의 운을 빼앗는 자</td>\n",
       "      <td>김세성</td>\n",
       "      <td>머지션스토어</td>\n",
       "      <td>['(주)트리플픽쳐스']</td>\n",
       "      <td>2022-09-</td>\n",
       "      <td>개봉영화</td>\n",
       "      <td>장편</td>\n",
       "      <td>한국</td>\n",
       "      <td>6.0</td>\n",
       "      <td>662.0</td>\n",
       "      <td>336.0</td>\n",
       "      <td>액션</td>\n",
       "      <td>12세이상관람가</td>\n",
       "      <td>독립/예술영화</td>\n",
       "      <td>5.59</td>\n",
       "      <td>8.84</td>\n",
       "      <td>2022</td>\n",
       "      <td>9</td>\n",
       "      <td>1</td>\n",
       "      <td>0.0</td>\n",
       "    </tr>\n",
       "    <tr>\n",
       "      <th>357</th>\n",
       "      <td>주연</td>\n",
       "      <td>송원준</td>\n",
       "      <td>영화사 퐑</td>\n",
       "      <td>['(주)마노엔터테인먼트']</td>\n",
       "      <td>2022-09-</td>\n",
       "      <td>개봉영화</td>\n",
       "      <td>장편</td>\n",
       "      <td>한국</td>\n",
       "      <td>20.0</td>\n",
       "      <td>363.0</td>\n",
       "      <td>302.0</td>\n",
       "      <td>드라마</td>\n",
       "      <td>12세이상관람가</td>\n",
       "      <td>독립/예술영화</td>\n",
       "      <td>5.59</td>\n",
       "      <td>8.04</td>\n",
       "      <td>2022</td>\n",
       "      <td>9</td>\n",
       "      <td>1</td>\n",
       "      <td>0.0</td>\n",
       "    </tr>\n",
       "  </tbody>\n",
       "</table>\n",
       "<p>358 rows × 20 columns</p>\n",
       "</div>"
      ],
      "text/plain": [
       "            MOVIE_NM DRCTR_NM        MAKR_NM            DISTB_CMPNY_NM  \\\n",
       "0               산상수훈      유영의          (주)그란        ['이언픽쳐스', '(주)그란']   \n",
       "1               교회오빠      이호경  KBS,커넥트픽쳐스(주)             ['커넥트픽쳐스(주)']   \n",
       "2                기생충      봉준호     (주)바른손이앤에이             ['(주)씨제이이엔엠']   \n",
       "3          이타미 준의 바다      정다운           기린그림             ['(주)영화사 진진']   \n",
       "4                 벌새      김보라        에피파니(주)  ['(주)엣나인필름', '(주)콘텐츠판다']   \n",
       "..               ...      ...            ...                       ...   \n",
       "353            2차 송환      김동원           푸른영상               ['(주)시네마달']   \n",
       "354   EBS친구들 씽씽 댄스파티   감독명 누락   한국교육방송공사 EBS                ['(주)에픽캔']   \n",
       "355  당신의 이웃은 친절하지 않다      안드로         (주)빅픽처             ['주식회사 씨엠닉스']   \n",
       "356  부적: 남의 운을 빼앗는 자      김세성         머지션스토어             ['(주)트리플픽쳐스']   \n",
       "357               주연      송원준          영화사 퐑           ['(주)마노엔터테인먼트']   \n",
       "\n",
       "       OPN_DE MOVIE_TY_NM MOVIE_STLE_NM NLTY_NM  TOT_SCRN_CO  VIEWNG_NMPR_CO  \\\n",
       "0    20171207        개봉영화            장편      한국         71.0           284.0   \n",
       "1    20190516        개봉영화            장편      한국        200.0           154.0   \n",
       "2    20190530        개봉영화            장편      한국       1948.0        227811.0   \n",
       "3    20190815        개봉영화            장편      한국         57.0           144.0   \n",
       "4    20190829        개봉영화            장편      한국        145.0          2721.0   \n",
       "..        ...         ...           ...     ...          ...             ...   \n",
       "353  2022-09-        개봉영화            장편      한국         16.0           415.0   \n",
       "354  2022-09-        개봉영화            장편      한국          1.0            60.0   \n",
       "355  2022-09-        개봉영화            장편      한국          9.0           395.0   \n",
       "356  2022-09-        개봉영화            장편      한국          6.0           662.0   \n",
       "357  2022-09-        개봉영화            장편      한국         20.0           363.0   \n",
       "\n",
       "     SEOUL_VIEWNG_NMPR_CO GENRE_NM   GRAD_NM MOVIE_SDIV_NM  CRITIC_RT  \\\n",
       "0                   284.0      드라마     전체관람가       독립/예술영화       3.00   \n",
       "1                   154.0    다큐멘터리     전체관람가       독립/예술영화       5.59   \n",
       "2                 97354.0      드라마  15세이상관람가          일반영화       9.06   \n",
       "3                   144.0    다큐멘터리     전체관람가       독립/예술영화       6.50   \n",
       "4                  2082.0      드라마  15세이상관람가       독립/예술영화       5.59   \n",
       "..                    ...      ...       ...           ...        ...   \n",
       "353                 373.0    다큐멘터리  12세이상관람가       독립/예술영화       8.20   \n",
       "354                  22.0       가족     전체관람가          일반영화       5.59   \n",
       "355                 250.0     미스터리  15세이상관람가       독립/예술영화       5.59   \n",
       "356                 336.0       액션  12세이상관람가       독립/예술영화       5.59   \n",
       "357                 302.0      드라마  12세이상관람가       독립/예술영화       5.59   \n",
       "\n",
       "     VIEWER_RT  YEAR  MONTH  DISTB_CMPNY_COUNT  SUCCESS  \n",
       "0         6.30  2017     12                  2      0.0  \n",
       "1         9.31  2019      5                  1      0.0  \n",
       "2         8.49  2019      5                  1      1.0  \n",
       "3         8.96  2019      8                  1      0.0  \n",
       "4         7.44  2019      8                  2      1.0  \n",
       "..         ...   ...    ...                ...      ...  \n",
       "353       6.44  2022      9                  1      0.0  \n",
       "354       7.44  2022      9                  1      0.0  \n",
       "355       7.47  2022      9                  1      0.0  \n",
       "356       8.84  2022      9                  1      0.0  \n",
       "357       8.04  2022      9                  1      0.0  \n",
       "\n",
       "[358 rows x 20 columns]"
      ]
     },
     "execution_count": 42,
     "metadata": {},
     "output_type": "execute_result"
    }
   ],
   "source": [
    "import pandas as pd\n",
    "data=pd.read_csv('..\\\\dataPreprocessing\\\\k_movie_2.csv')\n",
    "data"
   ]
  },
  {
   "cell_type": "code",
   "execution_count": 43,
   "metadata": {},
   "outputs": [
    {
     "name": "stdout",
     "output_type": "stream",
     "text": [
      "c:\\Users\\gus10\\anaconda3\\lib\\site-packages\\matplotlib\\mpl-data\\matplotlibrc\n",
      "C:\\Users\\gus10\\.matplotlib\n"
     ]
    }
   ],
   "source": [
    "import matplotlib as mpl\n",
    "print(mpl.matplotlib_fname())\n",
    "print(mpl.get_cachedir())\n",
    "mpl.rcParams['font.family']='NanumGothic'"
   ]
  },
  {
   "cell_type": "code",
   "execution_count": 44,
   "metadata": {},
   "outputs": [
    {
     "data": {
      "text/plain": [
       "(array([  1.,   0.,   0.,   0.,  29.,   0., 146.,   0., 129.,  53.]),\n",
       " array([2017. , 2017.5, 2018. , 2018.5, 2019. , 2019.5, 2020. , 2020.5,\n",
       "        2021. , 2021.5, 2022. ]),\n",
       " <BarContainer object of 10 artists>)"
      ]
     },
     "execution_count": 44,
     "metadata": {},
     "output_type": "execute_result"
    },
    {
     "data": {
      "image/png": "[encoded data removed]",
      "text/plain": [
       "<Figure size 432x288 with 1 Axes>"
      ]
     },
     "metadata": {
      "needs_background": "light"
     },
     "output_type": "display_data"
    }
   ],
   "source": [
    "#연도에 따른 영화 수\n",
    "import matplotlib.pyplot as plt\n",
    "plt.hist(data['YEAR'])"
   ]
  },
  {
   "cell_type": "code",
   "execution_count": 45,
   "metadata": {},
   "outputs": [
    {
     "data": {
      "text/plain": [
       "(array([59., 33., 26., 40., 33., 18., 26., 31., 27., 65.]),\n",
       " array([ 1. ,  2.1,  3.2,  4.3,  5.4,  6.5,  7.6,  8.7,  9.8, 10.9, 12. ]),\n",
       " <BarContainer object of 10 artists>)"
      ]
     },
     "execution_count": 45,
     "metadata": {},
     "output_type": "execute_result"
    },
    {
     "data": {
      "image/png": "[encoded data removed]",
      "text/plain": [
       "<Figure size 432x288 with 1 Axes>"
      ]
     },
     "metadata": {
      "needs_background": "light"
     },
     "output_type": "display_data"
    }
   ],
   "source": [
    "#월 별 영화수\n",
    "plt.hist(data['MONTH'])"
   ]
  },
  {
   "cell_type": "code",
   "execution_count": 46,
   "metadata": {},
   "outputs": [],
   "source": [
    "def cut(data):\n",
    "    IQR=data.quantile(0.75)-data.quantile(0.25)\n",
    "    return pd.DataFrame([[data.quantile(0.25)-(1.5*IQR), data.quantile(0.75)+(1.5*IQR)]]\n",
    "    *data.shape[0],\n",
    "    columns=['lower', 'upper'],\n",
    "    index=data.index)"
   ]
  },
  {
   "cell_type": "code",
   "execution_count": 47,
   "metadata": {},
   "outputs": [
    {
     "data": {
      "text/plain": [
       "<AxesSubplot:xlabel='MONTH', ylabel='VIEWNG_NMPR_CO'>"
      ]
     },
     "execution_count": 47,
     "metadata": {},
     "output_type": "execute_result"
    },
    {
     "data": {
      "image/png": "[encoded data removed]",
      "text/plain": [
       "<Figure size 432x288 with 1 Axes>"
      ]
     },
     "metadata": {
      "needs_background": "light"
     },
     "output_type": "display_data"
    }
   ],
   "source": [
    "#월별에 따른 관객수 boxplot\n",
    "import seaborn as sns\n",
    "sns.boxplot(data=data, x='MONTH', y='VIEWNG_NMPR_CO')"
   ]
  },
  {
   "cell_type": "code",
   "execution_count": 48,
   "metadata": {},
   "outputs": [
    {
     "data": {
      "text/plain": [
       "<AxesSubplot:xlabel='MONTH', ylabel='VIEWNG_NMPR_CO'>"
      ]
     },
     "execution_count": 48,
     "metadata": {},
     "output_type": "execute_result"
    },
    {
     "data": {
      "image/png": "[encoded data removed]",
      "text/plain": [
       "<Figure size 432x288 with 1 Axes>"
      ]
     },
     "metadata": {
      "needs_background": "light"
     },
     "output_type": "display_data"
    }
   ],
   "source": [
    "#월별에 따른 관객수 boxplot - 이상치 제거 \n",
    "import seaborn as sns\n",
    "monthdata=data\n",
    "monthdata[['lower','upper']]=monthdata.groupby('MONTH')['VIEWNG_NMPR_CO'].apply(cut)\n",
    "\n",
    "monthdata = monthdata[(monthdata['lower'] <= monthdata['VIEWNG_NMPR_CO']) & (monthdata['VIEWNG_NMPR_CO'] <= monthdata['upper'])]\n",
    "monthdata\n",
    "\n",
    "sns.boxplot(data=monthdata, x='MONTH', y='VIEWNG_NMPR_CO')\n"
   ]
  },
  {
   "cell_type": "code",
   "execution_count": 49,
   "metadata": {},
   "outputs": [
    {
     "data": {
      "text/plain": [
       "<AxesSubplot:xlabel='GENRE_NM', ylabel='VIEWNG_NMPR_CO'>"
      ]
     },
     "execution_count": 49,
     "metadata": {},
     "output_type": "execute_result"
    },
    {
     "data": {
      "image/png": "[encoded data removed]",
      "text/plain": [
       "<Figure size 432x288 with 1 Axes>"
      ]
     },
     "metadata": {
      "needs_background": "light"
     },
     "output_type": "display_data"
    }
   ],
   "source": [
    "#장르에 따른 관객수 boxplot\n",
    "import seaborn as sns\n",
    "sns.boxplot(data=data, x='GENRE_NM', y='VIEWNG_NMPR_CO')"
   ]
  },
  {
   "cell_type": "code",
   "execution_count": 52,
   "metadata": {},
   "outputs": [
    {
     "data": {
      "text/plain": [
       "<AxesSubplot:xlabel='GENRE_NM', ylabel='VIEWNG_NMPR_CO'>"
      ]
     },
     "execution_count": 52,
     "metadata": {},
     "output_type": "execute_result"
    },
    {
     "data": {
      "image/png": "[encoded data removed]",
      "text/plain": [
       "<Figure size 432x288 with 1 Axes>"
      ]
     },
     "metadata": {
      "needs_background": "light"
     },
     "output_type": "display_data"
    }
   ],
   "source": [
    "#장르에 따른 관객수 boxplot - 이상치 제거 \n",
    "import seaborn as sns\n",
    "genredata=data\n",
    "genredata[['lower','upper']]=genredata.groupby('GENRE_NM')['VIEWNG_NMPR_CO'].apply(cut)\n",
    "\n",
    "genredata = genredata[(genredata['lower'] <= genredata['VIEWNG_NMPR_CO']) & (genredata['VIEWNG_NMPR_CO'] <= genredata['upper'])]\n",
    "genredata\n",
    "\n",
    "sns.boxplot(data=genredata, x='GENRE_NM', y='VIEWNG_NMPR_CO')"
   ]
  },
  {
   "cell_type": "code",
   "execution_count": 50,
   "metadata": {},
   "outputs": [
    {
     "data": {
      "text/plain": [
       "<AxesSubplot:xlabel='MOVIE_SDIV_NM', ylabel='VIEWNG_NMPR_CO'>"
      ]
     },
     "execution_count": 50,
     "metadata": {},
     "output_type": "execute_result"
    },
    {
     "data": {
      "image/png": "[encoded data removed]",
      "text/plain": [
       "<Figure size 432x288 with 1 Axes>"
      ]
     },
     "metadata": {
      "needs_background": "light"
     },
     "output_type": "display_data"
    }
   ],
   "source": [
    "#영화구분에 따른 관객수 boxplot\n",
    "import seaborn as sns\n",
    "sns.boxplot(data=data, x='MOVIE_SDIV_NM', y='VIEWNG_NMPR_CO')"
   ]
  },
  {
   "cell_type": "code",
   "execution_count": 54,
   "metadata": {},
   "outputs": [
    {
     "data": {
      "text/plain": [
       "<AxesSubplot:xlabel='MOVIE_SDIV_NM', ylabel='VIEWNG_NMPR_CO'>"
      ]
     },
     "execution_count": 54,
     "metadata": {},
     "output_type": "execute_result"
    },
    {
     "data": {
      "image/png": "[encoded data removed]",
      "text/plain": [
       "<Figure size 432x288 with 1 Axes>"
      ]
     },
     "metadata": {
      "needs_background": "light"
     },
     "output_type": "display_data"
    }
   ],
   "source": [
    "#영화구분에 따른 관객수 boxplot - 이상치 제거 \n",
    "import seaborn as sns\n",
    "sdivdata=data\n",
    "sdivdata[['lower','upper']]=sdivdata.groupby('MOVIE_SDIV_NM')['VIEWNG_NMPR_CO'].apply(cut)\n",
    "\n",
    "sdivdata = sdivdata[(sdivdata['lower'] <= sdivdata['VIEWNG_NMPR_CO']) & (sdivdata['VIEWNG_NMPR_CO'] <= sdivdata['upper'])]\n",
    "sdivdata\n",
    "\n",
    "sns.boxplot(data=sdivdata, x='MOVIE_SDIV_NM', y='VIEWNG_NMPR_CO')"
   ]
  },
  {
   "cell_type": "code",
   "execution_count": 51,
   "metadata": {},
   "outputs": [
    {
     "data": {
      "text/plain": [
       "<AxesSubplot:xlabel='GRAD_NM', ylabel='VIEWNG_NMPR_CO'>"
      ]
     },
     "execution_count": 51,
     "metadata": {},
     "output_type": "execute_result"
    },
    {
     "data": {
      "image/png": "[encoded data removed]",
      "text/plain": [
       "<Figure size 432x288 with 1 Axes>"
      ]
     },
     "metadata": {
      "needs_background": "light"
     },
     "output_type": "display_data"
    }
   ],
   "source": [
    "#연령제한에 따른 관객수 boxplot\n",
    "import seaborn as sns\n",
    "sns.boxplot(data=data, x='GRAD_NM', y='VIEWNG_NMPR_CO')\n"
   ]
  },
  {
   "cell_type": "code",
   "execution_count": 55,
   "metadata": {},
   "outputs": [
    {
     "data": {
      "text/plain": [
       "<AxesSubplot:xlabel='GRAD_NM', ylabel='VIEWNG_NMPR_CO'>"
      ]
     },
     "execution_count": 55,
     "metadata": {},
     "output_type": "execute_result"
    },
    {
     "data": {
      "image/png": "[encoded data removed]",
      "text/plain": [
       "<Figure size 432x288 with 1 Axes>"
      ]
     },
     "metadata": {
      "needs_background": "light"
     },
     "output_type": "display_data"
    }
   ],
   "source": [
    "#연령제한에 따른 관객수 boxplot - 이상치 제거 \n",
    "import seaborn as sns\n",
    "graddata=data\n",
    "graddata[['lower','upper']]=graddata.groupby('GRAD_NM')['VIEWNG_NMPR_CO'].apply(cut)\n",
    "\n",
    "graddata = graddata[(graddata['lower'] <= graddata['VIEWNG_NMPR_CO']) & (graddata['VIEWNG_NMPR_CO'] <= graddata['upper'])]\n",
    "graddata\n",
    "\n",
    "sns.boxplot(data=graddata, x='GRAD_NM', y='VIEWNG_NMPR_CO')"
   ]
  },
  {
   "cell_type": "code",
   "execution_count": null,
   "metadata": {},
   "outputs": [],
   "source": []
  }
 ],
 "metadata": {
  "kernelspec": {
   "display_name": "base",
   "language": "python",
   "name": "python3"
  },
  "language_info": {
   "codemirror_mode": {
    "name": "ipython",
    "version": 3
   },
   "file_extension": ".py",
   "mimetype": "text/x-python",
   "name": "python",
   "nbconvert_exporter": "python",
   "pygments_lexer": "ipython3",
   "version": "3.8.5"
  },
  "orig_nbformat": 4,
  "vscode": {
   "interpreter": {
    "hash": "939c2a35bb44f922d4801ff6645981833f7a456ccc01d595bc465aeed00364a0"
   }
  }
 },
 "nbformat": 4,
 "nbformat_minor": 2
}
