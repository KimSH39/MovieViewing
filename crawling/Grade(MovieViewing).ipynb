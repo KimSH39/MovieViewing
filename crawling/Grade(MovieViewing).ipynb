{
 "cells": [
  {
   "cell_type": "markdown",
   "id": "fcc34541",
   "metadata": {},
   "source": [
    "# 청소년 관람 불가 영화를 제외한 이유"
   ]
  },
  {
   "cell_type": "markdown",
   "id": "d1c3a609",
   "metadata": {},
   "source": [
    "## MovieViewing"
   ]
  },
  {
   "cell_type": "code",
   "execution_count": 1,
   "id": "d80d91c7",
   "metadata": {
    "ExecuteTime": {
     "end_time": "2022-12-15T03:50:08.081884Z",
     "start_time": "2022-12-15T03:49:59.367922Z"
    }
   },
   "outputs": [],
   "source": [
    "import pandas as pd\n",
    "\n",
    "import matplotlib.pyplot as plt\n",
    "import seaborn as sns"
   ]
  },
  {
   "cell_type": "code",
   "execution_count": 5,
   "id": "b340f79b-fbc3-4fa5-a3ee-f39236ba839a",
   "metadata": {
    "ExecuteTime": {
     "end_time": "2022-12-15T03:52:44.387491Z",
     "start_time": "2022-12-15T03:52:44.259067Z"
    }
   },
   "outputs": [],
   "source": [
    "movie = pd.read_csv(\"ALL_KC_KOBIS_BOX_OFFIC_MOVIE_INFO.csv\")"
   ]
  },
  {
   "cell_type": "code",
   "execution_count": 9,
   "id": "a4104899-199c-4757-b4c3-196ec22bdc7e",
   "metadata": {
    "ExecuteTime": {
     "end_time": "2022-12-15T03:54:55.621734Z",
     "start_time": "2022-12-15T03:54:55.605488Z"
    }
   },
   "outputs": [],
   "source": [
    "movie_grad = movie[movie['GRAD_NM']=='청소년관람불가']"
   ]
  },
  {
   "cell_type": "code",
   "execution_count": 17,
   "id": "8f2429b1",
   "metadata": {
    "ExecuteTime": {
     "end_time": "2022-12-15T04:02:16.087282Z",
     "start_time": "2022-12-15T04:02:16.034235Z"
    }
   },
   "outputs": [
    {
     "data": {
      "text/html": [
       "<div>\n",
       "<style scoped>\n",
       "    .dataframe tbody tr th:only-of-type {\n",
       "        vertical-align: middle;\n",
       "    }\n",
       "\n",
       "    .dataframe tbody tr th {\n",
       "        vertical-align: top;\n",
       "    }\n",
       "\n",
       "    .dataframe thead th {\n",
       "        text-align: right;\n",
       "    }\n",
       "</style>\n",
       "<table border=\"1\" class=\"dataframe\">\n",
       "  <thead>\n",
       "    <tr style=\"text-align: right;\">\n",
       "      <th></th>\n",
       "      <th>NO</th>\n",
       "      <th>MOVIE_NM</th>\n",
       "      <th>DRCTR_NM</th>\n",
       "      <th>MAKR_NM</th>\n",
       "      <th>INCME_CMPNY_NM</th>\n",
       "      <th>DISTB_CMPNY_NM</th>\n",
       "      <th>OPN_DE</th>\n",
       "      <th>MOVIE_TY_NM</th>\n",
       "      <th>MOVIE_STLE_NM</th>\n",
       "      <th>NLTY_NM</th>\n",
       "      <th>TOT_SCRN_CO</th>\n",
       "      <th>SALES_PRICE</th>\n",
       "      <th>VIEWNG_NMPR_CO</th>\n",
       "      <th>SEOUL_SALES_PRICE</th>\n",
       "      <th>SEOUL_VIEWNG_NMPR_CO</th>\n",
       "      <th>GENRE_NM</th>\n",
       "      <th>GRAD_NM</th>\n",
       "      <th>MOVIE_SDIV_NM</th>\n",
       "    </tr>\n",
       "  </thead>\n",
       "  <tbody>\n",
       "    <tr>\n",
       "      <th>14</th>\n",
       "      <td>15</td>\n",
       "      <td>더 킹: 헨리 5세</td>\n",
       "      <td>데이비드 미쇼</td>\n",
       "      <td>NaN</td>\n",
       "      <td>NaN</td>\n",
       "      <td>판씨네마(주)</td>\n",
       "      <td>20191023</td>\n",
       "      <td>개봉영화</td>\n",
       "      <td>장편</td>\n",
       "      <td>네덜란드</td>\n",
       "      <td>146.0</td>\n",
       "      <td>650000.0</td>\n",
       "      <td>107.0</td>\n",
       "      <td>0.0</td>\n",
       "      <td>0.0</td>\n",
       "      <td>드라마</td>\n",
       "      <td>청소년관람불가</td>\n",
       "      <td>독립/예술영화</td>\n",
       "    </tr>\n",
       "    <tr>\n",
       "      <th>15</th>\n",
       "      <td>16</td>\n",
       "      <td>경계선</td>\n",
       "      <td>알리 아바시</td>\n",
       "      <td>NaN</td>\n",
       "      <td>(유)조이앤시네마</td>\n",
       "      <td>(주)제이앤씨미디어그룹</td>\n",
       "      <td>20191024</td>\n",
       "      <td>개봉영화</td>\n",
       "      <td>장편</td>\n",
       "      <td>스웨덴</td>\n",
       "      <td>48.0</td>\n",
       "      <td>1765000.0</td>\n",
       "      <td>214.0</td>\n",
       "      <td>1765000.0</td>\n",
       "      <td>214.0</td>\n",
       "      <td>판타지</td>\n",
       "      <td>청소년관람불가</td>\n",
       "      <td>독립/예술영화</td>\n",
       "    </tr>\n",
       "    <tr>\n",
       "      <th>24</th>\n",
       "      <td>25</td>\n",
       "      <td>아이리시맨</td>\n",
       "      <td>마틴 스코세이지</td>\n",
       "      <td>NaN</td>\n",
       "      <td>NaN</td>\n",
       "      <td>판씨네마(주)</td>\n",
       "      <td>20191120</td>\n",
       "      <td>개봉영화</td>\n",
       "      <td>장편</td>\n",
       "      <td>미국</td>\n",
       "      <td>68.0</td>\n",
       "      <td>27717180.0</td>\n",
       "      <td>4016.0</td>\n",
       "      <td>19242260.0</td>\n",
       "      <td>2522.0</td>\n",
       "      <td>범죄</td>\n",
       "      <td>청소년관람불가</td>\n",
       "      <td>독립/예술영화</td>\n",
       "    </tr>\n",
       "    <tr>\n",
       "      <th>34</th>\n",
       "      <td>35</td>\n",
       "      <td>허슬러</td>\n",
       "      <td>로렌 스카파리아</td>\n",
       "      <td>NaN</td>\n",
       "      <td>(유)조이앤시네마</td>\n",
       "      <td>(주)제이앤씨미디어그룹,TCO(주)더콘텐츠온</td>\n",
       "      <td>20191127</td>\n",
       "      <td>개봉영화</td>\n",
       "      <td>장편</td>\n",
       "      <td>미국</td>\n",
       "      <td>445.0</td>\n",
       "      <td>1730000.0</td>\n",
       "      <td>262.0</td>\n",
       "      <td>1307000.0</td>\n",
       "      <td>175.0</td>\n",
       "      <td>범죄</td>\n",
       "      <td>청소년관람불가</td>\n",
       "      <td>일반영화</td>\n",
       "    </tr>\n",
       "    <tr>\n",
       "      <th>36</th>\n",
       "      <td>37</td>\n",
       "      <td>삼촌</td>\n",
       "      <td>김형진</td>\n",
       "      <td>영화사 진</td>\n",
       "      <td>NaN</td>\n",
       "      <td>(주)드림팩트엔터테인먼트</td>\n",
       "      <td>20191128</td>\n",
       "      <td>개봉영화</td>\n",
       "      <td>장편</td>\n",
       "      <td>한국</td>\n",
       "      <td>10.0</td>\n",
       "      <td>10000.0</td>\n",
       "      <td>1.0</td>\n",
       "      <td>10000.0</td>\n",
       "      <td>1.0</td>\n",
       "      <td>미스터리</td>\n",
       "      <td>청소년관람불가</td>\n",
       "      <td>독립/예술영화</td>\n",
       "    </tr>\n",
       "  </tbody>\n",
       "</table>\n",
       "</div>"
      ],
      "text/plain": [
       "    NO    MOVIE_NM  DRCTR_NM MAKR_NM INCME_CMPNY_NM            DISTB_CMPNY_NM  \\\n",
       "14  15  더 킹: 헨리 5세   데이비드 미쇼     NaN            NaN                   판씨네마(주)   \n",
       "15  16         경계선    알리 아바시     NaN      (유)조이앤시네마              (주)제이앤씨미디어그룹   \n",
       "24  25       아이리시맨  마틴 스코세이지     NaN            NaN                   판씨네마(주)   \n",
       "34  35         허슬러  로렌 스카파리아     NaN      (유)조이앤시네마  (주)제이앤씨미디어그룹,TCO(주)더콘텐츠온   \n",
       "36  37          삼촌       김형진   영화사 진            NaN             (주)드림팩트엔터테인먼트   \n",
       "\n",
       "      OPN_DE MOVIE_TY_NM MOVIE_STLE_NM NLTY_NM  TOT_SCRN_CO  SALES_PRICE  \\\n",
       "14  20191023        개봉영화            장편    네덜란드        146.0     650000.0   \n",
       "15  20191024        개봉영화            장편     스웨덴         48.0    1765000.0   \n",
       "24  20191120        개봉영화            장편      미국         68.0   27717180.0   \n",
       "34  20191127        개봉영화            장편      미국        445.0    1730000.0   \n",
       "36  20191128        개봉영화            장편      한국         10.0      10000.0   \n",
       "\n",
       "    VIEWNG_NMPR_CO  SEOUL_SALES_PRICE  SEOUL_VIEWNG_NMPR_CO GENRE_NM  GRAD_NM  \\\n",
       "14           107.0                0.0                   0.0      드라마  청소년관람불가   \n",
       "15           214.0          1765000.0                 214.0      판타지  청소년관람불가   \n",
       "24          4016.0         19242260.0                2522.0       범죄  청소년관람불가   \n",
       "34           262.0          1307000.0                 175.0       범죄  청소년관람불가   \n",
       "36             1.0            10000.0                   1.0     미스터리  청소년관람불가   \n",
       "\n",
       "   MOVIE_SDIV_NM  \n",
       "14       독립/예술영화  \n",
       "15       독립/예술영화  \n",
       "24       독립/예술영화  \n",
       "34          일반영화  \n",
       "36       독립/예술영화  "
      ]
     },
     "execution_count": 17,
     "metadata": {},
     "output_type": "execute_result"
    }
   ],
   "source": [
    "movie_grad.head()"
   ]
  },
  {
   "cell_type": "code",
   "execution_count": 15,
   "id": "2ba7c1c9",
   "metadata": {
    "ExecuteTime": {
     "end_time": "2022-12-15T03:56:45.408415Z",
     "start_time": "2022-12-15T03:56:45.334704Z"
    }
   },
   "outputs": [
    {
     "name": "stderr",
     "output_type": "stream",
     "text": [
      "C:\\Users\\User\\AppData\\Local\\Temp\\ipykernel_3112\\3442685526.py:1: UserWarning: Boolean Series key will be reindexed to match DataFrame index.\n",
      "  movie_grad[(movie['NLTY_NM']=='한국')]['VIEWNG_NMPR_CO'].describe()\n"
     ]
    },
    {
     "data": {
      "text/plain": [
       "count      1562.000000\n",
       "mean        498.894366\n",
       "std       15909.987531\n",
       "min           1.000000\n",
       "25%           1.000000\n",
       "50%           1.000000\n",
       "75%          20.000000\n",
       "max      626815.000000\n",
       "Name: VIEWNG_NMPR_CO, dtype: float64"
      ]
     },
     "execution_count": 15,
     "metadata": {},
     "output_type": "execute_result"
    }
   ],
   "source": [
    "movie_grad[(movie['NLTY_NM']=='한국')]['VIEWNG_NMPR_CO'].describe()"
   ]
  },
  {
   "cell_type": "code",
   "execution_count": 16,
   "id": "e276a0af",
   "metadata": {
    "ExecuteTime": {
     "end_time": "2022-12-15T03:58:14.469260Z",
     "start_time": "2022-12-15T03:58:14.386692Z"
    }
   },
   "outputs": [
    {
     "name": "stderr",
     "output_type": "stream",
     "text": [
      "C:\\Users\\User\\AppData\\Local\\Temp\\ipykernel_3112\\518106391.py:1: UserWarning: Boolean Series key will be reindexed to match DataFrame index.\n",
      "  movie_grad[(movie['NLTY_NM']=='한국')]['TOT_SCRN_CO'].describe()\n"
     ]
    },
    {
     "data": {
      "text/plain": [
       "count    1571.000000\n",
       "mean        6.448759\n",
       "std        39.739395\n",
       "min         1.000000\n",
       "25%         1.000000\n",
       "50%         1.000000\n",
       "75%         1.000000\n",
       "max       996.000000\n",
       "Name: TOT_SCRN_CO, dtype: float64"
      ]
     },
     "execution_count": 16,
     "metadata": {},
     "output_type": "execute_result"
    }
   ],
   "source": [
    "movie_grad[(movie['NLTY_NM']=='한국')]['TOT_SCRN_CO'].describe()"
   ]
  },
  {
   "cell_type": "markdown",
   "id": "48dc2b13",
   "metadata": {},
   "source": [
    "* 한국에서 만들어진 청소년 관람 불가 영화의 경우, 총 스크린 수 3사분위 수가 1이고, 관람객 수도 20이기 때문에 제외"
   ]
  }
 ],
 "metadata": {
  "kernelspec": {
   "display_name": "Python 3 (ipykernel)",
   "language": "python",
   "name": "python3"
  },
  "language_info": {
   "codemirror_mode": {
    "name": "ipython",
    "version": 3
   },
   "file_extension": ".py",
   "mimetype": "text/x-python",
   "name": "python",
   "nbconvert_exporter": "python",
   "pygments_lexer": "ipython3",
   "version": "3.9.12"
  }
 },
 "nbformat": 4,
 "nbformat_minor": 5
}
