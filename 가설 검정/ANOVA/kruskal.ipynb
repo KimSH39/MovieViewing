{
 "cells": [
  {
   "cell_type": "code",
   "execution_count": 32,
   "metadata": {},
   "outputs": [],
   "source": [
    "import pandas as pd\n",
    "import seaborn as sns\n",
    "import numpy as np\n",
    "from scipy import stats\n",
    "import matplotlib.pyplot as plt\n",
    "\n",
    "data=pd.read_csv('..\\\\..\\\\dataPreprocessing\\\\k_movie.csv')"
   ]
  },
  {
   "cell_type": "code",
   "execution_count": 33,
   "metadata": {},
   "outputs": [
    {
     "data": {
      "text/html": [
       "<div>\n",
       "<style scoped>\n",
       "    .dataframe tbody tr th:only-of-type {\n",
       "        vertical-align: middle;\n",
       "    }\n",
       "\n",
       "    .dataframe tbody tr th {\n",
       "        vertical-align: top;\n",
       "    }\n",
       "\n",
       "    .dataframe thead th {\n",
       "        text-align: right;\n",
       "    }\n",
       "</style>\n",
       "<table border=\"1\" class=\"dataframe\">\n",
       "  <thead>\n",
       "    <tr style=\"text-align: right;\">\n",
       "      <th></th>\n",
       "      <th>Unnamed: 0</th>\n",
       "      <th>MOVIE_NM</th>\n",
       "      <th>DRCTR_NM</th>\n",
       "      <th>MAKR_NM</th>\n",
       "      <th>DISTB_CMPNY_NM</th>\n",
       "      <th>OPN_DE</th>\n",
       "      <th>MOVIE_TY_NM</th>\n",
       "      <th>MOVIE_STLE_NM</th>\n",
       "      <th>NLTY_NM</th>\n",
       "      <th>TOT_SCRN_CO</th>\n",
       "      <th>VIEWNG_NMPR_CO</th>\n",
       "      <th>SEOUL_VIEWNG_NMPR_CO</th>\n",
       "      <th>GENRE_NM</th>\n",
       "      <th>GRAD_NM</th>\n",
       "      <th>MOVIE_SDIV_NM</th>\n",
       "      <th>Unnamed: 0.1</th>\n",
       "      <th>CRITIC_RT</th>\n",
       "      <th>VIEWER_RT</th>\n",
       "    </tr>\n",
       "  </thead>\n",
       "  <tbody>\n",
       "    <tr>\n",
       "      <th>0</th>\n",
       "      <td>0</td>\n",
       "      <td>산상수훈</td>\n",
       "      <td>유영의</td>\n",
       "      <td>(주)그란</td>\n",
       "      <td>이언픽쳐스,(주)그란</td>\n",
       "      <td>20171207</td>\n",
       "      <td>개봉영화</td>\n",
       "      <td>장편</td>\n",
       "      <td>한국</td>\n",
       "      <td>71.0</td>\n",
       "      <td>284.0</td>\n",
       "      <td>284.000000</td>\n",
       "      <td>드라마</td>\n",
       "      <td>전체관람가</td>\n",
       "      <td>독립/예술영화</td>\n",
       "      <td>NaN</td>\n",
       "      <td>3.00</td>\n",
       "      <td>6.30</td>\n",
       "    </tr>\n",
       "    <tr>\n",
       "      <th>1</th>\n",
       "      <td>1</td>\n",
       "      <td>교회오빠</td>\n",
       "      <td>이호경</td>\n",
       "      <td>KBS,커넥트픽쳐스(주)</td>\n",
       "      <td>커넥트픽쳐스(주)</td>\n",
       "      <td>20190516</td>\n",
       "      <td>개봉영화</td>\n",
       "      <td>장편</td>\n",
       "      <td>한국</td>\n",
       "      <td>200.0</td>\n",
       "      <td>154.0</td>\n",
       "      <td>154.000000</td>\n",
       "      <td>다큐멘터리</td>\n",
       "      <td>전체관람가</td>\n",
       "      <td>독립/예술영화</td>\n",
       "      <td>1.0</td>\n",
       "      <td>5.59</td>\n",
       "      <td>9.31</td>\n",
       "    </tr>\n",
       "    <tr>\n",
       "      <th>2</th>\n",
       "      <td>2</td>\n",
       "      <td>기생충</td>\n",
       "      <td>봉준호</td>\n",
       "      <td>(주)바른손이앤에이</td>\n",
       "      <td>(주)씨제이이엔엠</td>\n",
       "      <td>20190530</td>\n",
       "      <td>개봉영화</td>\n",
       "      <td>장편</td>\n",
       "      <td>한국</td>\n",
       "      <td>1948.0</td>\n",
       "      <td>227811.0</td>\n",
       "      <td>97354.000000</td>\n",
       "      <td>드라마</td>\n",
       "      <td>15세이상관람가</td>\n",
       "      <td>일반영화</td>\n",
       "      <td>2.0</td>\n",
       "      <td>9.06</td>\n",
       "      <td>8.49</td>\n",
       "    </tr>\n",
       "    <tr>\n",
       "      <th>3</th>\n",
       "      <td>3</td>\n",
       "      <td>엑시트</td>\n",
       "      <td>이상근</td>\n",
       "      <td>(주)외유내강,(주)필름케이</td>\n",
       "      <td>(주)씨제이이엔엠</td>\n",
       "      <td>20190731</td>\n",
       "      <td>개봉영화</td>\n",
       "      <td>장편</td>\n",
       "      <td>한국</td>\n",
       "      <td>1660.0</td>\n",
       "      <td>40.0</td>\n",
       "      <td>26656.504132</td>\n",
       "      <td>코미디</td>\n",
       "      <td>12세이상관람가</td>\n",
       "      <td>일반영화</td>\n",
       "      <td>3.0</td>\n",
       "      <td>5.59</td>\n",
       "      <td>7.44</td>\n",
       "    </tr>\n",
       "    <tr>\n",
       "      <th>4</th>\n",
       "      <td>4</td>\n",
       "      <td>김복동</td>\n",
       "      <td>송원근</td>\n",
       "      <td>한국탐사저널리즘센터</td>\n",
       "      <td>(주)엣나인필름</td>\n",
       "      <td>20190808</td>\n",
       "      <td>개봉영화</td>\n",
       "      <td>장편</td>\n",
       "      <td>한국</td>\n",
       "      <td>366.0</td>\n",
       "      <td>110.0</td>\n",
       "      <td>26656.504132</td>\n",
       "      <td>다큐멘터리</td>\n",
       "      <td>12세이상관람가</td>\n",
       "      <td>독립/예술영화</td>\n",
       "      <td>4.0</td>\n",
       "      <td>6.60</td>\n",
       "      <td>8.83</td>\n",
       "    </tr>\n",
       "    <tr>\n",
       "      <th>...</th>\n",
       "      <td>...</td>\n",
       "      <td>...</td>\n",
       "      <td>...</td>\n",
       "      <td>...</td>\n",
       "      <td>...</td>\n",
       "      <td>...</td>\n",
       "      <td>...</td>\n",
       "      <td>...</td>\n",
       "      <td>...</td>\n",
       "      <td>...</td>\n",
       "      <td>...</td>\n",
       "      <td>...</td>\n",
       "      <td>...</td>\n",
       "      <td>...</td>\n",
       "      <td>...</td>\n",
       "      <td>...</td>\n",
       "      <td>...</td>\n",
       "      <td>...</td>\n",
       "    </tr>\n",
       "    <tr>\n",
       "      <th>378</th>\n",
       "      <td>530</td>\n",
       "      <td>2차 송환</td>\n",
       "      <td>김동원</td>\n",
       "      <td>푸른영상</td>\n",
       "      <td>(주)시네마달</td>\n",
       "      <td>2022-09-</td>\n",
       "      <td>개봉영화</td>\n",
       "      <td>장편</td>\n",
       "      <td>한국</td>\n",
       "      <td>16.0</td>\n",
       "      <td>415.0</td>\n",
       "      <td>373.000000</td>\n",
       "      <td>다큐멘터리</td>\n",
       "      <td>12세이상관람가</td>\n",
       "      <td>독립/예술영화</td>\n",
       "      <td>530.0</td>\n",
       "      <td>8.20</td>\n",
       "      <td>6.44</td>\n",
       "    </tr>\n",
       "    <tr>\n",
       "      <th>379</th>\n",
       "      <td>531</td>\n",
       "      <td>EBS친구들 씽씽 댄스파티</td>\n",
       "      <td>NaN</td>\n",
       "      <td>한국교육방송공사 EBS</td>\n",
       "      <td>(주)에픽캔</td>\n",
       "      <td>2022-09-</td>\n",
       "      <td>개봉영화</td>\n",
       "      <td>장편</td>\n",
       "      <td>한국</td>\n",
       "      <td>1.0</td>\n",
       "      <td>60.0</td>\n",
       "      <td>22.000000</td>\n",
       "      <td>가족</td>\n",
       "      <td>전체관람가</td>\n",
       "      <td>일반영화</td>\n",
       "      <td>531.0</td>\n",
       "      <td>5.59</td>\n",
       "      <td>7.44</td>\n",
       "    </tr>\n",
       "    <tr>\n",
       "      <th>380</th>\n",
       "      <td>537</td>\n",
       "      <td>당신의 이웃은 친절하지 않다</td>\n",
       "      <td>안드로</td>\n",
       "      <td>(주)빅픽처</td>\n",
       "      <td>주식회사 씨엠닉스</td>\n",
       "      <td>2022-09-</td>\n",
       "      <td>개봉영화</td>\n",
       "      <td>장편</td>\n",
       "      <td>한국</td>\n",
       "      <td>9.0</td>\n",
       "      <td>395.0</td>\n",
       "      <td>250.000000</td>\n",
       "      <td>미스터리</td>\n",
       "      <td>15세이상관람가</td>\n",
       "      <td>독립/예술영화</td>\n",
       "      <td>537.0</td>\n",
       "      <td>5.59</td>\n",
       "      <td>7.47</td>\n",
       "    </tr>\n",
       "    <tr>\n",
       "      <th>381</th>\n",
       "      <td>541</td>\n",
       "      <td>부적: 남의 운을 빼앗는 자</td>\n",
       "      <td>김세성</td>\n",
       "      <td>머지션스토어</td>\n",
       "      <td>(주)트리플픽쳐스</td>\n",
       "      <td>2022-09-</td>\n",
       "      <td>개봉영화</td>\n",
       "      <td>장편</td>\n",
       "      <td>한국</td>\n",
       "      <td>6.0</td>\n",
       "      <td>662.0</td>\n",
       "      <td>336.000000</td>\n",
       "      <td>액션</td>\n",
       "      <td>12세이상관람가</td>\n",
       "      <td>독립/예술영화</td>\n",
       "      <td>541.0</td>\n",
       "      <td>5.59</td>\n",
       "      <td>8.84</td>\n",
       "    </tr>\n",
       "    <tr>\n",
       "      <th>382</th>\n",
       "      <td>549</td>\n",
       "      <td>주연</td>\n",
       "      <td>송원준</td>\n",
       "      <td>영화사 퐑</td>\n",
       "      <td>(주)마노엔터테인먼트</td>\n",
       "      <td>2022-09-</td>\n",
       "      <td>개봉영화</td>\n",
       "      <td>장편</td>\n",
       "      <td>한국</td>\n",
       "      <td>20.0</td>\n",
       "      <td>363.0</td>\n",
       "      <td>302.000000</td>\n",
       "      <td>드라마</td>\n",
       "      <td>12세이상관람가</td>\n",
       "      <td>독립/예술영화</td>\n",
       "      <td>549.0</td>\n",
       "      <td>5.59</td>\n",
       "      <td>8.04</td>\n",
       "    </tr>\n",
       "  </tbody>\n",
       "</table>\n",
       "<p>383 rows × 18 columns</p>\n",
       "</div>"
      ],
      "text/plain": [
       "     Unnamed: 0         MOVIE_NM DRCTR_NM          MAKR_NM DISTB_CMPNY_NM  \\\n",
       "0             0             산상수훈      유영의            (주)그란    이언픽쳐스,(주)그란   \n",
       "1             1             교회오빠      이호경    KBS,커넥트픽쳐스(주)      커넥트픽쳐스(주)   \n",
       "2             2              기생충      봉준호       (주)바른손이앤에이      (주)씨제이이엔엠   \n",
       "3             3              엑시트      이상근  (주)외유내강,(주)필름케이      (주)씨제이이엔엠   \n",
       "4             4              김복동      송원근       한국탐사저널리즘센터       (주)엣나인필름   \n",
       "..          ...              ...      ...              ...            ...   \n",
       "378         530            2차 송환      김동원             푸른영상        (주)시네마달   \n",
       "379         531   EBS친구들 씽씽 댄스파티      NaN     한국교육방송공사 EBS         (주)에픽캔   \n",
       "380         537  당신의 이웃은 친절하지 않다      안드로           (주)빅픽처      주식회사 씨엠닉스   \n",
       "381         541  부적: 남의 운을 빼앗는 자      김세성           머지션스토어      (주)트리플픽쳐스   \n",
       "382         549               주연      송원준            영화사 퐑    (주)마노엔터테인먼트   \n",
       "\n",
       "       OPN_DE MOVIE_TY_NM MOVIE_STLE_NM NLTY_NM  TOT_SCRN_CO  VIEWNG_NMPR_CO  \\\n",
       "0    20171207        개봉영화            장편      한국         71.0           284.0   \n",
       "1    20190516        개봉영화            장편      한국        200.0           154.0   \n",
       "2    20190530        개봉영화            장편      한국       1948.0        227811.0   \n",
       "3    20190731        개봉영화            장편      한국       1660.0            40.0   \n",
       "4    20190808        개봉영화            장편      한국        366.0           110.0   \n",
       "..        ...         ...           ...     ...          ...             ...   \n",
       "378  2022-09-        개봉영화            장편      한국         16.0           415.0   \n",
       "379  2022-09-        개봉영화            장편      한국          1.0            60.0   \n",
       "380  2022-09-        개봉영화            장편      한국          9.0           395.0   \n",
       "381  2022-09-        개봉영화            장편      한국          6.0           662.0   \n",
       "382  2022-09-        개봉영화            장편      한국         20.0           363.0   \n",
       "\n",
       "     SEOUL_VIEWNG_NMPR_CO GENRE_NM   GRAD_NM MOVIE_SDIV_NM  Unnamed: 0.1  \\\n",
       "0              284.000000      드라마     전체관람가       독립/예술영화           NaN   \n",
       "1              154.000000    다큐멘터리     전체관람가       독립/예술영화           1.0   \n",
       "2            97354.000000      드라마  15세이상관람가          일반영화           2.0   \n",
       "3            26656.504132      코미디  12세이상관람가          일반영화           3.0   \n",
       "4            26656.504132    다큐멘터리  12세이상관람가       독립/예술영화           4.0   \n",
       "..                    ...      ...       ...           ...           ...   \n",
       "378            373.000000    다큐멘터리  12세이상관람가       독립/예술영화         530.0   \n",
       "379             22.000000       가족     전체관람가          일반영화         531.0   \n",
       "380            250.000000     미스터리  15세이상관람가       독립/예술영화         537.0   \n",
       "381            336.000000       액션  12세이상관람가       독립/예술영화         541.0   \n",
       "382            302.000000      드라마  12세이상관람가       독립/예술영화         549.0   \n",
       "\n",
       "     CRITIC_RT  VIEWER_RT  \n",
       "0         3.00       6.30  \n",
       "1         5.59       9.31  \n",
       "2         9.06       8.49  \n",
       "3         5.59       7.44  \n",
       "4         6.60       8.83  \n",
       "..         ...        ...  \n",
       "378       8.20       6.44  \n",
       "379       5.59       7.44  \n",
       "380       5.59       7.47  \n",
       "381       5.59       8.84  \n",
       "382       5.59       8.04  \n",
       "\n",
       "[383 rows x 18 columns]"
      ]
     },
     "execution_count": 33,
     "metadata": {},
     "output_type": "execute_result"
    }
   ],
   "source": [
    "data"
   ]
  },
  {
   "cell_type": "code",
   "execution_count": 34,
   "metadata": {},
   "outputs": [
    {
     "name": "stdout",
     "output_type": "stream",
     "text": [
      "c:\\Users\\user\\anaconda3\\lib\\site-packages\\matplotlib\\mpl-data\\matplotlibrc\n",
      "C:\\Users\\user\\.matplotlib\n"
     ]
    }
   ],
   "source": [
    "import matplotlib as mpl\n",
    "print(mpl.matplotlib_fname())\n",
    "print(mpl.get_cachedir())\n",
    "mpl.rcParams['font.family']='NanumGothic'"
   ]
  },
  {
   "cell_type": "code",
   "execution_count": 31,
   "metadata": {},
   "outputs": [],
   "source": [
    "a_movie = data.loc[data[\"MOVIE_SDIV_NM\"] == \"일반영화\"]\n",
    "b_movie = data.loc[data[\"MOVIE_SDIV_NM\"] == \"독립/예술영화\"]"
   ]
  },
  {
   "cell_type": "code",
   "execution_count": 46,
   "metadata": {},
   "outputs": [
    {
     "name": "stdout",
     "output_type": "stream",
     "text": [
      "1731.3587310528246 0.0\n"
     ]
    }
   ],
   "source": [
    "from scipy.stats import bartlett\n",
    "# 등분산성 성립 안 됨\n",
    "stat, p = bartlett(a_movie[a_movie[\"VIEWNG_NMPR_CO\"]>0][\"VIEWNG_NMPR_CO\"], b_movie[b_movie[\"VIEWNG_NMPR_CO\"]>0][\"VIEWNG_NMPR_CO\"])\n",
    "print(stat, p)"
   ]
  },
  {
   "cell_type": "code",
   "execution_count": 45,
   "metadata": {},
   "outputs": [
    {
     "name": "stdout",
     "output_type": "stream",
     "text": [
      "0.000017\n"
     ]
    }
   ],
   "source": [
    "statistic, pvalue = stats.ttest_ind(a_movie[a_movie[\"VIEWNG_NMPR_CO\"]>0][\"VIEWNG_NMPR_CO\"], b_movie[b_movie[\"VIEWNG_NMPR_CO\"]>0][\"VIEWNG_NMPR_CO\"], equal_var=False)\n",
    "print(format(pvalue, 'f'))"
   ]
  },
  {
   "cell_type": "code",
   "execution_count": 75,
   "metadata": {},
   "outputs": [
    {
     "data": {
      "text/plain": [
       "array(['장편', '단편', '옴니버스'], dtype=object)"
      ]
     },
     "execution_count": 75,
     "metadata": {},
     "output_type": "execute_result"
    }
   ],
   "source": [
    "data[\"MOVIE_STLE_NM\"].unique()"
   ]
  },
  {
   "cell_type": "code",
   "execution_count": 76,
   "metadata": {},
   "outputs": [],
   "source": [
    "movie_time1 = data.loc[data[\"MOVIE_STLE_NM\"] == \"장편\"]\n",
    "movie_time2 = data.loc[data[\"MOVIE_STLE_NM\"] == \"단편\"]\n",
    "movie_time3 = data.loc[data[\"MOVIE_STLE_NM\"] == \"옴니버스\"]"
   ]
  },
  {
   "cell_type": "code",
   "execution_count": 90,
   "metadata": {},
   "outputs": [
    {
     "name": "stdout",
     "output_type": "stream",
     "text": [
      "nan nan\n"
     ]
    },
    {
     "name": "stderr",
     "output_type": "stream",
     "text": [
      "c:\\Users\\user\\anaconda3\\lib\\site-packages\\scipy\\stats\\_morestats.py:2508: RuntimeWarning: divide by zero encountered in divide\n",
      "  denom = 1.0 + 1.0/(3*(k - 1)) * ((np.sum(1.0/(Ni - 1.0), axis=0)) -\n"
     ]
    }
   ],
   "source": [
    "stat_time, pvalue_time = bartlett(\n",
    "  movie_time1[movie_time1[\"VIEWNG_NMPR_CO\"]>0][\"VIEWNG_NMPR_CO\"],\n",
    "  movie_time2[movie_time2[\"VIEWNG_NMPR_CO\"]>0][\"VIEWNG_NMPR_CO\"],\n",
    "  movie_time3[movie_time3[\"VIEWNG_NMPR_CO\"]>0][\"VIEWNG_NMPR_CO\"]\n",
    ")\n",
    "\n",
    "print(stat_time, pvalue_time)"
   ]
  },
  {
   "cell_type": "code",
   "execution_count": 91,
   "metadata": {},
   "outputs": [
    {
     "ename": "TypeError",
     "evalue": "tuple indices must be integers or slices, not Series",
     "output_type": "error",
     "traceback": [
      "\u001b[1;31m---------------------------------------------------------------------------\u001b[0m",
      "\u001b[1;31mTypeError\u001b[0m                                 Traceback (most recent call last)",
      "\u001b[1;32m<ipython-input-91-8eb0b46a911c>\u001b[0m in \u001b[0;36m<module>\u001b[1;34m\u001b[0m\n\u001b[1;32m----> 1\u001b[1;33m statistic_time, pvalue_time = stats.ttest_ind(\n\u001b[0m\u001b[0;32m      2\u001b[0m   \u001b[0mmovie_time1\u001b[0m\u001b[1;33m[\u001b[0m\u001b[0mmovie_time1\u001b[0m\u001b[1;33m[\u001b[0m\u001b[1;34m\"VIEWNG_NMPR_CO\"\u001b[0m\u001b[1;33m]\u001b[0m\u001b[1;33m>\u001b[0m\u001b[1;36m0\u001b[0m\u001b[1;33m]\u001b[0m\u001b[1;33m[\u001b[0m\u001b[1;34m\"VIEWNG_NMPR_CO\"\u001b[0m\u001b[1;33m]\u001b[0m\u001b[1;33m,\u001b[0m\u001b[1;33m\u001b[0m\u001b[1;33m\u001b[0m\u001b[0m\n\u001b[0;32m      3\u001b[0m   \u001b[0mmovie_time2\u001b[0m\u001b[1;33m[\u001b[0m\u001b[0mmovie_time2\u001b[0m\u001b[1;33m[\u001b[0m\u001b[1;34m\"VIEWNG_NMPR_CO\"\u001b[0m\u001b[1;33m]\u001b[0m\u001b[1;33m>\u001b[0m\u001b[1;36m0\u001b[0m\u001b[1;33m]\u001b[0m\u001b[1;33m[\u001b[0m\u001b[1;34m\"VIEWNG_NMPR_CO\"\u001b[0m\u001b[1;33m]\u001b[0m\u001b[1;33m,\u001b[0m\u001b[1;33m\u001b[0m\u001b[1;33m\u001b[0m\u001b[0m\n\u001b[0;32m      4\u001b[0m   \u001b[0mmovie_time3\u001b[0m\u001b[1;33m[\u001b[0m\u001b[0mmovie_time3\u001b[0m\u001b[1;33m[\u001b[0m\u001b[1;34m\"VIEWNG_NMPR_CO\"\u001b[0m\u001b[1;33m]\u001b[0m\u001b[1;33m>\u001b[0m\u001b[1;36m0\u001b[0m\u001b[1;33m]\u001b[0m\u001b[1;33m[\u001b[0m\u001b[1;34m\"VIEWNG_NMPR_CO\"\u001b[0m\u001b[1;33m]\u001b[0m\u001b[1;33m\u001b[0m\u001b[1;33m\u001b[0m\u001b[0m\n\u001b[0;32m      5\u001b[0m )\n",
      "\u001b[1;32mc:\\Users\\user\\anaconda3\\lib\\site-packages\\scipy\\stats\\_stats_py.py\u001b[0m in \u001b[0;36mttest_ind\u001b[1;34m(a, b, axis, equal_var, nan_policy, permutations, random_state, alternative, trim)\u001b[0m\n\u001b[0;32m   6581\u001b[0m \u001b[1;33m\u001b[0m\u001b[0m\n\u001b[0;32m   6582\u001b[0m     \u001b[1;32melse\u001b[0m\u001b[1;33m:\u001b[0m\u001b[1;33m\u001b[0m\u001b[1;33m\u001b[0m\u001b[0m\n\u001b[1;32m-> 6583\u001b[1;33m         \u001b[0mn1\u001b[0m \u001b[1;33m=\u001b[0m \u001b[0ma\u001b[0m\u001b[1;33m.\u001b[0m\u001b[0mshape\u001b[0m\u001b[1;33m[\u001b[0m\u001b[0maxis\u001b[0m\u001b[1;33m]\u001b[0m\u001b[1;33m\u001b[0m\u001b[1;33m\u001b[0m\u001b[0m\n\u001b[0m\u001b[0;32m   6584\u001b[0m         \u001b[0mn2\u001b[0m \u001b[1;33m=\u001b[0m \u001b[0mb\u001b[0m\u001b[1;33m.\u001b[0m\u001b[0mshape\u001b[0m\u001b[1;33m[\u001b[0m\u001b[0maxis\u001b[0m\u001b[1;33m]\u001b[0m\u001b[1;33m\u001b[0m\u001b[1;33m\u001b[0m\u001b[0m\n\u001b[0;32m   6585\u001b[0m \u001b[1;33m\u001b[0m\u001b[0m\n",
      "\u001b[1;31mTypeError\u001b[0m: tuple indices must be integers or slices, not Series"
     ]
    }
   ],
   "source": [
    "statistic_time, pvalue_time = stats.ttest_ind(\n",
    "  movie_time1[movie_time1[\"VIEWNG_NMPR_CO\"]>0][\"VIEWNG_NMPR_CO\"],\n",
    "  movie_time2[movie_time2[\"VIEWNG_NMPR_CO\"]>0][\"VIEWNG_NMPR_CO\"],\n",
    "  movie_time3[movie_time3[\"VIEWNG_NMPR_CO\"]>0][\"VIEWNG_NMPR_CO\"]\n",
    ")\n",
    "\n",
    "print(statistic_time, pvalue_time)"
   ]
  },
  {
   "cell_type": "code",
   "execution_count": 89,
   "metadata": {},
   "outputs": [
    {
     "data": {
      "text/plain": [
       "array(['드라마', '다큐멘터리', '코미디', '미스터리', '범죄', '멜로/로맨스', '스릴러', '어드벤처',\n",
       "       '애니메이션', '사극', '기타', '액션', '공포(호러)', '판타지', '공연', '가족', '뮤지컬',\n",
       "       'SF'], dtype=object)"
      ]
     },
     "execution_count": 89,
     "metadata": {},
     "output_type": "execute_result"
    }
   ],
   "source": [
    "data[\"GENRE_NM\"].unique()"
   ]
  },
  {
   "cell_type": "code",
   "execution_count": 71,
   "metadata": {},
   "outputs": [],
   "source": [
    "movie_1 = data.loc[data[\"GENRE_NM\"] == \"드라마\"]\n",
    "movie_2 = data.loc[data[\"GENRE_NM\"] == \"다큐멘터리\"]\n",
    "movie_3 = data.loc[data[\"GENRE_NM\"] == \"코미디\"]\n",
    "movie_4 = data.loc[data[\"GENRE_NM\"] == \"미스터리\"]\n",
    "movie_5 = data.loc[data[\"GENRE_NM\"] == \"범죄\"]\n",
    "\n",
    "movie_6 = data.loc[data[\"GENRE_NM\"] == \"멜로/로맨스\"]\n",
    "movie_7 = data.loc[data[\"GENRE_NM\"] == \"스릴러\"]\n",
    "movie_8 = data.loc[data[\"GENRE_NM\"] == \"어드벤처\"]\n",
    "movie_9 = data.loc[data[\"GENRE_NM\"] == \"애니메이션\"]\n",
    "movie_10 = data.loc[data[\"GENRE_NM\"] == \"사극\"]\n",
    "\n",
    "movie_11 = data.loc[data[\"GENRE_NM\"] == \"기타\"]\n",
    "movie_12 = data.loc[data[\"GENRE_NM\"] == \"액션\"]\n",
    "movie_13 = data.loc[data[\"GENRE_NM\"] == \"공포(호러)\"]\n",
    "movie_14 = data.loc[data[\"GENRE_NM\"] == \"판타지\"]\n",
    "movie_15 = data.loc[data[\"GENRE_NM\"] == \"공연\"]\n",
    "\n",
    "movie_16 = data.loc[data[\"GENRE_NM\"] == \"가족\"]\n",
    "movie_17 = data.loc[data[\"GENRE_NM\"] == \"뮤지컬\"]\n",
    "movie_18 = data.loc[data[\"GENRE_NM\"] == \"SF\"]"
   ]
  },
  {
   "cell_type": "code",
   "execution_count": 92,
   "metadata": {},
   "outputs": [
    {
     "name": "stderr",
     "output_type": "stream",
     "text": [
      "c:\\Users\\user\\anaconda3\\lib\\site-packages\\scipy\\stats\\_morestats.py:2508: RuntimeWarning: divide by zero encountered in divide\n",
      "  denom = 1.0 + 1.0/(3*(k - 1)) * ((np.sum(1.0/(Ni - 1.0), axis=0)) -\n"
     ]
    }
   ],
   "source": [
    "stat_genre, pvalue_genre = bartlett(\n",
    "    movie_1[movie_1[\"VIEWNG_NMPR_CO\"]>0][\"VIEWNG_NMPR_CO\"],\n",
    "    movie_2[movie_2[\"VIEWNG_NMPR_CO\"]>0][\"VIEWNG_NMPR_CO\"],\n",
    "    movie_3[movie_3[\"VIEWNG_NMPR_CO\"]>0][\"VIEWNG_NMPR_CO\"],\n",
    "    movie_4[movie_4[\"VIEWNG_NMPR_CO\"]>0][\"VIEWNG_NMPR_CO\"],\n",
    "    movie_5[movie_5[\"VIEWNG_NMPR_CO\"]>0][\"VIEWNG_NMPR_CO\"],\n",
    "\n",
    "    movie_6[movie_6[\"VIEWNG_NMPR_CO\"]>0][\"VIEWNG_NMPR_CO\"],\n",
    "    movie_7[movie_7[\"VIEWNG_NMPR_CO\"]>0][\"VIEWNG_NMPR_CO\"],\n",
    "    movie_8[movie_8[\"VIEWNG_NMPR_CO\"]>0][\"VIEWNG_NMPR_CO\"],\n",
    "    movie_9[movie_9[\"VIEWNG_NMPR_CO\"]>0][\"VIEWNG_NMPR_CO\"],\n",
    "    movie_10[movie_10[\"VIEWNG_NMPR_CO\"]>0][\"VIEWNG_NMPR_CO\"],\n",
    "\n",
    "    movie_11[movie_11[\"VIEWNG_NMPR_CO\"]>0][\"VIEWNG_NMPR_CO\"],\n",
    "    movie_12[movie_12[\"VIEWNG_NMPR_CO\"]>0][\"VIEWNG_NMPR_CO\"],\n",
    "    movie_13[movie_13[\"VIEWNG_NMPR_CO\"]>0][\"VIEWNG_NMPR_CO\"],\n",
    "    movie_14[movie_14[\"VIEWNG_NMPR_CO\"]>0][\"VIEWNG_NMPR_CO\"],\n",
    "    movie_15[movie_15[\"VIEWNG_NMPR_CO\"]>0][\"VIEWNG_NMPR_CO\"],\n",
    "\n",
    "    movie_16[movie_16[\"VIEWNG_NMPR_CO\"]>0][\"VIEWNG_NMPR_CO\"],\n",
    "    movie_17[movie_17[\"VIEWNG_NMPR_CO\"]>0][\"VIEWNG_NMPR_CO\"],\n",
    "    movie_18[movie_18[\"VIEWNG_NMPR_CO\"]>0][\"VIEWNG_NMPR_CO\"]\n",
    " )"
   ]
  },
  {
   "cell_type": "code",
   "execution_count": 93,
   "metadata": {},
   "outputs": [
    {
     "ename": "TypeError",
     "evalue": "ttest_ind() takes from 2 to 9 positional arguments but 18 were given",
     "output_type": "error",
     "traceback": [
      "\u001b[1;31m---------------------------------------------------------------------------\u001b[0m",
      "\u001b[1;31mTypeError\u001b[0m                                 Traceback (most recent call last)",
      "\u001b[1;32m<ipython-input-93-a02a1d3eb5f3>\u001b[0m in \u001b[0;36m<module>\u001b[1;34m\u001b[0m\n\u001b[1;32m----> 1\u001b[1;33m statistic_genre, pvalue_genre = stats.ttest_ind(\n\u001b[0m\u001b[0;32m      2\u001b[0m     \u001b[0mmovie_1\u001b[0m\u001b[1;33m[\u001b[0m\u001b[0mmovie_1\u001b[0m\u001b[1;33m[\u001b[0m\u001b[1;34m\"VIEWNG_NMPR_CO\"\u001b[0m\u001b[1;33m]\u001b[0m\u001b[1;33m>\u001b[0m\u001b[1;36m0\u001b[0m\u001b[1;33m]\u001b[0m\u001b[1;33m[\u001b[0m\u001b[1;34m\"VIEWNG_NMPR_CO\"\u001b[0m\u001b[1;33m]\u001b[0m\u001b[1;33m,\u001b[0m\u001b[1;33m\u001b[0m\u001b[1;33m\u001b[0m\u001b[0m\n\u001b[0;32m      3\u001b[0m     \u001b[0mmovie_2\u001b[0m\u001b[1;33m[\u001b[0m\u001b[0mmovie_2\u001b[0m\u001b[1;33m[\u001b[0m\u001b[1;34m\"VIEWNG_NMPR_CO\"\u001b[0m\u001b[1;33m]\u001b[0m\u001b[1;33m>\u001b[0m\u001b[1;36m0\u001b[0m\u001b[1;33m]\u001b[0m\u001b[1;33m[\u001b[0m\u001b[1;34m\"VIEWNG_NMPR_CO\"\u001b[0m\u001b[1;33m]\u001b[0m\u001b[1;33m,\u001b[0m\u001b[1;33m\u001b[0m\u001b[1;33m\u001b[0m\u001b[0m\n\u001b[0;32m      4\u001b[0m     \u001b[0mmovie_3\u001b[0m\u001b[1;33m[\u001b[0m\u001b[0mmovie_3\u001b[0m\u001b[1;33m[\u001b[0m\u001b[1;34m\"VIEWNG_NMPR_CO\"\u001b[0m\u001b[1;33m]\u001b[0m\u001b[1;33m>\u001b[0m\u001b[1;36m0\u001b[0m\u001b[1;33m]\u001b[0m\u001b[1;33m[\u001b[0m\u001b[1;34m\"VIEWNG_NMPR_CO\"\u001b[0m\u001b[1;33m]\u001b[0m\u001b[1;33m,\u001b[0m\u001b[1;33m\u001b[0m\u001b[1;33m\u001b[0m\u001b[0m\n\u001b[0;32m      5\u001b[0m     \u001b[0mmovie_4\u001b[0m\u001b[1;33m[\u001b[0m\u001b[0mmovie_4\u001b[0m\u001b[1;33m[\u001b[0m\u001b[1;34m\"VIEWNG_NMPR_CO\"\u001b[0m\u001b[1;33m]\u001b[0m\u001b[1;33m>\u001b[0m\u001b[1;36m0\u001b[0m\u001b[1;33m]\u001b[0m\u001b[1;33m[\u001b[0m\u001b[1;34m\"VIEWNG_NMPR_CO\"\u001b[0m\u001b[1;33m]\u001b[0m\u001b[1;33m,\u001b[0m\u001b[1;33m\u001b[0m\u001b[1;33m\u001b[0m\u001b[0m\n",
      "\u001b[1;31mTypeError\u001b[0m: ttest_ind() takes from 2 to 9 positional arguments but 18 were given"
     ]
    }
   ],
   "source": [
    "statistic_genre, pvalue_genre = stats.ttest_ind(\n",
    "    movie_1[movie_1[\"VIEWNG_NMPR_CO\"]>0][\"VIEWNG_NMPR_CO\"],\n",
    "    movie_2[movie_2[\"VIEWNG_NMPR_CO\"]>0][\"VIEWNG_NMPR_CO\"],\n",
    "    movie_3[movie_3[\"VIEWNG_NMPR_CO\"]>0][\"VIEWNG_NMPR_CO\"],\n",
    "    movie_4[movie_4[\"VIEWNG_NMPR_CO\"]>0][\"VIEWNG_NMPR_CO\"],\n",
    "    movie_5[movie_5[\"VIEWNG_NMPR_CO\"]>0][\"VIEWNG_NMPR_CO\"],\n",
    "\n",
    "    movie_6[movie_6[\"VIEWNG_NMPR_CO\"]>0][\"VIEWNG_NMPR_CO\"],\n",
    "    movie_7[movie_7[\"VIEWNG_NMPR_CO\"]>0][\"VIEWNG_NMPR_CO\"],\n",
    "    movie_8[movie_8[\"VIEWNG_NMPR_CO\"]>0][\"VIEWNG_NMPR_CO\"],\n",
    "    movie_9[movie_9[\"VIEWNG_NMPR_CO\"]>0][\"VIEWNG_NMPR_CO\"],\n",
    "    movie_10[movie_10[\"VIEWNG_NMPR_CO\"]>0][\"VIEWNG_NMPR_CO\"],\n",
    "\n",
    "    movie_11[movie_11[\"VIEWNG_NMPR_CO\"]>0][\"VIEWNG_NMPR_CO\"],\n",
    "    movie_12[movie_12[\"VIEWNG_NMPR_CO\"]>0][\"VIEWNG_NMPR_CO\"],\n",
    "    movie_13[movie_13[\"VIEWNG_NMPR_CO\"]>0][\"VIEWNG_NMPR_CO\"],\n",
    "    movie_14[movie_14[\"VIEWNG_NMPR_CO\"]>0][\"VIEWNG_NMPR_CO\"],\n",
    "    movie_15[movie_15[\"VIEWNG_NMPR_CO\"]>0][\"VIEWNG_NMPR_CO\"],\n",
    "\n",
    "    movie_16[movie_16[\"VIEWNG_NMPR_CO\"]>0][\"VIEWNG_NMPR_CO\"],\n",
    "    movie_17[movie_17[\"VIEWNG_NMPR_CO\"]>0][\"VIEWNG_NMPR_CO\"],\n",
    "    movie_18[movie_18[\"VIEWNG_NMPR_CO\"]>0][\"VIEWNG_NMPR_CO\"]\n",
    " )"
   ]
  }
 ],
 "metadata": {
  "kernelspec": {
   "display_name": "base",
   "language": "python",
   "name": "python3"
  },
  "language_info": {
   "codemirror_mode": {
    "name": "ipython",
    "version": 3
   },
   "file_extension": ".py",
   "mimetype": "text/x-python",
   "name": "python",
   "nbconvert_exporter": "python",
   "pygments_lexer": "ipython3",
   "version": "3.8.5 (default, Sep  3 2020, 21:29:08) [MSC v.1916 64 bit (AMD64)]"
  },
  "orig_nbformat": 4,
  "vscode": {
   "interpreter": {
    "hash": "939c2a35bb44f922d4801ff6645981833f7a456ccc01d595bc465aeed00364a0"
   }
  }
 },
 "nbformat": 4,
 "nbformat_minor": 2
}
