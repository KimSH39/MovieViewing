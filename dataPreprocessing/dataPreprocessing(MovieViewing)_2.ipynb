{
 "cells": [
  {
   "cell_type": "markdown",
   "id": "57637d81",
   "metadata": {},
   "source": [
    "# DATA PREPROCESSING\n",
    "## MovieViewing"
   ]
  },
  {
   "cell_type": "code",
   "execution_count": 71,
   "id": "f776e8bd",
   "metadata": {
    "ExecuteTime": {
     "end_time": "2022-12-09T04:15:15.605623Z",
     "start_time": "2022-12-09T04:15:15.600620Z"
    }
   },
   "outputs": [],
   "source": [
    "import pandas as pd\n",
    "import matplotlib as mpl\n",
    "import matplotlib.pyplot as plt\n",
    "import seaborn as sns\n",
    "import re\n",
    "import statsmodels.api as sm\n",
    "from scipy import stats\n",
    "from sklearn.decomposition import PCA\n",
    "from sklearn.preprocessing import StandardScaler"
   ]
  },
  {
   "cell_type": "code",
   "execution_count": 72,
   "id": "bacabf64",
   "metadata": {
    "ExecuteTime": {
     "end_time": "2022-12-09T04:15:15.914618Z",
     "start_time": "2022-12-09T04:15:15.902619Z"
    }
   },
   "outputs": [],
   "source": [
    "font = {'family' : 'NanumGothic', 'size'   : 10}\n",
    "mpl.rc('font', **font)"
   ]
  },
  {
   "cell_type": "code",
   "execution_count": 73,
   "id": "b2cafa67",
   "metadata": {
    "ExecuteTime": {
     "end_time": "2022-12-09T04:15:16.055443Z",
     "start_time": "2022-12-09T04:15:16.038445Z"
    }
   },
   "outputs": [],
   "source": [
    "k_movie = pd.read_csv(\"k_movie.csv\")"
   ]
  },
  {
   "cell_type": "code",
   "execution_count": 74,
   "id": "600bc798",
   "metadata": {
    "ExecuteTime": {
     "end_time": "2022-12-09T04:15:16.179444Z",
     "start_time": "2022-12-09T04:15:16.163446Z"
    }
   },
   "outputs": [],
   "source": [
    "k_movie = k_movie.dropna()"
   ]
  },
  {
   "cell_type": "code",
   "execution_count": 75,
   "id": "28a3514f",
   "metadata": {
    "ExecuteTime": {
     "end_time": "2022-12-09T04:15:16.337512Z",
     "start_time": "2022-12-09T04:15:16.304509Z"
    }
   },
   "outputs": [
    {
     "data": {
      "text/html": [
       "<div>\n",
       "<style scoped>\n",
       "    .dataframe tbody tr th:only-of-type {\n",
       "        vertical-align: middle;\n",
       "    }\n",
       "\n",
       "    .dataframe tbody tr th {\n",
       "        vertical-align: top;\n",
       "    }\n",
       "\n",
       "    .dataframe thead th {\n",
       "        text-align: right;\n",
       "    }\n",
       "</style>\n",
       "<table border=\"1\" class=\"dataframe\">\n",
       "  <thead>\n",
       "    <tr style=\"text-align: right;\">\n",
       "      <th></th>\n",
       "      <th>MOVIE_NM</th>\n",
       "      <th>DRCTR_NM</th>\n",
       "      <th>MAKR_NM</th>\n",
       "      <th>DISTB_CMPNY_NM</th>\n",
       "      <th>OPN_DE</th>\n",
       "      <th>MOVIE_TY_NM</th>\n",
       "      <th>MOVIE_STLE_NM</th>\n",
       "      <th>NLTY_NM</th>\n",
       "      <th>TOT_SCRN_CO</th>\n",
       "      <th>VIEWNG_NMPR_CO</th>\n",
       "      <th>SEOUL_VIEWNG_NMPR_CO</th>\n",
       "      <th>GENRE_NM</th>\n",
       "      <th>GRAD_NM</th>\n",
       "      <th>MOVIE_SDIV_NM</th>\n",
       "      <th>CRITIC_RT</th>\n",
       "      <th>VIEWER_RT</th>\n",
       "    </tr>\n",
       "  </thead>\n",
       "  <tbody>\n",
       "    <tr>\n",
       "      <th>0</th>\n",
       "      <td>산상수훈</td>\n",
       "      <td>유영의</td>\n",
       "      <td>(주)그란</td>\n",
       "      <td>이언픽쳐스,(주)그란</td>\n",
       "      <td>20171207</td>\n",
       "      <td>개봉영화</td>\n",
       "      <td>장편</td>\n",
       "      <td>한국</td>\n",
       "      <td>71.00</td>\n",
       "      <td>284.00</td>\n",
       "      <td>284.00</td>\n",
       "      <td>드라마</td>\n",
       "      <td>전체관람가</td>\n",
       "      <td>독립/예술영화</td>\n",
       "      <td>3.00</td>\n",
       "      <td>6.30</td>\n",
       "    </tr>\n",
       "    <tr>\n",
       "      <th>1</th>\n",
       "      <td>교회오빠</td>\n",
       "      <td>이호경</td>\n",
       "      <td>KBS,커넥트픽쳐스(주)</td>\n",
       "      <td>커넥트픽쳐스(주)</td>\n",
       "      <td>20190516</td>\n",
       "      <td>개봉영화</td>\n",
       "      <td>장편</td>\n",
       "      <td>한국</td>\n",
       "      <td>200.00</td>\n",
       "      <td>154.00</td>\n",
       "      <td>154.00</td>\n",
       "      <td>다큐멘터리</td>\n",
       "      <td>전체관람가</td>\n",
       "      <td>독립/예술영화</td>\n",
       "      <td>5.59</td>\n",
       "      <td>9.31</td>\n",
       "    </tr>\n",
       "    <tr>\n",
       "      <th>2</th>\n",
       "      <td>기생충</td>\n",
       "      <td>봉준호</td>\n",
       "      <td>(주)바른손이앤에이</td>\n",
       "      <td>(주)씨제이이엔엠</td>\n",
       "      <td>20190530</td>\n",
       "      <td>개봉영화</td>\n",
       "      <td>장편</td>\n",
       "      <td>한국</td>\n",
       "      <td>1948.00</td>\n",
       "      <td>227811.00</td>\n",
       "      <td>97354.00</td>\n",
       "      <td>드라마</td>\n",
       "      <td>15세이상관람가</td>\n",
       "      <td>일반영화</td>\n",
       "      <td>9.06</td>\n",
       "      <td>8.49</td>\n",
       "    </tr>\n",
       "    <tr>\n",
       "      <th>3</th>\n",
       "      <td>이타미 준의 바다</td>\n",
       "      <td>정다운</td>\n",
       "      <td>기린그림</td>\n",
       "      <td>(주)영화사 진진</td>\n",
       "      <td>20190815</td>\n",
       "      <td>개봉영화</td>\n",
       "      <td>장편</td>\n",
       "      <td>한국</td>\n",
       "      <td>57.00</td>\n",
       "      <td>144.00</td>\n",
       "      <td>144.00</td>\n",
       "      <td>다큐멘터리</td>\n",
       "      <td>전체관람가</td>\n",
       "      <td>독립/예술영화</td>\n",
       "      <td>6.50</td>\n",
       "      <td>8.96</td>\n",
       "    </tr>\n",
       "    <tr>\n",
       "      <th>4</th>\n",
       "      <td>벌새</td>\n",
       "      <td>김보라</td>\n",
       "      <td>에피파니(주)</td>\n",
       "      <td>(주)엣나인필름,(주)콘텐츠판다</td>\n",
       "      <td>20190829</td>\n",
       "      <td>개봉영화</td>\n",
       "      <td>장편</td>\n",
       "      <td>한국</td>\n",
       "      <td>145.00</td>\n",
       "      <td>2721.00</td>\n",
       "      <td>2082.00</td>\n",
       "      <td>드라마</td>\n",
       "      <td>15세이상관람가</td>\n",
       "      <td>독립/예술영화</td>\n",
       "      <td>5.59</td>\n",
       "      <td>7.44</td>\n",
       "    </tr>\n",
       "    <tr>\n",
       "      <th>5</th>\n",
       "      <td>메기</td>\n",
       "      <td>이옥섭</td>\n",
       "      <td>국가인권위원회,2X9HD</td>\n",
       "      <td>(주)엣나인필름,CGV아트하우스</td>\n",
       "      <td>20190926</td>\n",
       "      <td>개봉영화</td>\n",
       "      <td>장편</td>\n",
       "      <td>한국</td>\n",
       "      <td>155.00</td>\n",
       "      <td>745.00</td>\n",
       "      <td>632.00</td>\n",
       "      <td>미스터리</td>\n",
       "      <td>15세이상관람가</td>\n",
       "      <td>독립/예술영화</td>\n",
       "      <td>6.83</td>\n",
       "      <td>8.15</td>\n",
       "    </tr>\n",
       "    <tr>\n",
       "      <th>6</th>\n",
       "      <td>북간도의 십자가</td>\n",
       "      <td>반태경</td>\n",
       "      <td>(재)CBS</td>\n",
       "      <td>(재)CBS,주식회사 마운틴픽쳐스</td>\n",
       "      <td>20191017</td>\n",
       "      <td>개봉영화</td>\n",
       "      <td>장편</td>\n",
       "      <td>한국</td>\n",
       "      <td>123.00</td>\n",
       "      <td>52.00</td>\n",
       "      <td>52.00</td>\n",
       "      <td>다큐멘터리</td>\n",
       "      <td>전체관람가</td>\n",
       "      <td>독립/예술영화</td>\n",
       "      <td>5.59</td>\n",
       "      <td>7.90</td>\n",
       "    </tr>\n",
       "    <tr>\n",
       "      <th>7</th>\n",
       "      <td>82년생 김지영</td>\n",
       "      <td>김도영</td>\n",
       "      <td>(주)봄바람영화사</td>\n",
       "      <td>롯데컬처웍스(주)롯데엔터테인먼트</td>\n",
       "      <td>20191023</td>\n",
       "      <td>개봉영화</td>\n",
       "      <td>장편</td>\n",
       "      <td>한국</td>\n",
       "      <td>1486.00</td>\n",
       "      <td>863.00</td>\n",
       "      <td>189.00</td>\n",
       "      <td>드라마</td>\n",
       "      <td>12세이상관람가</td>\n",
       "      <td>일반영화</td>\n",
       "      <td>6.79</td>\n",
       "      <td>6.67</td>\n",
       "    </tr>\n",
       "    <tr>\n",
       "      <th>8</th>\n",
       "      <td>블랙머니</td>\n",
       "      <td>정지영</td>\n",
       "      <td>유한회사 질라라비,(주)아우라픽처스</td>\n",
       "      <td>(주)에이스메이커무비웍스</td>\n",
       "      <td>20191113</td>\n",
       "      <td>개봉영화</td>\n",
       "      <td>장편</td>\n",
       "      <td>한국</td>\n",
       "      <td>1117.00</td>\n",
       "      <td>700.00</td>\n",
       "      <td>490.00</td>\n",
       "      <td>범죄</td>\n",
       "      <td>12세이상관람가</td>\n",
       "      <td>일반영화</td>\n",
       "      <td>5.59</td>\n",
       "      <td>7.44</td>\n",
       "    </tr>\n",
       "    <tr>\n",
       "      <th>9</th>\n",
       "      <td>대통령의 7시간</td>\n",
       "      <td>이상호</td>\n",
       "      <td>(주)씨네포트</td>\n",
       "      <td>(주)씨네포트,주식회사 마운틴픽쳐스</td>\n",
       "      <td>20191114</td>\n",
       "      <td>개봉영화</td>\n",
       "      <td>장편</td>\n",
       "      <td>한국</td>\n",
       "      <td>84.00</td>\n",
       "      <td>256.00</td>\n",
       "      <td>108.00</td>\n",
       "      <td>다큐멘터리</td>\n",
       "      <td>12세이상관람가</td>\n",
       "      <td>독립/예술영화</td>\n",
       "      <td>5.59</td>\n",
       "      <td>6.00</td>\n",
       "    </tr>\n",
       "  </tbody>\n",
       "</table>\n",
       "</div>"
      ],
      "text/plain": [
       "    MOVIE_NM DRCTR_NM              MAKR_NM       DISTB_CMPNY_NM    OPN_DE  \\\n",
       "0       산상수훈      유영의                (주)그란          이언픽쳐스,(주)그란  20171207   \n",
       "1       교회오빠      이호경        KBS,커넥트픽쳐스(주)            커넥트픽쳐스(주)  20190516   \n",
       "2        기생충      봉준호           (주)바른손이앤에이            (주)씨제이이엔엠  20190530   \n",
       "3  이타미 준의 바다      정다운                 기린그림            (주)영화사 진진  20190815   \n",
       "4         벌새      김보라              에피파니(주)    (주)엣나인필름,(주)콘텐츠판다  20190829   \n",
       "5         메기      이옥섭        국가인권위원회,2X9HD    (주)엣나인필름,CGV아트하우스  20190926   \n",
       "6   북간도의 십자가      반태경               (재)CBS   (재)CBS,주식회사 마운틴픽쳐스  20191017   \n",
       "7   82년생 김지영      김도영            (주)봄바람영화사    롯데컬처웍스(주)롯데엔터테인먼트  20191023   \n",
       "8       블랙머니      정지영  유한회사 질라라비,(주)아우라픽처스        (주)에이스메이커무비웍스  20191113   \n",
       "9   대통령의 7시간      이상호              (주)씨네포트  (주)씨네포트,주식회사 마운틴픽쳐스  20191114   \n",
       "\n",
       "  MOVIE_TY_NM MOVIE_STLE_NM NLTY_NM  TOT_SCRN_CO  VIEWNG_NMPR_CO  \\\n",
       "0        개봉영화            장편      한국        71.00          284.00   \n",
       "1        개봉영화            장편      한국       200.00          154.00   \n",
       "2        개봉영화            장편      한국      1948.00       227811.00   \n",
       "3        개봉영화            장편      한국        57.00          144.00   \n",
       "4        개봉영화            장편      한국       145.00         2721.00   \n",
       "5        개봉영화            장편      한국       155.00          745.00   \n",
       "6        개봉영화            장편      한국       123.00           52.00   \n",
       "7        개봉영화            장편      한국      1486.00          863.00   \n",
       "8        개봉영화            장편      한국      1117.00          700.00   \n",
       "9        개봉영화            장편      한국        84.00          256.00   \n",
       "\n",
       "   SEOUL_VIEWNG_NMPR_CO GENRE_NM   GRAD_NM MOVIE_SDIV_NM  CRITIC_RT  VIEWER_RT  \n",
       "0                284.00      드라마     전체관람가       독립/예술영화       3.00       6.30  \n",
       "1                154.00    다큐멘터리     전체관람가       독립/예술영화       5.59       9.31  \n",
       "2              97354.00      드라마  15세이상관람가          일반영화       9.06       8.49  \n",
       "3                144.00    다큐멘터리     전체관람가       독립/예술영화       6.50       8.96  \n",
       "4               2082.00      드라마  15세이상관람가       독립/예술영화       5.59       7.44  \n",
       "5                632.00     미스터리  15세이상관람가       독립/예술영화       6.83       8.15  \n",
       "6                 52.00    다큐멘터리     전체관람가       독립/예술영화       5.59       7.90  \n",
       "7                189.00      드라마  12세이상관람가          일반영화       6.79       6.67  \n",
       "8                490.00       범죄  12세이상관람가          일반영화       5.59       7.44  \n",
       "9                108.00    다큐멘터리  12세이상관람가       독립/예술영화       5.59       6.00  "
      ]
     },
     "execution_count": 75,
     "metadata": {},
     "output_type": "execute_result"
    }
   ],
   "source": [
    "k_movie.head(10)"
   ]
  },
  {
   "cell_type": "code",
   "execution_count": 76,
   "id": "785ea24b",
   "metadata": {
    "ExecuteTime": {
     "end_time": "2022-12-09T04:15:16.492509Z",
     "start_time": "2022-12-09T04:15:16.466513Z"
    }
   },
   "outputs": [
    {
     "name": "stdout",
     "output_type": "stream",
     "text": [
      "<class 'pandas.core.frame.DataFrame'>\n",
      "RangeIndex: 358 entries, 0 to 357\n",
      "Data columns (total 16 columns):\n",
      " #   Column                Non-Null Count  Dtype  \n",
      "---  ------                --------------  -----  \n",
      " 0   MOVIE_NM              358 non-null    object \n",
      " 1   DRCTR_NM              358 non-null    object \n",
      " 2   MAKR_NM               358 non-null    object \n",
      " 3   DISTB_CMPNY_NM        358 non-null    object \n",
      " 4   OPN_DE                358 non-null    object \n",
      " 5   MOVIE_TY_NM           358 non-null    object \n",
      " 6   MOVIE_STLE_NM         358 non-null    object \n",
      " 7   NLTY_NM               358 non-null    object \n",
      " 8   TOT_SCRN_CO           358 non-null    float64\n",
      " 9   VIEWNG_NMPR_CO        358 non-null    float64\n",
      " 10  SEOUL_VIEWNG_NMPR_CO  358 non-null    float64\n",
      " 11  GENRE_NM              358 non-null    object \n",
      " 12  GRAD_NM               358 non-null    object \n",
      " 13  MOVIE_SDIV_NM         358 non-null    object \n",
      " 14  CRITIC_RT             358 non-null    float64\n",
      " 15  VIEWER_RT             358 non-null    float64\n",
      "dtypes: float64(5), object(11)\n",
      "memory usage: 44.9+ KB\n"
     ]
    }
   ],
   "source": [
    "k_movie.info() #category, numeric 분리"
   ]
  },
  {
   "cell_type": "code",
   "execution_count": 77,
   "id": "16398205",
   "metadata": {
    "ExecuteTime": {
     "end_time": "2022-12-09T04:15:16.632511Z",
     "start_time": "2022-12-09T04:15:16.611513Z"
    }
   },
   "outputs": [
    {
     "data": {
      "text/plain": [
       "MOVIE_NM                0\n",
       "DRCTR_NM                0\n",
       "MAKR_NM                 0\n",
       "DISTB_CMPNY_NM          0\n",
       "OPN_DE                  0\n",
       "MOVIE_TY_NM             0\n",
       "MOVIE_STLE_NM           0\n",
       "NLTY_NM                 0\n",
       "TOT_SCRN_CO             0\n",
       "VIEWNG_NMPR_CO          0\n",
       "SEOUL_VIEWNG_NMPR_CO    0\n",
       "GENRE_NM                0\n",
       "GRAD_NM                 0\n",
       "MOVIE_SDIV_NM           0\n",
       "CRITIC_RT               0\n",
       "VIEWER_RT               0\n",
       "dtype: int64"
      ]
     },
     "execution_count": 77,
     "metadata": {},
     "output_type": "execute_result"
    }
   ],
   "source": [
    "k_movie.isna().sum()"
   ]
  },
  {
   "cell_type": "code",
   "execution_count": 78,
   "id": "1e994651",
   "metadata": {
    "ExecuteTime": {
     "end_time": "2022-12-09T04:15:17.164519Z",
     "start_time": "2022-12-09T04:15:16.775513Z"
    }
   },
   "outputs": [],
   "source": [
    "k_movie['OPN_DE'] = k_movie['OPN_DE'].astype('string')\n",
    "dates = list(k_movie['OPN_DE'])\n",
    "\n",
    "for date in dates:\n",
    "    year = re.findall(r'\\d{4}', date)\n",
    "    k_movie.loc[k_movie['OPN_DE']==date, 'YEAR'] = year[0]\n",
    "    month = re.findall(r'\\d{2}', date)\n",
    "    k_movie.loc[k_movie['OPN_DE']==date, 'MONTH'] = month[2]"
   ]
  },
  {
   "cell_type": "code",
   "execution_count": 79,
   "id": "3134d653",
   "metadata": {
    "ExecuteTime": {
     "end_time": "2022-12-09T04:15:17.211510Z",
     "start_time": "2022-12-09T04:15:17.167511Z"
    }
   },
   "outputs": [
    {
     "data": {
      "text/html": [
       "<div>\n",
       "<style scoped>\n",
       "    .dataframe tbody tr th:only-of-type {\n",
       "        vertical-align: middle;\n",
       "    }\n",
       "\n",
       "    .dataframe tbody tr th {\n",
       "        vertical-align: top;\n",
       "    }\n",
       "\n",
       "    .dataframe thead th {\n",
       "        text-align: right;\n",
       "    }\n",
       "</style>\n",
       "<table border=\"1\" class=\"dataframe\">\n",
       "  <thead>\n",
       "    <tr style=\"text-align: right;\">\n",
       "      <th></th>\n",
       "      <th>MOVIE_NM</th>\n",
       "      <th>DRCTR_NM</th>\n",
       "      <th>MAKR_NM</th>\n",
       "      <th>DISTB_CMPNY_NM</th>\n",
       "      <th>OPN_DE</th>\n",
       "      <th>MOVIE_TY_NM</th>\n",
       "      <th>MOVIE_STLE_NM</th>\n",
       "      <th>NLTY_NM</th>\n",
       "      <th>TOT_SCRN_CO</th>\n",
       "      <th>VIEWNG_NMPR_CO</th>\n",
       "      <th>SEOUL_VIEWNG_NMPR_CO</th>\n",
       "      <th>GENRE_NM</th>\n",
       "      <th>GRAD_NM</th>\n",
       "      <th>MOVIE_SDIV_NM</th>\n",
       "      <th>CRITIC_RT</th>\n",
       "      <th>VIEWER_RT</th>\n",
       "      <th>YEAR</th>\n",
       "      <th>MONTH</th>\n",
       "    </tr>\n",
       "  </thead>\n",
       "  <tbody>\n",
       "    <tr>\n",
       "      <th>0</th>\n",
       "      <td>산상수훈</td>\n",
       "      <td>유영의</td>\n",
       "      <td>(주)그란</td>\n",
       "      <td>이언픽쳐스,(주)그란</td>\n",
       "      <td>20171207</td>\n",
       "      <td>개봉영화</td>\n",
       "      <td>장편</td>\n",
       "      <td>한국</td>\n",
       "      <td>71.00</td>\n",
       "      <td>284.00</td>\n",
       "      <td>284.00</td>\n",
       "      <td>드라마</td>\n",
       "      <td>전체관람가</td>\n",
       "      <td>독립/예술영화</td>\n",
       "      <td>3.00</td>\n",
       "      <td>6.30</td>\n",
       "      <td>2017</td>\n",
       "      <td>12</td>\n",
       "    </tr>\n",
       "    <tr>\n",
       "      <th>1</th>\n",
       "      <td>교회오빠</td>\n",
       "      <td>이호경</td>\n",
       "      <td>KBS,커넥트픽쳐스(주)</td>\n",
       "      <td>커넥트픽쳐스(주)</td>\n",
       "      <td>20190516</td>\n",
       "      <td>개봉영화</td>\n",
       "      <td>장편</td>\n",
       "      <td>한국</td>\n",
       "      <td>200.00</td>\n",
       "      <td>154.00</td>\n",
       "      <td>154.00</td>\n",
       "      <td>다큐멘터리</td>\n",
       "      <td>전체관람가</td>\n",
       "      <td>독립/예술영화</td>\n",
       "      <td>5.59</td>\n",
       "      <td>9.31</td>\n",
       "      <td>2019</td>\n",
       "      <td>05</td>\n",
       "    </tr>\n",
       "    <tr>\n",
       "      <th>2</th>\n",
       "      <td>기생충</td>\n",
       "      <td>봉준호</td>\n",
       "      <td>(주)바른손이앤에이</td>\n",
       "      <td>(주)씨제이이엔엠</td>\n",
       "      <td>20190530</td>\n",
       "      <td>개봉영화</td>\n",
       "      <td>장편</td>\n",
       "      <td>한국</td>\n",
       "      <td>1948.00</td>\n",
       "      <td>227811.00</td>\n",
       "      <td>97354.00</td>\n",
       "      <td>드라마</td>\n",
       "      <td>15세이상관람가</td>\n",
       "      <td>일반영화</td>\n",
       "      <td>9.06</td>\n",
       "      <td>8.49</td>\n",
       "      <td>2019</td>\n",
       "      <td>05</td>\n",
       "    </tr>\n",
       "    <tr>\n",
       "      <th>3</th>\n",
       "      <td>이타미 준의 바다</td>\n",
       "      <td>정다운</td>\n",
       "      <td>기린그림</td>\n",
       "      <td>(주)영화사 진진</td>\n",
       "      <td>20190815</td>\n",
       "      <td>개봉영화</td>\n",
       "      <td>장편</td>\n",
       "      <td>한국</td>\n",
       "      <td>57.00</td>\n",
       "      <td>144.00</td>\n",
       "      <td>144.00</td>\n",
       "      <td>다큐멘터리</td>\n",
       "      <td>전체관람가</td>\n",
       "      <td>독립/예술영화</td>\n",
       "      <td>6.50</td>\n",
       "      <td>8.96</td>\n",
       "      <td>2019</td>\n",
       "      <td>08</td>\n",
       "    </tr>\n",
       "    <tr>\n",
       "      <th>4</th>\n",
       "      <td>벌새</td>\n",
       "      <td>김보라</td>\n",
       "      <td>에피파니(주)</td>\n",
       "      <td>(주)엣나인필름,(주)콘텐츠판다</td>\n",
       "      <td>20190829</td>\n",
       "      <td>개봉영화</td>\n",
       "      <td>장편</td>\n",
       "      <td>한국</td>\n",
       "      <td>145.00</td>\n",
       "      <td>2721.00</td>\n",
       "      <td>2082.00</td>\n",
       "      <td>드라마</td>\n",
       "      <td>15세이상관람가</td>\n",
       "      <td>독립/예술영화</td>\n",
       "      <td>5.59</td>\n",
       "      <td>7.44</td>\n",
       "      <td>2019</td>\n",
       "      <td>08</td>\n",
       "    </tr>\n",
       "  </tbody>\n",
       "</table>\n",
       "</div>"
      ],
      "text/plain": [
       "    MOVIE_NM DRCTR_NM        MAKR_NM     DISTB_CMPNY_NM    OPN_DE MOVIE_TY_NM  \\\n",
       "0       산상수훈      유영의          (주)그란        이언픽쳐스,(주)그란  20171207        개봉영화   \n",
       "1       교회오빠      이호경  KBS,커넥트픽쳐스(주)          커넥트픽쳐스(주)  20190516        개봉영화   \n",
       "2        기생충      봉준호     (주)바른손이앤에이          (주)씨제이이엔엠  20190530        개봉영화   \n",
       "3  이타미 준의 바다      정다운           기린그림          (주)영화사 진진  20190815        개봉영화   \n",
       "4         벌새      김보라        에피파니(주)  (주)엣나인필름,(주)콘텐츠판다  20190829        개봉영화   \n",
       "\n",
       "  MOVIE_STLE_NM NLTY_NM  TOT_SCRN_CO  VIEWNG_NMPR_CO  SEOUL_VIEWNG_NMPR_CO  \\\n",
       "0            장편      한국        71.00          284.00                284.00   \n",
       "1            장편      한국       200.00          154.00                154.00   \n",
       "2            장편      한국      1948.00       227811.00              97354.00   \n",
       "3            장편      한국        57.00          144.00                144.00   \n",
       "4            장편      한국       145.00         2721.00               2082.00   \n",
       "\n",
       "  GENRE_NM   GRAD_NM MOVIE_SDIV_NM  CRITIC_RT  VIEWER_RT  YEAR MONTH  \n",
       "0      드라마     전체관람가       독립/예술영화       3.00       6.30  2017    12  \n",
       "1    다큐멘터리     전체관람가       독립/예술영화       5.59       9.31  2019    05  \n",
       "2      드라마  15세이상관람가          일반영화       9.06       8.49  2019    05  \n",
       "3    다큐멘터리     전체관람가       독립/예술영화       6.50       8.96  2019    08  \n",
       "4      드라마  15세이상관람가       독립/예술영화       5.59       7.44  2019    08  "
      ]
     },
     "execution_count": 79,
     "metadata": {},
     "output_type": "execute_result"
    }
   ],
   "source": [
    "k_movie.head()"
   ]
  },
  {
   "cell_type": "code",
   "execution_count": 80,
   "id": "5ea36ba9",
   "metadata": {
    "ExecuteTime": {
     "end_time": "2022-12-09T04:15:17.227510Z",
     "start_time": "2022-12-09T04:15:17.215512Z"
    }
   },
   "outputs": [
    {
     "data": {
      "text/plain": [
       "count       358.00\n",
       "mean     115831.10\n",
       "std      493632.33\n",
       "min           1.00\n",
       "25%         284.75\n",
       "50%         943.50\n",
       "75%        7872.00\n",
       "max     4750104.00\n",
       "Name: VIEWNG_NMPR_CO, dtype: float64"
      ]
     },
     "execution_count": 80,
     "metadata": {},
     "output_type": "execute_result"
    }
   ],
   "source": [
    "pd.options.display.float_format = '{:.2f}'.format\n",
    "\n",
    "k_movie['VIEWNG_NMPR_CO'].describe()"
   ]
  },
  {
   "cell_type": "code",
   "execution_count": 81,
   "id": "006d5970",
   "metadata": {
    "ExecuteTime": {
     "end_time": "2022-12-09T04:15:17.856509Z",
     "start_time": "2022-12-09T04:15:17.379518Z"
    }
   },
   "outputs": [
    {
     "data": {
      "text/plain": [
       "<seaborn.axisgrid.FacetGrid at 0x1cd36b906a0>"
      ]
     },
     "execution_count": 81,
     "metadata": {},
     "output_type": "execute_result"
    },
    {
     "data": {
      "image/png": "[encoded data removed]",
      "text/plain": [
       "<Figure size 360x360 with 1 Axes>"
      ]
     },
     "metadata": {
      "needs_background": "light"
     },
     "output_type": "display_data"
    }
   ],
   "source": [
    "sns.displot(k_movie['VIEWNG_NMPR_CO'], bins = 100)"
   ]
  },
  {
   "cell_type": "code",
   "execution_count": 82,
   "id": "4cc4188b",
   "metadata": {
    "ExecuteTime": {
     "end_time": "2022-12-09T04:15:18.029508Z",
     "start_time": "2022-12-09T04:15:17.861513Z"
    },
    "scrolled": true
   },
   "outputs": [
    {
     "data": {
      "text/plain": [
       "<AxesSubplot:xlabel='VIEWNG_NMPR_CO'>"
      ]
     },
     "execution_count": 82,
     "metadata": {},
     "output_type": "execute_result"
    },
    {
     "data": {
      "image/png": "[encoded data removed]",
      "text/plain": [
       "<Figure size 432x288 with 1 Axes>"
      ]
     },
     "metadata": {
      "needs_background": "light"
     },
     "output_type": "display_data"
    }
   ],
   "source": [
    "sns.boxplot(data = k_movie, x = 'VIEWNG_NMPR_CO')"
   ]
  },
  {
   "cell_type": "code",
   "execution_count": 83,
   "id": "241e6017",
   "metadata": {
    "ExecuteTime": {
     "end_time": "2022-12-09T04:15:18.060537Z",
     "start_time": "2022-12-09T04:15:18.033511Z"
    }
   },
   "outputs": [
    {
     "name": "stdout",
     "output_type": "stream",
     "text": [
      "statistic : 0.25, p-value : 0.000\n"
     ]
    }
   ],
   "source": [
    "s, p = stats.shapiro(k_movie['VIEWNG_NMPR_CO'])\n",
    "print('statistic : %.2f, p-value : %.3f'%(s,p))"
   ]
  },
  {
   "cell_type": "code",
   "execution_count": 84,
   "id": "afe46af2",
   "metadata": {
    "ExecuteTime": {
     "end_time": "2022-12-09T04:15:18.091510Z",
     "start_time": "2022-12-09T04:15:18.067511Z"
    }
   },
   "outputs": [
    {
     "name": "stdout",
     "output_type": "stream",
     "text": [
      "skewness : 6.373, kurtosis : 46.792\n"
     ]
    }
   ],
   "source": [
    "view_skew = stats.skew(k_movie['VIEWNG_NMPR_CO'])\n",
    "view_kurt = stats.kurtosis(k_movie['VIEWNG_NMPR_CO'])\n",
    "print('skewness : %.3f, kurtosis : %.3f'%(view_skew, view_kurt)) #왜도, 첨도 모두 2보다 큼"
   ]
  },
  {
   "cell_type": "code",
   "execution_count": 85,
   "id": "e09a54a9",
   "metadata": {
    "ExecuteTime": {
     "end_time": "2022-12-09T04:15:18.487537Z",
     "start_time": "2022-12-09T04:15:18.097526Z"
    },
    "scrolled": true
   },
   "outputs": [
    {
     "data": {
      "image/png": "[encoded data removed]",
      "text/plain": [
       "<Figure size 432x288 with 1 Axes>"
      ]
     },
     "execution_count": 85,
     "metadata": {},
     "output_type": "execute_result"
    },
    {
     "data": {
      "image/png": "[encoded data removed]",
      "text/plain": [
       "<Figure size 432x288 with 1 Axes>"
      ]
     },
     "metadata": {
      "needs_background": "light"
     },
     "output_type": "display_data"
    }
   ],
   "source": [
    "sm.qqplot(k_movie['VIEWNG_NMPR_CO'], line='45')"
   ]
  },
  {
   "cell_type": "code",
   "execution_count": 86,
   "id": "188caf2c",
   "metadata": {
    "ExecuteTime": {
     "end_time": "2022-12-09T04:15:18.519510Z",
     "start_time": "2022-12-09T04:15:18.489507Z"
    }
   },
   "outputs": [],
   "source": [
    "k_movie=k_movie.dropna(subset=['VIEWNG_NMPR_CO', 'DISTB_CMPNY_NM'])\n",
    "k_movie['DISTB_CMPNY_NM']=k_movie['DISTB_CMPNY_NM'].apply(lambda x: str(x).split(','))\n",
    "count=[]\n",
    "for i in range(len(k_movie)):\n",
    "    count.append(len(k_movie['DISTB_CMPNY_NM'][i]))\n",
    "k_movie['DISTB_CMPNY_COUNT']=count"
   ]
  },
  {
   "cell_type": "code",
   "execution_count": 87,
   "id": "5e7b281e",
   "metadata": {
    "ExecuteTime": {
     "end_time": "2022-12-09T04:15:18.535509Z",
     "start_time": "2022-12-09T04:15:18.526516Z"
    }
   },
   "outputs": [],
   "source": [
    "#outliers에 robust한 median을 기준으로 흥행 np 분류\n",
    "k_med = k_movie['VIEWNG_NMPR_CO'].median()\n",
    "\n",
    "k_movie.loc[k_movie['VIEWNG_NMPR_CO']<k_med, 'SUCCESS'] = 0\n",
    "k_movie.loc[k_movie['VIEWNG_NMPR_CO']>k_med, 'SUCCESS'] = 1 "
   ]
  },
  {
   "cell_type": "code",
   "execution_count": 88,
   "id": "fa750534",
   "metadata": {
    "ExecuteTime": {
     "end_time": "2022-12-09T04:15:18.738511Z",
     "start_time": "2022-12-09T04:15:18.707512Z"
    }
   },
   "outputs": [
    {
     "data": {
      "text/html": [
       "<div>\n",
       "<style scoped>\n",
       "    .dataframe tbody tr th:only-of-type {\n",
       "        vertical-align: middle;\n",
       "    }\n",
       "\n",
       "    .dataframe tbody tr th {\n",
       "        vertical-align: top;\n",
       "    }\n",
       "\n",
       "    .dataframe thead th {\n",
       "        text-align: right;\n",
       "    }\n",
       "</style>\n",
       "<table border=\"1\" class=\"dataframe\">\n",
       "  <thead>\n",
       "    <tr style=\"text-align: right;\">\n",
       "      <th></th>\n",
       "      <th>MOVIE_NM</th>\n",
       "      <th>DRCTR_NM</th>\n",
       "      <th>MAKR_NM</th>\n",
       "      <th>DISTB_CMPNY_NM</th>\n",
       "      <th>OPN_DE</th>\n",
       "      <th>MOVIE_TY_NM</th>\n",
       "      <th>MOVIE_STLE_NM</th>\n",
       "      <th>NLTY_NM</th>\n",
       "      <th>TOT_SCRN_CO</th>\n",
       "      <th>VIEWNG_NMPR_CO</th>\n",
       "      <th>SEOUL_VIEWNG_NMPR_CO</th>\n",
       "      <th>GENRE_NM</th>\n",
       "      <th>GRAD_NM</th>\n",
       "      <th>MOVIE_SDIV_NM</th>\n",
       "      <th>CRITIC_RT</th>\n",
       "      <th>VIEWER_RT</th>\n",
       "      <th>YEAR</th>\n",
       "      <th>MONTH</th>\n",
       "      <th>DISTB_CMPNY_COUNT</th>\n",
       "      <th>SUCCESS</th>\n",
       "    </tr>\n",
       "  </thead>\n",
       "  <tbody>\n",
       "    <tr>\n",
       "      <th>0</th>\n",
       "      <td>산상수훈</td>\n",
       "      <td>유영의</td>\n",
       "      <td>(주)그란</td>\n",
       "      <td>[이언픽쳐스, (주)그란]</td>\n",
       "      <td>20171207</td>\n",
       "      <td>개봉영화</td>\n",
       "      <td>장편</td>\n",
       "      <td>한국</td>\n",
       "      <td>71.00</td>\n",
       "      <td>284.00</td>\n",
       "      <td>284.00</td>\n",
       "      <td>드라마</td>\n",
       "      <td>전체관람가</td>\n",
       "      <td>독립/예술영화</td>\n",
       "      <td>3.00</td>\n",
       "      <td>6.30</td>\n",
       "      <td>2017</td>\n",
       "      <td>12</td>\n",
       "      <td>2</td>\n",
       "      <td>0.00</td>\n",
       "    </tr>\n",
       "    <tr>\n",
       "      <th>1</th>\n",
       "      <td>교회오빠</td>\n",
       "      <td>이호경</td>\n",
       "      <td>KBS,커넥트픽쳐스(주)</td>\n",
       "      <td>[커넥트픽쳐스(주)]</td>\n",
       "      <td>20190516</td>\n",
       "      <td>개봉영화</td>\n",
       "      <td>장편</td>\n",
       "      <td>한국</td>\n",
       "      <td>200.00</td>\n",
       "      <td>154.00</td>\n",
       "      <td>154.00</td>\n",
       "      <td>다큐멘터리</td>\n",
       "      <td>전체관람가</td>\n",
       "      <td>독립/예술영화</td>\n",
       "      <td>5.59</td>\n",
       "      <td>9.31</td>\n",
       "      <td>2019</td>\n",
       "      <td>05</td>\n",
       "      <td>1</td>\n",
       "      <td>0.00</td>\n",
       "    </tr>\n",
       "    <tr>\n",
       "      <th>2</th>\n",
       "      <td>기생충</td>\n",
       "      <td>봉준호</td>\n",
       "      <td>(주)바른손이앤에이</td>\n",
       "      <td>[(주)씨제이이엔엠]</td>\n",
       "      <td>20190530</td>\n",
       "      <td>개봉영화</td>\n",
       "      <td>장편</td>\n",
       "      <td>한국</td>\n",
       "      <td>1948.00</td>\n",
       "      <td>227811.00</td>\n",
       "      <td>97354.00</td>\n",
       "      <td>드라마</td>\n",
       "      <td>15세이상관람가</td>\n",
       "      <td>일반영화</td>\n",
       "      <td>9.06</td>\n",
       "      <td>8.49</td>\n",
       "      <td>2019</td>\n",
       "      <td>05</td>\n",
       "      <td>1</td>\n",
       "      <td>1.00</td>\n",
       "    </tr>\n",
       "    <tr>\n",
       "      <th>3</th>\n",
       "      <td>이타미 준의 바다</td>\n",
       "      <td>정다운</td>\n",
       "      <td>기린그림</td>\n",
       "      <td>[(주)영화사 진진]</td>\n",
       "      <td>20190815</td>\n",
       "      <td>개봉영화</td>\n",
       "      <td>장편</td>\n",
       "      <td>한국</td>\n",
       "      <td>57.00</td>\n",
       "      <td>144.00</td>\n",
       "      <td>144.00</td>\n",
       "      <td>다큐멘터리</td>\n",
       "      <td>전체관람가</td>\n",
       "      <td>독립/예술영화</td>\n",
       "      <td>6.50</td>\n",
       "      <td>8.96</td>\n",
       "      <td>2019</td>\n",
       "      <td>08</td>\n",
       "      <td>1</td>\n",
       "      <td>0.00</td>\n",
       "    </tr>\n",
       "    <tr>\n",
       "      <th>4</th>\n",
       "      <td>벌새</td>\n",
       "      <td>김보라</td>\n",
       "      <td>에피파니(주)</td>\n",
       "      <td>[(주)엣나인필름, (주)콘텐츠판다]</td>\n",
       "      <td>20190829</td>\n",
       "      <td>개봉영화</td>\n",
       "      <td>장편</td>\n",
       "      <td>한국</td>\n",
       "      <td>145.00</td>\n",
       "      <td>2721.00</td>\n",
       "      <td>2082.00</td>\n",
       "      <td>드라마</td>\n",
       "      <td>15세이상관람가</td>\n",
       "      <td>독립/예술영화</td>\n",
       "      <td>5.59</td>\n",
       "      <td>7.44</td>\n",
       "      <td>2019</td>\n",
       "      <td>08</td>\n",
       "      <td>2</td>\n",
       "      <td>1.00</td>\n",
       "    </tr>\n",
       "  </tbody>\n",
       "</table>\n",
       "</div>"
      ],
      "text/plain": [
       "    MOVIE_NM DRCTR_NM        MAKR_NM        DISTB_CMPNY_NM    OPN_DE  \\\n",
       "0       산상수훈      유영의          (주)그란        [이언픽쳐스, (주)그란]  20171207   \n",
       "1       교회오빠      이호경  KBS,커넥트픽쳐스(주)           [커넥트픽쳐스(주)]  20190516   \n",
       "2        기생충      봉준호     (주)바른손이앤에이           [(주)씨제이이엔엠]  20190530   \n",
       "3  이타미 준의 바다      정다운           기린그림           [(주)영화사 진진]  20190815   \n",
       "4         벌새      김보라        에피파니(주)  [(주)엣나인필름, (주)콘텐츠판다]  20190829   \n",
       "\n",
       "  MOVIE_TY_NM MOVIE_STLE_NM NLTY_NM  TOT_SCRN_CO  VIEWNG_NMPR_CO  \\\n",
       "0        개봉영화            장편      한국        71.00          284.00   \n",
       "1        개봉영화            장편      한국       200.00          154.00   \n",
       "2        개봉영화            장편      한국      1948.00       227811.00   \n",
       "3        개봉영화            장편      한국        57.00          144.00   \n",
       "4        개봉영화            장편      한국       145.00         2721.00   \n",
       "\n",
       "   SEOUL_VIEWNG_NMPR_CO GENRE_NM   GRAD_NM MOVIE_SDIV_NM  CRITIC_RT  \\\n",
       "0                284.00      드라마     전체관람가       독립/예술영화       3.00   \n",
       "1                154.00    다큐멘터리     전체관람가       독립/예술영화       5.59   \n",
       "2              97354.00      드라마  15세이상관람가          일반영화       9.06   \n",
       "3                144.00    다큐멘터리     전체관람가       독립/예술영화       6.50   \n",
       "4               2082.00      드라마  15세이상관람가       독립/예술영화       5.59   \n",
       "\n",
       "   VIEWER_RT  YEAR MONTH  DISTB_CMPNY_COUNT  SUCCESS  \n",
       "0       6.30  2017    12                  2     0.00  \n",
       "1       9.31  2019    05                  1     0.00  \n",
       "2       8.49  2019    05                  1     1.00  \n",
       "3       8.96  2019    08                  1     0.00  \n",
       "4       7.44  2019    08                  2     1.00  "
      ]
     },
     "execution_count": 88,
     "metadata": {},
     "output_type": "execute_result"
    }
   ],
   "source": [
    "k_movie.head()"
   ]
  },
  {
   "cell_type": "code",
   "execution_count": 89,
   "id": "35b0df51",
   "metadata": {
    "ExecuteTime": {
     "end_time": "2022-12-09T04:15:19.213956Z",
     "start_time": "2022-12-09T04:15:19.182510Z"
    }
   },
   "outputs": [
    {
     "name": "stdout",
     "output_type": "stream",
     "text": [
      "<class 'pandas.core.frame.DataFrame'>\n",
      "RangeIndex: 358 entries, 0 to 357\n",
      "Data columns (total 20 columns):\n",
      " #   Column                Non-Null Count  Dtype  \n",
      "---  ------                --------------  -----  \n",
      " 0   MOVIE_NM              358 non-null    object \n",
      " 1   DRCTR_NM              358 non-null    object \n",
      " 2   MAKR_NM               358 non-null    object \n",
      " 3   DISTB_CMPNY_NM        358 non-null    object \n",
      " 4   OPN_DE                358 non-null    string \n",
      " 5   MOVIE_TY_NM           358 non-null    object \n",
      " 6   MOVIE_STLE_NM         358 non-null    object \n",
      " 7   NLTY_NM               358 non-null    object \n",
      " 8   TOT_SCRN_CO           358 non-null    float64\n",
      " 9   VIEWNG_NMPR_CO        358 non-null    float64\n",
      " 10  SEOUL_VIEWNG_NMPR_CO  358 non-null    float64\n",
      " 11  GENRE_NM              358 non-null    object \n",
      " 12  GRAD_NM               358 non-null    object \n",
      " 13  MOVIE_SDIV_NM         358 non-null    object \n",
      " 14  CRITIC_RT             358 non-null    float64\n",
      " 15  VIEWER_RT             358 non-null    float64\n",
      " 16  YEAR                  358 non-null    object \n",
      " 17  MONTH                 358 non-null    object \n",
      " 18  DISTB_CMPNY_COUNT     358 non-null    int64  \n",
      " 19  SUCCESS               358 non-null    float64\n",
      "dtypes: float64(6), int64(1), object(12), string(1)\n",
      "memory usage: 56.1+ KB\n"
     ]
    }
   ],
   "source": [
    "k_movie.info()"
   ]
  },
  {
   "cell_type": "code",
   "execution_count": 92,
   "id": "5b7c2a78",
   "metadata": {
    "ExecuteTime": {
     "end_time": "2022-12-09T04:15:43.197771Z",
     "start_time": "2022-12-09T04:15:43.166771Z"
    }
   },
   "outputs": [
    {
     "name": "stdout",
     "output_type": "stream",
     "text": [
      "<class 'pandas.core.frame.DataFrame'>\n",
      "RangeIndex: 358 entries, 0 to 357\n",
      "Data columns (total 20 columns):\n",
      " #   Column                Non-Null Count  Dtype   \n",
      "---  ------                --------------  -----   \n",
      " 0   MOVIE_NM              358 non-null    object  \n",
      " 1   DRCTR_NM              358 non-null    object  \n",
      " 2   MAKR_NM               358 non-null    object  \n",
      " 3   DISTB_CMPNY_NM        358 non-null    object  \n",
      " 4   OPN_DE                358 non-null    string  \n",
      " 5   MOVIE_TY_NM           358 non-null    category\n",
      " 6   MOVIE_STLE_NM         358 non-null    category\n",
      " 7   NLTY_NM               358 non-null    object  \n",
      " 8   TOT_SCRN_CO           358 non-null    float64 \n",
      " 9   VIEWNG_NMPR_CO        358 non-null    float64 \n",
      " 10  SEOUL_VIEWNG_NMPR_CO  358 non-null    float64 \n",
      " 11  GENRE_NM              358 non-null    category\n",
      " 12  GRAD_NM               358 non-null    category\n",
      " 13  MOVIE_SDIV_NM         358 non-null    category\n",
      " 14  CRITIC_RT             358 non-null    float64 \n",
      " 15  VIEWER_RT             358 non-null    float64 \n",
      " 16  YEAR                  358 non-null    category\n",
      " 17  MONTH                 358 non-null    category\n",
      " 18  DISTB_CMPNY_COUNT     358 non-null    int64   \n",
      " 19  SUCCESS               358 non-null    category\n",
      "dtypes: category(8), float64(5), int64(1), object(5), string(1)\n",
      "memory usage: 38.4+ KB\n"
     ]
    }
   ],
   "source": [
    "k_movie = k_movie.astype({'MOVIE_TY_NM':'category', 'MOVIE_STLE_NM':'category', 'GENRE_NM':'category', 'GRAD_NM':'category', 'MOVIE_SDIV_NM':'category',\n",
    "                         'SUCCESS':'category', 'YEAR':'category', 'MONTH':'category'})\n",
    "k_movie.info()"
   ]
  },
  {
   "cell_type": "code",
   "execution_count": 91,
   "id": "0e80341a",
   "metadata": {
    "ExecuteTime": {
     "end_time": "2022-12-09T04:15:19.949624Z",
     "start_time": "2022-12-09T04:15:19.929630Z"
    }
   },
   "outputs": [],
   "source": [
    "k_movie.to_csv(\"k_movie_2.csv\", index = False)"
   ]
  },
  {
   "cell_type": "code",
   "execution_count": 93,
   "id": "597f2022",
   "metadata": {
    "ExecuteTime": {
     "end_time": "2022-12-09T04:16:08.049928Z",
     "start_time": "2022-12-09T04:16:08.009875Z"
    }
   },
   "outputs": [
    {
     "data": {
      "text/html": [
       "<div>\n",
       "<style scoped>\n",
       "    .dataframe tbody tr th:only-of-type {\n",
       "        vertical-align: middle;\n",
       "    }\n",
       "\n",
       "    .dataframe tbody tr th {\n",
       "        vertical-align: top;\n",
       "    }\n",
       "\n",
       "    .dataframe thead th {\n",
       "        text-align: right;\n",
       "    }\n",
       "</style>\n",
       "<table border=\"1\" class=\"dataframe\">\n",
       "  <thead>\n",
       "    <tr style=\"text-align: right;\">\n",
       "      <th></th>\n",
       "      <th>MOVIE_NM</th>\n",
       "      <th>DRCTR_NM</th>\n",
       "      <th>MAKR_NM</th>\n",
       "      <th>DISTB_CMPNY_NM</th>\n",
       "      <th>OPN_DE</th>\n",
       "      <th>MOVIE_TY_NM</th>\n",
       "      <th>MOVIE_STLE_NM</th>\n",
       "      <th>NLTY_NM</th>\n",
       "      <th>TOT_SCRN_CO</th>\n",
       "      <th>VIEWNG_NMPR_CO</th>\n",
       "      <th>SEOUL_VIEWNG_NMPR_CO</th>\n",
       "      <th>GENRE_NM</th>\n",
       "      <th>GRAD_NM</th>\n",
       "      <th>MOVIE_SDIV_NM</th>\n",
       "      <th>CRITIC_RT</th>\n",
       "      <th>VIEWER_RT</th>\n",
       "      <th>YEAR</th>\n",
       "      <th>MONTH</th>\n",
       "      <th>DISTB_CMPNY_COUNT</th>\n",
       "      <th>SUCCESS</th>\n",
       "    </tr>\n",
       "  </thead>\n",
       "  <tbody>\n",
       "    <tr>\n",
       "      <th>0</th>\n",
       "      <td>산상수훈</td>\n",
       "      <td>유영의</td>\n",
       "      <td>(주)그란</td>\n",
       "      <td>[이언픽쳐스, (주)그란]</td>\n",
       "      <td>20171207</td>\n",
       "      <td>개봉영화</td>\n",
       "      <td>장편</td>\n",
       "      <td>한국</td>\n",
       "      <td>71.00</td>\n",
       "      <td>284.00</td>\n",
       "      <td>284.00</td>\n",
       "      <td>드라마</td>\n",
       "      <td>전체관람가</td>\n",
       "      <td>독립/예술영화</td>\n",
       "      <td>3.00</td>\n",
       "      <td>6.30</td>\n",
       "      <td>2017</td>\n",
       "      <td>12</td>\n",
       "      <td>2</td>\n",
       "      <td>0.00</td>\n",
       "    </tr>\n",
       "    <tr>\n",
       "      <th>1</th>\n",
       "      <td>교회오빠</td>\n",
       "      <td>이호경</td>\n",
       "      <td>KBS,커넥트픽쳐스(주)</td>\n",
       "      <td>[커넥트픽쳐스(주)]</td>\n",
       "      <td>20190516</td>\n",
       "      <td>개봉영화</td>\n",
       "      <td>장편</td>\n",
       "      <td>한국</td>\n",
       "      <td>200.00</td>\n",
       "      <td>154.00</td>\n",
       "      <td>154.00</td>\n",
       "      <td>다큐멘터리</td>\n",
       "      <td>전체관람가</td>\n",
       "      <td>독립/예술영화</td>\n",
       "      <td>5.59</td>\n",
       "      <td>9.31</td>\n",
       "      <td>2019</td>\n",
       "      <td>05</td>\n",
       "      <td>1</td>\n",
       "      <td>0.00</td>\n",
       "    </tr>\n",
       "    <tr>\n",
       "      <th>2</th>\n",
       "      <td>기생충</td>\n",
       "      <td>봉준호</td>\n",
       "      <td>(주)바른손이앤에이</td>\n",
       "      <td>[(주)씨제이이엔엠]</td>\n",
       "      <td>20190530</td>\n",
       "      <td>개봉영화</td>\n",
       "      <td>장편</td>\n",
       "      <td>한국</td>\n",
       "      <td>1948.00</td>\n",
       "      <td>227811.00</td>\n",
       "      <td>97354.00</td>\n",
       "      <td>드라마</td>\n",
       "      <td>15세이상관람가</td>\n",
       "      <td>일반영화</td>\n",
       "      <td>9.06</td>\n",
       "      <td>8.49</td>\n",
       "      <td>2019</td>\n",
       "      <td>05</td>\n",
       "      <td>1</td>\n",
       "      <td>1.00</td>\n",
       "    </tr>\n",
       "    <tr>\n",
       "      <th>3</th>\n",
       "      <td>이타미 준의 바다</td>\n",
       "      <td>정다운</td>\n",
       "      <td>기린그림</td>\n",
       "      <td>[(주)영화사 진진]</td>\n",
       "      <td>20190815</td>\n",
       "      <td>개봉영화</td>\n",
       "      <td>장편</td>\n",
       "      <td>한국</td>\n",
       "      <td>57.00</td>\n",
       "      <td>144.00</td>\n",
       "      <td>144.00</td>\n",
       "      <td>다큐멘터리</td>\n",
       "      <td>전체관람가</td>\n",
       "      <td>독립/예술영화</td>\n",
       "      <td>6.50</td>\n",
       "      <td>8.96</td>\n",
       "      <td>2019</td>\n",
       "      <td>08</td>\n",
       "      <td>1</td>\n",
       "      <td>0.00</td>\n",
       "    </tr>\n",
       "    <tr>\n",
       "      <th>4</th>\n",
       "      <td>벌새</td>\n",
       "      <td>김보라</td>\n",
       "      <td>에피파니(주)</td>\n",
       "      <td>[(주)엣나인필름, (주)콘텐츠판다]</td>\n",
       "      <td>20190829</td>\n",
       "      <td>개봉영화</td>\n",
       "      <td>장편</td>\n",
       "      <td>한국</td>\n",
       "      <td>145.00</td>\n",
       "      <td>2721.00</td>\n",
       "      <td>2082.00</td>\n",
       "      <td>드라마</td>\n",
       "      <td>15세이상관람가</td>\n",
       "      <td>독립/예술영화</td>\n",
       "      <td>5.59</td>\n",
       "      <td>7.44</td>\n",
       "      <td>2019</td>\n",
       "      <td>08</td>\n",
       "      <td>2</td>\n",
       "      <td>1.00</td>\n",
       "    </tr>\n",
       "  </tbody>\n",
       "</table>\n",
       "</div>"
      ],
      "text/plain": [
       "    MOVIE_NM DRCTR_NM        MAKR_NM        DISTB_CMPNY_NM    OPN_DE  \\\n",
       "0       산상수훈      유영의          (주)그란        [이언픽쳐스, (주)그란]  20171207   \n",
       "1       교회오빠      이호경  KBS,커넥트픽쳐스(주)           [커넥트픽쳐스(주)]  20190516   \n",
       "2        기생충      봉준호     (주)바른손이앤에이           [(주)씨제이이엔엠]  20190530   \n",
       "3  이타미 준의 바다      정다운           기린그림           [(주)영화사 진진]  20190815   \n",
       "4         벌새      김보라        에피파니(주)  [(주)엣나인필름, (주)콘텐츠판다]  20190829   \n",
       "\n",
       "  MOVIE_TY_NM MOVIE_STLE_NM NLTY_NM  TOT_SCRN_CO  VIEWNG_NMPR_CO  \\\n",
       "0        개봉영화            장편      한국        71.00          284.00   \n",
       "1        개봉영화            장편      한국       200.00          154.00   \n",
       "2        개봉영화            장편      한국      1948.00       227811.00   \n",
       "3        개봉영화            장편      한국        57.00          144.00   \n",
       "4        개봉영화            장편      한국       145.00         2721.00   \n",
       "\n",
       "   SEOUL_VIEWNG_NMPR_CO GENRE_NM   GRAD_NM MOVIE_SDIV_NM  CRITIC_RT  \\\n",
       "0                284.00      드라마     전체관람가       독립/예술영화       3.00   \n",
       "1                154.00    다큐멘터리     전체관람가       독립/예술영화       5.59   \n",
       "2              97354.00      드라마  15세이상관람가          일반영화       9.06   \n",
       "3                144.00    다큐멘터리     전체관람가       독립/예술영화       6.50   \n",
       "4               2082.00      드라마  15세이상관람가       독립/예술영화       5.59   \n",
       "\n",
       "   VIEWER_RT  YEAR MONTH  DISTB_CMPNY_COUNT SUCCESS  \n",
       "0       6.30  2017    12                  2    0.00  \n",
       "1       9.31  2019    05                  1    0.00  \n",
       "2       8.49  2019    05                  1    1.00  \n",
       "3       8.96  2019    08                  1    0.00  \n",
       "4       7.44  2019    08                  2    1.00  "
      ]
     },
     "execution_count": 93,
     "metadata": {},
     "output_type": "execute_result"
    }
   ],
   "source": [
    "k_movie.head()"
   ]
  }
 ],
 "metadata": {
  "kernelspec": {
   "display_name": "Python 3 (ipykernel)",
   "language": "python",
   "name": "python3"
  },
  "language_info": {
   "codemirror_mode": {
    "name": "ipython",
    "version": 3
   },
   "file_extension": ".py",
   "mimetype": "text/x-python",
   "name": "python",
   "nbconvert_exporter": "python",
   "pygments_lexer": "ipython3",
   "version": "3.9.12"
  }
 },
 "nbformat": 4,
 "nbformat_minor": 5
}
