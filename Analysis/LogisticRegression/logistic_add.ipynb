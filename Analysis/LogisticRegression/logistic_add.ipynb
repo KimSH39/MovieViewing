{
 "cells": [
  {
   "cell_type": "code",
   "execution_count": 78,
   "metadata": {},
   "outputs": [],
   "source": [
    "import pandas as pd\n",
    "data=pd.read_csv('..\\\\..\\\\dataPreprocessing\\\\k_movie_2.csv')"
   ]
  },
  {
   "cell_type": "code",
   "execution_count": 79,
   "metadata": {},
   "outputs": [
    {
     "data": {
      "text/html": [
       "<div>\n",
       "<style scoped>\n",
       "    .dataframe tbody tr th:only-of-type {\n",
       "        vertical-align: middle;\n",
       "    }\n",
       "\n",
       "    .dataframe tbody tr th {\n",
       "        vertical-align: top;\n",
       "    }\n",
       "\n",
       "    .dataframe thead th {\n",
       "        text-align: right;\n",
       "    }\n",
       "</style>\n",
       "<table border=\"1\" class=\"dataframe\">\n",
       "  <thead>\n",
       "    <tr style=\"text-align: right;\">\n",
       "      <th></th>\n",
       "      <th>MOVIE_NM</th>\n",
       "      <th>DRCTR_NM</th>\n",
       "      <th>MAKR_NM</th>\n",
       "      <th>DISTB_CMPNY_NM</th>\n",
       "      <th>OPN_DE</th>\n",
       "      <th>MOVIE_TY_NM</th>\n",
       "      <th>MOVIE_STLE_NM</th>\n",
       "      <th>NLTY_NM</th>\n",
       "      <th>TOT_SCRN_CO</th>\n",
       "      <th>VIEWNG_NMPR_CO</th>\n",
       "      <th>SEOUL_VIEWNG_NMPR_CO</th>\n",
       "      <th>GENRE_NM</th>\n",
       "      <th>GRAD_NM</th>\n",
       "      <th>MOVIE_SDIV_NM</th>\n",
       "      <th>CRITIC_RT</th>\n",
       "      <th>VIEWER_RT</th>\n",
       "      <th>YEAR</th>\n",
       "      <th>MONTH</th>\n",
       "      <th>DISTB_CMPNY_COUNT</th>\n",
       "      <th>SUCCESS</th>\n",
       "    </tr>\n",
       "  </thead>\n",
       "  <tbody>\n",
       "    <tr>\n",
       "      <th>0</th>\n",
       "      <td>산상수훈</td>\n",
       "      <td>유영의</td>\n",
       "      <td>(주)그란</td>\n",
       "      <td>['이언픽쳐스', '(주)그란']</td>\n",
       "      <td>20171207</td>\n",
       "      <td>개봉영화</td>\n",
       "      <td>장편</td>\n",
       "      <td>한국</td>\n",
       "      <td>71.0</td>\n",
       "      <td>284.0</td>\n",
       "      <td>284.0</td>\n",
       "      <td>드라마</td>\n",
       "      <td>전체관람가</td>\n",
       "      <td>독립/예술영화</td>\n",
       "      <td>3.00</td>\n",
       "      <td>6.30</td>\n",
       "      <td>2017</td>\n",
       "      <td>12</td>\n",
       "      <td>2</td>\n",
       "      <td>0.0</td>\n",
       "    </tr>\n",
       "    <tr>\n",
       "      <th>1</th>\n",
       "      <td>교회오빠</td>\n",
       "      <td>이호경</td>\n",
       "      <td>KBS,커넥트픽쳐스(주)</td>\n",
       "      <td>['커넥트픽쳐스(주)']</td>\n",
       "      <td>20190516</td>\n",
       "      <td>개봉영화</td>\n",
       "      <td>장편</td>\n",
       "      <td>한국</td>\n",
       "      <td>200.0</td>\n",
       "      <td>154.0</td>\n",
       "      <td>154.0</td>\n",
       "      <td>다큐멘터리</td>\n",
       "      <td>전체관람가</td>\n",
       "      <td>독립/예술영화</td>\n",
       "      <td>5.59</td>\n",
       "      <td>9.31</td>\n",
       "      <td>2019</td>\n",
       "      <td>5</td>\n",
       "      <td>1</td>\n",
       "      <td>0.0</td>\n",
       "    </tr>\n",
       "    <tr>\n",
       "      <th>2</th>\n",
       "      <td>기생충</td>\n",
       "      <td>봉준호</td>\n",
       "      <td>(주)바른손이앤에이</td>\n",
       "      <td>['(주)씨제이이엔엠']</td>\n",
       "      <td>20190530</td>\n",
       "      <td>개봉영화</td>\n",
       "      <td>장편</td>\n",
       "      <td>한국</td>\n",
       "      <td>1948.0</td>\n",
       "      <td>227811.0</td>\n",
       "      <td>97354.0</td>\n",
       "      <td>드라마</td>\n",
       "      <td>15세이상관람가</td>\n",
       "      <td>일반영화</td>\n",
       "      <td>9.06</td>\n",
       "      <td>8.49</td>\n",
       "      <td>2019</td>\n",
       "      <td>5</td>\n",
       "      <td>1</td>\n",
       "      <td>1.0</td>\n",
       "    </tr>\n",
       "    <tr>\n",
       "      <th>3</th>\n",
       "      <td>이타미 준의 바다</td>\n",
       "      <td>정다운</td>\n",
       "      <td>기린그림</td>\n",
       "      <td>['(주)영화사 진진']</td>\n",
       "      <td>20190815</td>\n",
       "      <td>개봉영화</td>\n",
       "      <td>장편</td>\n",
       "      <td>한국</td>\n",
       "      <td>57.0</td>\n",
       "      <td>144.0</td>\n",
       "      <td>144.0</td>\n",
       "      <td>다큐멘터리</td>\n",
       "      <td>전체관람가</td>\n",
       "      <td>독립/예술영화</td>\n",
       "      <td>6.50</td>\n",
       "      <td>8.96</td>\n",
       "      <td>2019</td>\n",
       "      <td>8</td>\n",
       "      <td>1</td>\n",
       "      <td>0.0</td>\n",
       "    </tr>\n",
       "    <tr>\n",
       "      <th>4</th>\n",
       "      <td>벌새</td>\n",
       "      <td>김보라</td>\n",
       "      <td>에피파니(주)</td>\n",
       "      <td>['(주)엣나인필름', '(주)콘텐츠판다']</td>\n",
       "      <td>20190829</td>\n",
       "      <td>개봉영화</td>\n",
       "      <td>장편</td>\n",
       "      <td>한국</td>\n",
       "      <td>145.0</td>\n",
       "      <td>2721.0</td>\n",
       "      <td>2082.0</td>\n",
       "      <td>드라마</td>\n",
       "      <td>15세이상관람가</td>\n",
       "      <td>독립/예술영화</td>\n",
       "      <td>5.59</td>\n",
       "      <td>7.44</td>\n",
       "      <td>2019</td>\n",
       "      <td>8</td>\n",
       "      <td>2</td>\n",
       "      <td>1.0</td>\n",
       "    </tr>\n",
       "    <tr>\n",
       "      <th>...</th>\n",
       "      <td>...</td>\n",
       "      <td>...</td>\n",
       "      <td>...</td>\n",
       "      <td>...</td>\n",
       "      <td>...</td>\n",
       "      <td>...</td>\n",
       "      <td>...</td>\n",
       "      <td>...</td>\n",
       "      <td>...</td>\n",
       "      <td>...</td>\n",
       "      <td>...</td>\n",
       "      <td>...</td>\n",
       "      <td>...</td>\n",
       "      <td>...</td>\n",
       "      <td>...</td>\n",
       "      <td>...</td>\n",
       "      <td>...</td>\n",
       "      <td>...</td>\n",
       "      <td>...</td>\n",
       "      <td>...</td>\n",
       "    </tr>\n",
       "    <tr>\n",
       "      <th>353</th>\n",
       "      <td>2차 송환</td>\n",
       "      <td>김동원</td>\n",
       "      <td>푸른영상</td>\n",
       "      <td>['(주)시네마달']</td>\n",
       "      <td>2022-09-</td>\n",
       "      <td>개봉영화</td>\n",
       "      <td>장편</td>\n",
       "      <td>한국</td>\n",
       "      <td>16.0</td>\n",
       "      <td>415.0</td>\n",
       "      <td>373.0</td>\n",
       "      <td>다큐멘터리</td>\n",
       "      <td>12세이상관람가</td>\n",
       "      <td>독립/예술영화</td>\n",
       "      <td>8.20</td>\n",
       "      <td>6.44</td>\n",
       "      <td>2022</td>\n",
       "      <td>9</td>\n",
       "      <td>1</td>\n",
       "      <td>0.0</td>\n",
       "    </tr>\n",
       "    <tr>\n",
       "      <th>354</th>\n",
       "      <td>EBS친구들 씽씽 댄스파티</td>\n",
       "      <td>감독명 누락</td>\n",
       "      <td>한국교육방송공사 EBS</td>\n",
       "      <td>['(주)에픽캔']</td>\n",
       "      <td>2022-09-</td>\n",
       "      <td>개봉영화</td>\n",
       "      <td>장편</td>\n",
       "      <td>한국</td>\n",
       "      <td>1.0</td>\n",
       "      <td>60.0</td>\n",
       "      <td>22.0</td>\n",
       "      <td>가족</td>\n",
       "      <td>전체관람가</td>\n",
       "      <td>일반영화</td>\n",
       "      <td>5.59</td>\n",
       "      <td>7.44</td>\n",
       "      <td>2022</td>\n",
       "      <td>9</td>\n",
       "      <td>1</td>\n",
       "      <td>0.0</td>\n",
       "    </tr>\n",
       "    <tr>\n",
       "      <th>355</th>\n",
       "      <td>당신의 이웃은 친절하지 않다</td>\n",
       "      <td>안드로</td>\n",
       "      <td>(주)빅픽처</td>\n",
       "      <td>['주식회사 씨엠닉스']</td>\n",
       "      <td>2022-09-</td>\n",
       "      <td>개봉영화</td>\n",
       "      <td>장편</td>\n",
       "      <td>한국</td>\n",
       "      <td>9.0</td>\n",
       "      <td>395.0</td>\n",
       "      <td>250.0</td>\n",
       "      <td>미스터리</td>\n",
       "      <td>15세이상관람가</td>\n",
       "      <td>독립/예술영화</td>\n",
       "      <td>5.59</td>\n",
       "      <td>7.47</td>\n",
       "      <td>2022</td>\n",
       "      <td>9</td>\n",
       "      <td>1</td>\n",
       "      <td>0.0</td>\n",
       "    </tr>\n",
       "    <tr>\n",
       "      <th>356</th>\n",
       "      <td>부적: 남의 운을 빼앗는 자</td>\n",
       "      <td>김세성</td>\n",
       "      <td>머지션스토어</td>\n",
       "      <td>['(주)트리플픽쳐스']</td>\n",
       "      <td>2022-09-</td>\n",
       "      <td>개봉영화</td>\n",
       "      <td>장편</td>\n",
       "      <td>한국</td>\n",
       "      <td>6.0</td>\n",
       "      <td>662.0</td>\n",
       "      <td>336.0</td>\n",
       "      <td>액션</td>\n",
       "      <td>12세이상관람가</td>\n",
       "      <td>독립/예술영화</td>\n",
       "      <td>5.59</td>\n",
       "      <td>8.84</td>\n",
       "      <td>2022</td>\n",
       "      <td>9</td>\n",
       "      <td>1</td>\n",
       "      <td>0.0</td>\n",
       "    </tr>\n",
       "    <tr>\n",
       "      <th>357</th>\n",
       "      <td>주연</td>\n",
       "      <td>송원준</td>\n",
       "      <td>영화사 퐑</td>\n",
       "      <td>['(주)마노엔터테인먼트']</td>\n",
       "      <td>2022-09-</td>\n",
       "      <td>개봉영화</td>\n",
       "      <td>장편</td>\n",
       "      <td>한국</td>\n",
       "      <td>20.0</td>\n",
       "      <td>363.0</td>\n",
       "      <td>302.0</td>\n",
       "      <td>드라마</td>\n",
       "      <td>12세이상관람가</td>\n",
       "      <td>독립/예술영화</td>\n",
       "      <td>5.59</td>\n",
       "      <td>8.04</td>\n",
       "      <td>2022</td>\n",
       "      <td>9</td>\n",
       "      <td>1</td>\n",
       "      <td>0.0</td>\n",
       "    </tr>\n",
       "  </tbody>\n",
       "</table>\n",
       "<p>358 rows × 20 columns</p>\n",
       "</div>"
      ],
      "text/plain": [
       "            MOVIE_NM DRCTR_NM        MAKR_NM            DISTB_CMPNY_NM  \\\n",
       "0               산상수훈      유영의          (주)그란        ['이언픽쳐스', '(주)그란']   \n",
       "1               교회오빠      이호경  KBS,커넥트픽쳐스(주)             ['커넥트픽쳐스(주)']   \n",
       "2                기생충      봉준호     (주)바른손이앤에이             ['(주)씨제이이엔엠']   \n",
       "3          이타미 준의 바다      정다운           기린그림             ['(주)영화사 진진']   \n",
       "4                 벌새      김보라        에피파니(주)  ['(주)엣나인필름', '(주)콘텐츠판다']   \n",
       "..               ...      ...            ...                       ...   \n",
       "353            2차 송환      김동원           푸른영상               ['(주)시네마달']   \n",
       "354   EBS친구들 씽씽 댄스파티   감독명 누락   한국교육방송공사 EBS                ['(주)에픽캔']   \n",
       "355  당신의 이웃은 친절하지 않다      안드로         (주)빅픽처             ['주식회사 씨엠닉스']   \n",
       "356  부적: 남의 운을 빼앗는 자      김세성         머지션스토어             ['(주)트리플픽쳐스']   \n",
       "357               주연      송원준          영화사 퐑           ['(주)마노엔터테인먼트']   \n",
       "\n",
       "       OPN_DE MOVIE_TY_NM MOVIE_STLE_NM NLTY_NM  TOT_SCRN_CO  VIEWNG_NMPR_CO  \\\n",
       "0    20171207        개봉영화            장편      한국         71.0           284.0   \n",
       "1    20190516        개봉영화            장편      한국        200.0           154.0   \n",
       "2    20190530        개봉영화            장편      한국       1948.0        227811.0   \n",
       "3    20190815        개봉영화            장편      한국         57.0           144.0   \n",
       "4    20190829        개봉영화            장편      한국        145.0          2721.0   \n",
       "..        ...         ...           ...     ...          ...             ...   \n",
       "353  2022-09-        개봉영화            장편      한국         16.0           415.0   \n",
       "354  2022-09-        개봉영화            장편      한국          1.0            60.0   \n",
       "355  2022-09-        개봉영화            장편      한국          9.0           395.0   \n",
       "356  2022-09-        개봉영화            장편      한국          6.0           662.0   \n",
       "357  2022-09-        개봉영화            장편      한국         20.0           363.0   \n",
       "\n",
       "     SEOUL_VIEWNG_NMPR_CO GENRE_NM   GRAD_NM MOVIE_SDIV_NM  CRITIC_RT  \\\n",
       "0                   284.0      드라마     전체관람가       독립/예술영화       3.00   \n",
       "1                   154.0    다큐멘터리     전체관람가       독립/예술영화       5.59   \n",
       "2                 97354.0      드라마  15세이상관람가          일반영화       9.06   \n",
       "3                   144.0    다큐멘터리     전체관람가       독립/예술영화       6.50   \n",
       "4                  2082.0      드라마  15세이상관람가       독립/예술영화       5.59   \n",
       "..                    ...      ...       ...           ...        ...   \n",
       "353                 373.0    다큐멘터리  12세이상관람가       독립/예술영화       8.20   \n",
       "354                  22.0       가족     전체관람가          일반영화       5.59   \n",
       "355                 250.0     미스터리  15세이상관람가       독립/예술영화       5.59   \n",
       "356                 336.0       액션  12세이상관람가       독립/예술영화       5.59   \n",
       "357                 302.0      드라마  12세이상관람가       독립/예술영화       5.59   \n",
       "\n",
       "     VIEWER_RT  YEAR  MONTH  DISTB_CMPNY_COUNT  SUCCESS  \n",
       "0         6.30  2017     12                  2      0.0  \n",
       "1         9.31  2019      5                  1      0.0  \n",
       "2         8.49  2019      5                  1      1.0  \n",
       "3         8.96  2019      8                  1      0.0  \n",
       "4         7.44  2019      8                  2      1.0  \n",
       "..         ...   ...    ...                ...      ...  \n",
       "353       6.44  2022      9                  1      0.0  \n",
       "354       7.44  2022      9                  1      0.0  \n",
       "355       7.47  2022      9                  1      0.0  \n",
       "356       8.84  2022      9                  1      0.0  \n",
       "357       8.04  2022      9                  1      0.0  \n",
       "\n",
       "[358 rows x 20 columns]"
      ]
     },
     "execution_count": 79,
     "metadata": {},
     "output_type": "execute_result"
    }
   ],
   "source": [
    "data"
   ]
  },
  {
   "cell_type": "code",
   "execution_count": 80,
   "metadata": {},
   "outputs": [
    {
     "data": {
      "text/plain": [
       "(358, 20)"
      ]
     },
     "execution_count": 80,
     "metadata": {},
     "output_type": "execute_result"
    }
   ],
   "source": [
    "data.shape"
   ]
  },
  {
   "cell_type": "code",
   "execution_count": 81,
   "metadata": {},
   "outputs": [
    {
     "data": {
      "text/plain": [
       "array(['전체관람가', '15세이상관람가', '12세이상관람가'], dtype=object)"
      ]
     },
     "execution_count": 81,
     "metadata": {},
     "output_type": "execute_result"
    }
   ],
   "source": [
    "data['GRAD_NM'].unique()"
   ]
  },
  {
   "cell_type": "code",
   "execution_count": 82,
   "metadata": {},
   "outputs": [
    {
     "data": {
      "text/plain": [
       "Index(['MOVIE_NM', 'DRCTR_NM', 'MAKR_NM', 'DISTB_CMPNY_NM', 'OPN_DE',\n",
       "       'MOVIE_TY_NM', 'MOVIE_STLE_NM', 'NLTY_NM', 'TOT_SCRN_CO',\n",
       "       'VIEWNG_NMPR_CO', 'SEOUL_VIEWNG_NMPR_CO', 'GENRE_NM', 'GRAD_NM',\n",
       "       'MOVIE_SDIV_NM', 'CRITIC_RT', 'VIEWER_RT', 'YEAR', 'MONTH',\n",
       "       'DISTB_CMPNY_COUNT', 'SUCCESS'],\n",
       "      dtype='object')"
      ]
     },
     "execution_count": 82,
     "metadata": {},
     "output_type": "execute_result"
    }
   ],
   "source": [
    "data.columns"
   ]
  },
  {
   "cell_type": "code",
   "execution_count": 83,
   "metadata": {},
   "outputs": [],
   "source": [
    "data['MOVIE_SDIV_NM'] = data['MOVIE_SDIV_NM'].map({'일반영화':1,'독립/예술영화':0})"
   ]
  },
  {
   "cell_type": "code",
   "execution_count": 84,
   "metadata": {},
   "outputs": [],
   "source": [
    "data['GRAD_NM'] = data['GRAD_NM'].map({'전체관람가':2,'15세이상관람가':1, '12세이상관람가':0})"
   ]
  },
  {
   "cell_type": "code",
   "execution_count": 85,
   "metadata": {},
   "outputs": [],
   "source": [
    "data['GENRE_NM'] = data['GENRE_NM'].map({'드라마': 17, '다큐멘터리': 16, '코미디': 15, '미스터리': 14, '범죄': 13,\n",
    "'멜로/로맨스': 12, '스릴러': 11, '어드벤처': 10, '애니메이션': 9, '사극': 8, '기타': 7, '액션': 6,\n",
    "'공포(호러)': 5, '판타지': 4, '공연': 3, '가족': 2, '뮤지컬': 1, 'SF': 0})"
   ]
  },
  {
   "cell_type": "code",
   "execution_count": 86,
   "metadata": {},
   "outputs": [],
   "source": [
    "data['MOVIE_STLE_NM'] = data['MOVIE_STLE_NM'].map({'장편':2,'단편':1, '옴니버스':0})"
   ]
  },
  {
   "cell_type": "code",
   "execution_count": 87,
   "metadata": {},
   "outputs": [],
   "source": [
    "# 영화 형태(장편, 단편, 옴니버스), 총 스크린 수, 서울 관람 인원 수, 장르명, 몇 세 이용가인지, 영화 종류(일반, 독립), 평론가 평점, 네티즌 평점, 영화 개봉 연도, 영화 개봉 월, 유통회사 수\n",
    "features=data[['MOVIE_STLE_NM', 'TOT_SCRN_CO', 'SEOUL_VIEWNG_NMPR_CO', 'GENRE_NM', 'GRAD_NM', 'MOVIE_SDIV_NM', 'CRITIC_RT',\t'VIEWER_RT', 'YEAR',\t'MONTH', 'DISTB_CMPNY_COUNT']]\n",
    "success=data[['SUCCESS']]"
   ]
  },
  {
   "cell_type": "code",
   "execution_count": 88,
   "metadata": {},
   "outputs": [],
   "source": [
    "#train, test 분리\n",
    "from sklearn.model_selection import train_test_split\n",
    "train_features, test_features, train_labels, test_labels = train_test_split(features, success)"
   ]
  },
  {
   "cell_type": "code",
   "execution_count": 89,
   "metadata": {},
   "outputs": [],
   "source": [
    "#정규화\n",
    "from sklearn.preprocessing import StandardScaler\n",
    "scaler=StandardScaler()\n",
    "\n",
    "train_features=scaler.fit_transform(train_features)\n",
    "test_features=scaler.fit_transform(test_features)"
   ]
  },
  {
   "cell_type": "code",
   "execution_count": 90,
   "metadata": {},
   "outputs": [
    {
     "data": {
      "text/plain": [
       "MOVIE_NM                0\n",
       "DRCTR_NM                0\n",
       "MAKR_NM                 0\n",
       "DISTB_CMPNY_NM          0\n",
       "OPN_DE                  0\n",
       "MOVIE_TY_NM             0\n",
       "MOVIE_STLE_NM           0\n",
       "NLTY_NM                 0\n",
       "TOT_SCRN_CO             0\n",
       "VIEWNG_NMPR_CO          0\n",
       "SEOUL_VIEWNG_NMPR_CO    0\n",
       "GENRE_NM                0\n",
       "GRAD_NM                 0\n",
       "MOVIE_SDIV_NM           0\n",
       "CRITIC_RT               0\n",
       "VIEWER_RT               0\n",
       "YEAR                    0\n",
       "MONTH                   0\n",
       "DISTB_CMPNY_COUNT       0\n",
       "SUCCESS                 0\n",
       "dtype: int64"
      ]
     },
     "execution_count": 90,
     "metadata": {},
     "output_type": "execute_result"
    }
   ],
   "source": [
    "data.isna().sum()"
   ]
  },
  {
   "cell_type": "code",
   "execution_count": 91,
   "metadata": {},
   "outputs": [
    {
     "name": "stderr",
     "output_type": "stream",
     "text": [
      "c:\\Users\\user\\anaconda3\\lib\\site-packages\\sklearn\\utils\\validation.py:72: DataConversionWarning: A column-vector y was passed when a 1d array was expected. Please change the shape of y to (n_samples, ), for example using ravel().\n",
      "  return f(**kwargs)\n"
     ]
    },
    {
     "data": {
      "text/plain": [
       "LogisticRegression()"
      ]
     },
     "execution_count": 91,
     "metadata": {},
     "output_type": "execute_result"
    }
   ],
   "source": [
    "#모델생성\n",
    "from sklearn.linear_model import LogisticRegression\n",
    "\n",
    "model=LogisticRegression()\n",
    "model.fit(train_features, train_labels)"
   ]
  },
  {
   "cell_type": "code",
   "execution_count": 92,
   "metadata": {},
   "outputs": [
    {
     "data": {
      "text/plain": [
       "0.7947761194029851"
      ]
     },
     "execution_count": 92,
     "metadata": {},
     "output_type": "execute_result"
    }
   ],
   "source": [
    "model.score(train_features, train_labels)\n",
    "# 0.7947761194029851 : 79%정도 맞춤"
   ]
  },
  {
   "cell_type": "code",
   "execution_count": 93,
   "metadata": {},
   "outputs": [
    {
     "data": {
      "text/plain": [
       "0.7555555555555555"
      ]
     },
     "execution_count": 93,
     "metadata": {},
     "output_type": "execute_result"
    }
   ],
   "source": [
    "model.score(test_features, test_labels)\n",
    "# 0.7555555555555555 75%정도 맞춤"
   ]
  },
  {
   "cell_type": "code",
   "execution_count": 96,
   "metadata": {},
   "outputs": [
    {
     "name": "stdout",
     "output_type": "stream",
     "text": [
      "[[ 0.51938473  1.55483154  1.26042924 -0.06747794 -0.03280719  0.28117318\n",
      "   0.22330427  0.06290135 -1.07431274 -0.8465874   0.11610941]]\n",
      "[0.50847071]\n"
     ]
    }
   ],
   "source": [
    "#기울기\n",
    "print(model.coef_)\n",
    "\n",
    "#절편\n",
    "print(model.intercept_)"
   ]
  }
 ],
 "metadata": {
  "kernelspec": {
   "display_name": "base",
   "language": "python",
   "name": "python3"
  },
  "language_info": {
   "codemirror_mode": {
    "name": "ipython",
    "version": 3
   },
   "file_extension": ".py",
   "mimetype": "text/x-python",
   "name": "python",
   "nbconvert_exporter": "python",
   "pygments_lexer": "ipython3",
   "version": "3.8.5"
  },
  "orig_nbformat": 4,
  "vscode": {
   "interpreter": {
    "hash": "a077222d77dfe082b8f1dd562ad70e458ac2ab76993a0b248ab0476e32e9e8dd"
   }
  }
 },
 "nbformat": 4,
 "nbformat_minor": 2
}
