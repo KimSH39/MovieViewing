{
 "cells": [
  {
   "cell_type": "code",
   "execution_count": 3,
   "metadata": {},
   "outputs": [],
   "source": [
    "import pandas as pd\n",
    "import seaborn as sns\n",
    "import numpy as np\n",
    "from scipy import stats\n",
    "\n",
    "screenViewer=pd.read_csv('..\\\\..\\\\dataPreprocessing\\\\k_movie.csv')"
   ]
  },
  {
   "cell_type": "code",
   "execution_count": 4,
   "metadata": {},
   "outputs": [
    {
     "name": "stdout",
     "output_type": "stream",
     "text": [
      "c:\\Users\\gus10\\anaconda3\\lib\\site-packages\\matplotlib\\mpl-data\\matplotlibrc\n",
      "C:\\Users\\gus10\\.matplotlib\n"
     ]
    }
   ],
   "source": [
    "import matplotlib as mpl\n",
    "print(mpl.matplotlib_fname())\n",
    "print(mpl.get_cachedir())\n",
    "mpl.rcParams['font.family']='NanumGothic'"
   ]
  },
  {
   "cell_type": "code",
   "execution_count": 5,
   "metadata": {},
   "outputs": [
    {
     "name": "stderr",
     "output_type": "stream",
     "text": [
      "No handles with labels found to put in legend.\n"
     ]
    },
    {
     "data": {
      "image/png": "[encoded data removed]",
      "text/plain": [
       "<Figure size 432x288 with 1 Axes>"
      ]
     },
     "metadata": {
      "needs_background": "light"
     },
     "output_type": "display_data"
    }
   ],
   "source": [
    "#스크린 수에 따른 관객수 변화 plot으로 나타내기\n",
    "import matplotlib.pyplot as plt\n",
    "screenViewer=screenViewer.dropna(subset=['VIEWNG_NMPR_CO', 'TOT_SCRN_CO'])\n",
    "fig, ax = plt.subplots()\n",
    "ax.plot(screenViewer['TOT_SCRN_CO'],\n",
    "        screenViewer['VIEWNG_NMPR_CO'], \n",
    "        marker='o', \n",
    "        linestyle='')\n",
    "ax.legend(fontsize=12, bbox_to_anchor=(1,1)) # legend position\n",
    "plt.title('영화 관객수과 스크린수', fontsize=20)\n",
    "plt.xlabel('스크린 수', fontsize=14)\n",
    "plt.ylabel('관객수 액', fontsize=14)\n",
    "plt.show()"
   ]
  },
  {
   "cell_type": "code",
   "execution_count": 6,
   "metadata": {},
   "outputs": [
    {
     "name": "stdout",
     "output_type": "stream",
     "text": [
      "ShapiroResult(statistic=0.23703008890151978, pvalue=9.812195872917189e-37)\n",
      "ShapiroResult(statistic=0.5465696454048157, pvalue=2.9475470065512904e-30)\n",
      "LeveneResult(statistic=19.483510985521967, pvalue=1.1608084370786599e-05)\n"
     ]
    }
   ],
   "source": [
    "from scipy.stats import shapiro, levene\n",
    "#정규분포인지 확인 - 둘다 비정규\n",
    "print(shapiro(screenViewer['VIEWNG_NMPR_CO']))\n",
    "print(shapiro(screenViewer['TOT_SCRN_CO']))\n",
    "\n",
    "#등분산성 - 등분산성을 따르지 않음\n",
    "print(levene(screenViewer['VIEWNG_NMPR_CO'], screenViewer['TOT_SCRN_CO'], center='median'))"
   ]
  },
  {
   "cell_type": "code",
   "execution_count": 7,
   "metadata": {},
   "outputs": [
    {
     "name": "stdout",
     "output_type": "stream",
     "text": [
      "SpearmanrResult(correlation=0.7899563505344901, pvalue=6.016781155240745e-83)\n"
     ]
    }
   ],
   "source": [
    "#선형 관계가 있는 지 확인 : 연속-연속 비정규 : spearman - 선형관계가 있음\n",
    "print(stats.spearmanr(screenViewer['VIEWNG_NMPR_CO'],screenViewer['TOT_SCRN_CO']))"
   ]
  },
  {
   "cell_type": "code",
   "execution_count": 8,
   "metadata": {},
   "outputs": [],
   "source": [
    "from statsmodels.formula.api import ols\n",
    "from sklearn.linear_model import LinearRegression\n",
    "\n",
    "fit = ols('VIEWNG_NMPR_CO ~ TOT_SCRN_CO',data=screenViewer).fit() ## 단순선형회귀모형 적합"
   ]
  },
  {
   "cell_type": "code",
   "execution_count": 9,
   "metadata": {},
   "outputs": [
    {
     "data": {
      "text/html": [
       "<table class=\"simpletable\">\n",
       "<caption>OLS Regression Results</caption>\n",
       "<tr>\n",
       "  <th>Dep. Variable:</th>     <td>VIEWNG_NMPR_CO</td>  <th>  R-squared:         </th> <td>   0.530</td> \n",
       "</tr>\n",
       "<tr>\n",
       "  <th>Model:</th>                   <td>OLS</td>       <th>  Adj. R-squared:    </th> <td>   0.529</td> \n",
       "</tr>\n",
       "<tr>\n",
       "  <th>Method:</th>             <td>Least Squares</td>  <th>  F-statistic:       </th> <td>   429.6</td> \n",
       "</tr>\n",
       "<tr>\n",
       "  <th>Date:</th>             <td>Wed, 07 Dec 2022</td> <th>  Prob (F-statistic):</th> <td>1.92e-64</td> \n",
       "</tr>\n",
       "<tr>\n",
       "  <th>Time:</th>                 <td>11:24:38</td>     <th>  Log-Likelihood:    </th> <td> -5407.1</td> \n",
       "</tr>\n",
       "<tr>\n",
       "  <th>No. Observations:</th>      <td>   383</td>      <th>  AIC:               </th> <td>1.082e+04</td>\n",
       "</tr>\n",
       "<tr>\n",
       "  <th>Df Residuals:</th>          <td>   381</td>      <th>  BIC:               </th> <td>1.083e+04</td>\n",
       "</tr>\n",
       "<tr>\n",
       "  <th>Df Model:</th>              <td>     1</td>      <th>                     </th>     <td> </td>    \n",
       "</tr>\n",
       "<tr>\n",
       "  <th>Covariance Type:</th>      <td>nonrobust</td>    <th>                     </th>     <td> </td>    \n",
       "</tr>\n",
       "</table>\n",
       "<table class=\"simpletable\">\n",
       "<tr>\n",
       "       <td></td>          <th>coef</th>     <th>std err</th>      <th>t</th>      <th>P>|t|</th>  <th>[0.025</th>    <th>0.975]</th>  \n",
       "</tr>\n",
       "<tr>\n",
       "  <th>Intercept</th>   <td>-6.487e+04</td> <td> 1.87e+04</td> <td>   -3.463</td> <td> 0.001</td> <td>-1.02e+05</td> <td> -2.8e+04</td>\n",
       "</tr>\n",
       "<tr>\n",
       "  <th>TOT_SCRN_CO</th> <td>  832.6490</td> <td>   40.172</td> <td>   20.727</td> <td> 0.000</td> <td>  753.663</td> <td>  911.635</td>\n",
       "</tr>\n",
       "</table>\n",
       "<table class=\"simpletable\">\n",
       "<tr>\n",
       "  <th>Omnibus:</th>       <td>411.883</td> <th>  Durbin-Watson:     </th> <td>   1.764</td> \n",
       "</tr>\n",
       "<tr>\n",
       "  <th>Prob(Omnibus):</th> <td> 0.000</td>  <th>  Jarque-Bera (JB):  </th> <td>37539.599</td>\n",
       "</tr>\n",
       "<tr>\n",
       "  <th>Skew:</th>          <td> 4.440</td>  <th>  Prob(JB):          </th> <td>    0.00</td> \n",
       "</tr>\n",
       "<tr>\n",
       "  <th>Kurtosis:</th>      <td>50.681</td>  <th>  Cond. No.          </th> <td>    521.</td> \n",
       "</tr>\n",
       "</table><br/><br/>Notes:<br/>[1] Standard Errors assume that the covariance matrix of the errors is correctly specified."
      ],
      "text/plain": [
       "<class 'statsmodels.iolib.summary.Summary'>\n",
       "\"\"\"\n",
       "                            OLS Regression Results                            \n",
       "==============================================================================\n",
       "Dep. Variable:         VIEWNG_NMPR_CO   R-squared:                       0.530\n",
       "Model:                            OLS   Adj. R-squared:                  0.529\n",
       "Method:                 Least Squares   F-statistic:                     429.6\n",
       "Date:                Wed, 07 Dec 2022   Prob (F-statistic):           1.92e-64\n",
       "Time:                        11:24:38   Log-Likelihood:                -5407.1\n",
       "No. Observations:                 383   AIC:                         1.082e+04\n",
       "Df Residuals:                     381   BIC:                         1.083e+04\n",
       "Df Model:                           1                                         \n",
       "Covariance Type:            nonrobust                                         \n",
       "===============================================================================\n",
       "                  coef    std err          t      P>|t|      [0.025      0.975]\n",
       "-------------------------------------------------------------------------------\n",
       "Intercept   -6.487e+04   1.87e+04     -3.463      0.001   -1.02e+05    -2.8e+04\n",
       "TOT_SCRN_CO   832.6490     40.172     20.727      0.000     753.663     911.635\n",
       "==============================================================================\n",
       "Omnibus:                      411.883   Durbin-Watson:                   1.764\n",
       "Prob(Omnibus):                  0.000   Jarque-Bera (JB):            37539.599\n",
       "Skew:                           4.440   Prob(JB):                         0.00\n",
       "Kurtosis:                      50.681   Cond. No.                         521.\n",
       "==============================================================================\n",
       "\n",
       "Notes:\n",
       "[1] Standard Errors assume that the covariance matrix of the errors is correctly specified.\n",
       "\"\"\""
      ]
     },
     "execution_count": 9,
     "metadata": {},
     "output_type": "execute_result"
    }
   ],
   "source": [
    "fit.summary()\n",
    "#R제곱과 수정 R제곱 수치가 0.530 ~ 0.529로 나타났다. : 50%정도의 자료만 설명 가능"
   ]
  },
  {
   "cell_type": "code",
   "execution_count": 10,
   "metadata": {},
   "outputs": [
    {
     "name": "stdout",
     "output_type": "stream",
     "text": [
      "10000개의 스크린 수 관람 인원 예측 :8261618.235287581\n",
      "X변수 계수: 832.6490031250758\n"
     ]
    }
   ],
   "source": [
    "## 변수의 선언\n",
    "x = screenViewer['TOT_SCRN_CO']\n",
    "y = screenViewer['VIEWNG_NMPR_CO']\n",
    "\n",
    "## 모델의 선언\n",
    "screenViewer_linearRegression = LinearRegression()\n",
    " \n",
    "## 모델-데이터셋의 학습 진행\n",
    "screenViewer_linearRegression.fit(x.values.reshape(-1,1), y)\n",
    " \n",
    " \n",
    "## 예측 실행\n",
    "print( '10000개의 스크린 수 관람 인원 예측 :{}'.format(screenViewer_linearRegression.predict([[10000]])[0])\n",
    "    , 'X변수 계수: {}'.format(screenViewer_linearRegression.coef_[0])\n",
    "    , sep = '\\n')"
   ]
  },
  {
   "cell_type": "code",
   "execution_count": 11,
   "metadata": {},
   "outputs": [
    {
     "name": "stdout",
     "output_type": "stream",
     "text": [
      "[832.64900313]\n",
      "-64871.79596317664\n"
     ]
    }
   ],
   "source": [
    "#기울기\n",
    "print(screenViewer_linearRegression.coef_)\n",
    "\n",
    "#절편\n",
    "print(screenViewer_linearRegression.intercept_)"
   ]
  },
  {
   "cell_type": "code",
   "execution_count": 12,
   "metadata": {},
   "outputs": [
    {
     "data": {
      "image/png": "[encoded data removed]",
      "text/plain": [
       "<Figure size 432x288 with 1 Axes>"
      ]
     },
     "metadata": {
      "needs_background": "light"
     },
     "output_type": "display_data"
    }
   ],
   "source": [
    "plt.plot(x, y, 'o')\n",
    "plt.plot(x,screenViewer_linearRegression.predict(x.values.reshape(-1,1)))\n",
    "plt.show()"
   ]
  },
  {
   "cell_type": "code",
   "execution_count": null,
   "metadata": {},
   "outputs": [],
   "source": []
  }
 ],
 "metadata": {
  "kernelspec": {
   "display_name": "Python 3.8.5 ('base')",
   "language": "python",
   "name": "python3"
  },
  "language_info": {
   "codemirror_mode": {
    "name": "ipython",
    "version": 3
   },
   "file_extension": ".py",
   "mimetype": "text/x-python",
   "name": "python",
   "nbconvert_exporter": "python",
   "pygments_lexer": "ipython3",
   "version": "3.8.5"
  },
  "orig_nbformat": 4,
  "vscode": {
   "interpreter": {
    "hash": "939c2a35bb44f922d4801ff6645981833f7a456ccc01d595bc465aeed00364a0"
   }
  }
 },
 "nbformat": 4,
 "nbformat_minor": 2
}
