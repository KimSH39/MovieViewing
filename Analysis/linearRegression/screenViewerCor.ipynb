{
 "cells": [
  {
   "cell_type": "code",
   "execution_count": 1,
   "metadata": {},
   "outputs": [],
   "source": [
    "import pandas as pd\n",
    "import seaborn as sns\n",
    "import numpy as np\n",
    "from scipy import stats\n",
    "\n",
    "screenViewer=pd.read_csv('..\\\\..\\\\dataPreprocessing\\\\k_movie_2.csv')"
   ]
  },
  {
   "cell_type": "code",
   "execution_count": 2,
   "metadata": {},
   "outputs": [
    {
     "name": "stdout",
     "output_type": "stream",
     "text": [
      "c:\\Users\\gus10\\anaconda3\\lib\\site-packages\\matplotlib\\mpl-data\\matplotlibrc\n",
      "C:\\Users\\gus10\\.matplotlib\n"
     ]
    }
   ],
   "source": [
    "import matplotlib as mpl\n",
    "print(mpl.matplotlib_fname())\n",
    "print(mpl.get_cachedir())\n",
    "mpl.rcParams['font.family']='NanumGothic'"
   ]
  },
  {
   "cell_type": "code",
   "execution_count": 3,
   "metadata": {},
   "outputs": [
    {
     "name": "stderr",
     "output_type": "stream",
     "text": [
      "No handles with labels found to put in legend.\n"
     ]
    },
    {
     "data": {
      "image/png": "[encoded data removed]",
      "text/plain": [
       "<Figure size 432x288 with 1 Axes>"
      ]
     },
     "metadata": {
      "needs_background": "light"
     },
     "output_type": "display_data"
    }
   ],
   "source": [
    "#스크린 수에 따른 관객수 변화 plot으로 나타내기\n",
    "import matplotlib.pyplot as plt\n",
    "screenViewer=screenViewer.dropna(subset=['VIEWNG_NMPR_CO', 'TOT_SCRN_CO'])\n",
    "fig, ax = plt.subplots()\n",
    "ax.plot(screenViewer['TOT_SCRN_CO'],\n",
    "        screenViewer['VIEWNG_NMPR_CO'], \n",
    "        marker='o', \n",
    "        linestyle='')\n",
    "ax.legend(fontsize=12, bbox_to_anchor=(1,1)) # legend position\n",
    "plt.title('영화 관객수과 스크린수', fontsize=20)\n",
    "plt.xlabel('스크린 수', fontsize=14)\n",
    "plt.ylabel('관객수 액', fontsize=14)\n",
    "plt.show()"
   ]
  },
  {
   "cell_type": "code",
   "execution_count": 4,
   "metadata": {},
   "outputs": [
    {
     "name": "stdout",
     "output_type": "stream",
     "text": [
      "ShapiroResult(statistic=0.24783772230148315, pvalue=1.4893745883518033e-35)\n",
      "ShapiroResult(statistic=0.5481191873550415, pvalue=2.45968141685833e-29)\n",
      "LeveneResult(statistic=19.536654815713423, pvalue=1.140302919635435e-05)\n"
     ]
    }
   ],
   "source": [
    "from scipy.stats import shapiro, levene\n",
    "#정규분포인지 확인 - 둘다 비정규\n",
    "print(shapiro(screenViewer['VIEWNG_NMPR_CO']))\n",
    "print(shapiro(screenViewer['TOT_SCRN_CO']))\n",
    "\n",
    "#등분산성 - 등분산성을 따르지 않음\n",
    "print(levene(screenViewer['VIEWNG_NMPR_CO'], screenViewer['TOT_SCRN_CO'], center='median'))"
   ]
  },
  {
   "cell_type": "code",
   "execution_count": 5,
   "metadata": {},
   "outputs": [
    {
     "name": "stdout",
     "output_type": "stream",
     "text": [
      "SpearmanrResult(correlation=0.8361714039866193, pvalue=6.934509410367995e-95)\n"
     ]
    }
   ],
   "source": [
    "#선형 관계가 있는 지 확인 : 연속-연속 비정규 : spearman - 선형관계가 있음\n",
    "print(stats.spearmanr(screenViewer['VIEWNG_NMPR_CO'],screenViewer['TOT_SCRN_CO']))"
   ]
  },
  {
   "cell_type": "code",
   "execution_count": 6,
   "metadata": {},
   "outputs": [],
   "source": [
    "from statsmodels.formula.api import ols\n",
    "from sklearn.linear_model import LinearRegression\n",
    "\n",
    "fit = ols('VIEWNG_NMPR_CO ~ TOT_SCRN_CO',data=screenViewer).fit() ## 단순선형회귀모형 적합"
   ]
  },
  {
   "cell_type": "code",
   "execution_count": 7,
   "metadata": {},
   "outputs": [
    {
     "data": {
      "text/html": [
       "<table class=\"simpletable\">\n",
       "<caption>OLS Regression Results</caption>\n",
       "<tr>\n",
       "  <th>Dep. Variable:</th>     <td>VIEWNG_NMPR_CO</td>  <th>  R-squared:         </th> <td>   0.558</td> \n",
       "</tr>\n",
       "<tr>\n",
       "  <th>Model:</th>                   <td>OLS</td>       <th>  Adj. R-squared:    </th> <td>   0.557</td> \n",
       "</tr>\n",
       "<tr>\n",
       "  <th>Method:</th>             <td>Least Squares</td>  <th>  F-statistic:       </th> <td>   449.7</td> \n",
       "</tr>\n",
       "<tr>\n",
       "  <th>Date:</th>             <td>Fri, 09 Dec 2022</td> <th>  Prob (F-statistic):</th> <td>4.13e-65</td> \n",
       "</tr>\n",
       "<tr>\n",
       "  <th>Time:</th>                 <td>13:19:23</td>     <th>  Log-Likelihood:    </th> <td> -5054.5</td> \n",
       "</tr>\n",
       "<tr>\n",
       "  <th>No. Observations:</th>      <td>   358</td>      <th>  AIC:               </th> <td>1.011e+04</td>\n",
       "</tr>\n",
       "<tr>\n",
       "  <th>Df Residuals:</th>          <td>   356</td>      <th>  BIC:               </th> <td>1.012e+04</td>\n",
       "</tr>\n",
       "<tr>\n",
       "  <th>Df Model:</th>              <td>     1</td>      <th>                     </th>     <td> </td>    \n",
       "</tr>\n",
       "<tr>\n",
       "  <th>Covariance Type:</th>      <td>nonrobust</td>    <th>                     </th>     <td> </td>    \n",
       "</tr>\n",
       "</table>\n",
       "<table class=\"simpletable\">\n",
       "<tr>\n",
       "       <td></td>          <th>coef</th>     <th>std err</th>      <th>t</th>      <th>P>|t|</th>  <th>[0.025</th>    <th>0.975]</th>  \n",
       "</tr>\n",
       "<tr>\n",
       "  <th>Intercept</th>   <td>-6.907e+04</td> <td> 1.94e+04</td> <td>   -3.554</td> <td> 0.000</td> <td>-1.07e+05</td> <td>-3.08e+04</td>\n",
       "</tr>\n",
       "<tr>\n",
       "  <th>TOT_SCRN_CO</th> <td>  875.7715</td> <td>   41.300</td> <td>   21.205</td> <td> 0.000</td> <td>  794.548</td> <td>  956.995</td>\n",
       "</tr>\n",
       "</table>\n",
       "<table class=\"simpletable\">\n",
       "<tr>\n",
       "  <th>Omnibus:</th>       <td>382.689</td> <th>  Durbin-Watson:     </th> <td>   1.805</td> \n",
       "</tr>\n",
       "<tr>\n",
       "  <th>Prob(Omnibus):</th> <td> 0.000</td>  <th>  Jarque-Bera (JB):  </th> <td>32558.965</td>\n",
       "</tr>\n",
       "<tr>\n",
       "  <th>Skew:</th>          <td> 4.363</td>  <th>  Prob(JB):          </th> <td>    0.00</td> \n",
       "</tr>\n",
       "<tr>\n",
       "  <th>Kurtosis:</th>      <td>48.897</td>  <th>  Cond. No.          </th> <td>    527.</td> \n",
       "</tr>\n",
       "</table><br/><br/>Notes:<br/>[1] Standard Errors assume that the covariance matrix of the errors is correctly specified."
      ],
      "text/plain": [
       "<class 'statsmodels.iolib.summary.Summary'>\n",
       "\"\"\"\n",
       "                            OLS Regression Results                            \n",
       "==============================================================================\n",
       "Dep. Variable:         VIEWNG_NMPR_CO   R-squared:                       0.558\n",
       "Model:                            OLS   Adj. R-squared:                  0.557\n",
       "Method:                 Least Squares   F-statistic:                     449.7\n",
       "Date:                Fri, 09 Dec 2022   Prob (F-statistic):           4.13e-65\n",
       "Time:                        13:19:23   Log-Likelihood:                -5054.5\n",
       "No. Observations:                 358   AIC:                         1.011e+04\n",
       "Df Residuals:                     356   BIC:                         1.012e+04\n",
       "Df Model:                           1                                         \n",
       "Covariance Type:            nonrobust                                         \n",
       "===============================================================================\n",
       "                  coef    std err          t      P>|t|      [0.025      0.975]\n",
       "-------------------------------------------------------------------------------\n",
       "Intercept   -6.907e+04   1.94e+04     -3.554      0.000   -1.07e+05   -3.08e+04\n",
       "TOT_SCRN_CO   875.7715     41.300     21.205      0.000     794.548     956.995\n",
       "==============================================================================\n",
       "Omnibus:                      382.689   Durbin-Watson:                   1.805\n",
       "Prob(Omnibus):                  0.000   Jarque-Bera (JB):            32558.965\n",
       "Skew:                           4.363   Prob(JB):                         0.00\n",
       "Kurtosis:                      48.897   Cond. No.                         527.\n",
       "==============================================================================\n",
       "\n",
       "Notes:\n",
       "[1] Standard Errors assume that the covariance matrix of the errors is correctly specified.\n",
       "\"\"\""
      ]
     },
     "execution_count": 7,
     "metadata": {},
     "output_type": "execute_result"
    }
   ],
   "source": [
    "fit.summary()\n",
    "#R제곱과 수정 R제곱 수치가 0.558 ~ 0.557로 나타났다. : 50%정도의 자료만 설명 가능"
   ]
  },
  {
   "cell_type": "code",
   "execution_count": 8,
   "metadata": {},
   "outputs": [
    {
     "name": "stdout",
     "output_type": "stream",
     "text": [
      "10000개의 스크린 수 관람 인원 예측 :8688648.401800508\n",
      "X변수 계수: 875.7715174434383\n"
     ]
    }
   ],
   "source": [
    "## 변수의 선언\n",
    "x = screenViewer['TOT_SCRN_CO']\n",
    "y = screenViewer['VIEWNG_NMPR_CO']\n",
    "\n",
    "## 모델의 선언\n",
    "screenViewer_linearRegression = LinearRegression()\n",
    " \n",
    "## 모델-데이터셋의 학습 진행\n",
    "screenViewer_linearRegression.fit(x.values.reshape(-1,1), y)\n",
    " \n",
    " \n",
    "## 예측 실행\n",
    "print( '10000개의 스크린 수 관람 인원 예측 :{}'.format(screenViewer_linearRegression.predict([[10000]])[0])\n",
    "    , 'X변수 계수: {}'.format(screenViewer_linearRegression.coef_[0])\n",
    "    , sep = '\\n')"
   ]
  },
  {
   "cell_type": "code",
   "execution_count": 9,
   "metadata": {},
   "outputs": [
    {
     "name": "stdout",
     "output_type": "stream",
     "text": [
      "[875.77151744]\n",
      "-69066.77263387541\n"
     ]
    }
   ],
   "source": [
    "#기울기\n",
    "print(screenViewer_linearRegression.coef_)\n",
    "\n",
    "#절편\n",
    "print(screenViewer_linearRegression.intercept_)"
   ]
  },
  {
   "cell_type": "code",
   "execution_count": 11,
   "metadata": {},
   "outputs": [
    {
     "data": {
      "image/png": "[encoded data removed]",
      "text/plain": [
       "<Figure size 432x288 with 1 Axes>"
      ]
     },
     "metadata": {
      "needs_background": "light"
     },
     "output_type": "display_data"
    }
   ],
   "source": [
    "plt.plot(x, y, 'o')\n",
    "plt.title(\"총 스크린 수와 총 관객수\")\n",
    "plt.plot(x,screenViewer_linearRegression.predict(x.values.reshape(-1,1)))\n",
    "plt.show()"
   ]
  },
  {
   "cell_type": "code",
   "execution_count": null,
   "metadata": {},
   "outputs": [],
   "source": []
  }
 ],
 "metadata": {
  "kernelspec": {
   "display_name": "Python 3.8.5 ('base')",
   "language": "python",
   "name": "python3"
  },
  "language_info": {
   "codemirror_mode": {
    "name": "ipython",
    "version": 3
   },
   "file_extension": ".py",
   "mimetype": "text/x-python",
   "name": "python",
   "nbconvert_exporter": "python",
   "pygments_lexer": "ipython3",
   "version": "3.8.5"
  },
  "orig_nbformat": 4,
  "vscode": {
   "interpreter": {
    "hash": "939c2a35bb44f922d4801ff6645981833f7a456ccc01d595bc465aeed00364a0"
   }
  }
 },
 "nbformat": 4,
 "nbformat_minor": 2
}
