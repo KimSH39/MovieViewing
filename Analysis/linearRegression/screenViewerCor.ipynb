{
 "cells": [
  {
   "cell_type": "code",
   "execution_count": 1,
   "metadata": {},
   "outputs": [],
   "source": [
    "import pandas as pd\n",
    "import seaborn as sns\n",
    "import numpy as np\n",
    "from scipy import stats\n",
    "\n",
    "rate=pd.read_excel(\"movie_rate.xlsx\")\n",
    "movie=pd.read_csv(\"ALL_KC_KOBIS_BOX_OFFIC_MOVIE_INFO.csv\")\n",
    "movie=movie[(movie['GRAD_NM']!='청소년관람불가') & (movie['NLTY_NM']=='한국')&(movie['GRAD_NM']!='연소자관람불가,청소년관람불가')]"
   ]
  },
  {
   "cell_type": "code",
   "execution_count": 24,
   "metadata": {},
   "outputs": [
    {
     "name": "stdout",
     "output_type": "stream",
     "text": [
      "c:\\Users\\gus10\\anaconda3\\lib\\site-packages\\matplotlib\\mpl-data\\matplotlibrc\n",
      "C:\\Users\\gus10\\.matplotlib\n"
     ]
    }
   ],
   "source": [
    "import matplotlib as mpl\n",
    "print(mpl.matplotlib_fname())\n",
    "print(mpl.get_cachedir())\n",
    "mpl.rcParams['font.family']='NanumGothic'"
   ]
  },
  {
   "cell_type": "code",
   "execution_count": 25,
   "metadata": {},
   "outputs": [
    {
     "name": "stderr",
     "output_type": "stream",
     "text": [
      "No handles with labels found to put in legend.\n"
     ]
    },
    {
     "data": {
      "image/png": "[encoded data removed]",
      "text/plain": [
       "<Figure size 432x288 with 1 Axes>"
      ]
     },
     "metadata": {
      "needs_background": "light"
     },
     "output_type": "display_data"
    }
   ],
   "source": [
    "#스크린 수에 따른 관객수 변화 plot으로 나타내기\n",
    "import matplotlib.pyplot as plt\n",
    "screenViewer=movie.dropna(subset=['VIEWNG_NMPR_CO', 'TOT_SCRN_CO'])\n",
    "fig, ax = plt.subplots()\n",
    "ax.plot(screenViewer['TOT_SCRN_CO'],\n",
    "        screenViewer['VIEWNG_NMPR_CO'], \n",
    "        marker='o', \n",
    "        linestyle='')\n",
    "ax.legend(fontsize=12, bbox_to_anchor=(1,1)) # legend position\n",
    "plt.title('영화 관객수과 스크린수', fontsize=20)\n",
    "plt.xlabel('스크린 수', fontsize=14)\n",
    "plt.ylabel('관객수 액', fontsize=14)\n",
    "plt.show()"
   ]
  },
  {
   "cell_type": "code",
   "execution_count": 26,
   "metadata": {},
   "outputs": [
    {
     "name": "stdout",
     "output_type": "stream",
     "text": [
      "ShapiroResult(statistic=0.23499661684036255, pvalue=5.790928457785754e-37)\n",
      "ShapiroResult(statistic=0.5431067943572998, pvalue=1.612827526051365e-30)\n",
      "LeveneResult(statistic=19.473658850281712, pvalue=1.1646698635471232e-05)\n"
     ]
    }
   ],
   "source": [
    "from scipy.stats import shapiro, levene\n",
    "#정규분포인지 확인 - 둘다 비정규\n",
    "print(shapiro(screenViewer['VIEWNG_NMPR_CO']))\n",
    "print(shapiro(screenViewer['TOT_SCRN_CO']))\n",
    "\n",
    "#등분산성 - 등분산성을 따르지 않음\n",
    "print(levene(screenViewer['VIEWNG_NMPR_CO'], screenViewer['TOT_SCRN_CO'], center='median'))"
   ]
  },
  {
   "cell_type": "code",
   "execution_count": 27,
   "metadata": {},
   "outputs": [
    {
     "name": "stdout",
     "output_type": "stream",
     "text": [
      "SpearmanrResult(correlation=0.7884312222334018, pvalue=1.779180245240883e-83)\n"
     ]
    }
   ],
   "source": [
    "#선형 관계가 있는 지 확인 : 연속-연속 비정규 : spearman - 선형관계가 있음\n",
    "print(stats.spearmanr(screenViewer['VIEWNG_NMPR_CO'],screenViewer['TOT_SCRN_CO']))"
   ]
  },
  {
   "cell_type": "code",
   "execution_count": 28,
   "metadata": {},
   "outputs": [],
   "source": [
    "from statsmodels.formula.api import ols\n",
    "from sklearn.linear_model import LinearRegression\n",
    "\n",
    "fit = ols('VIEWNG_NMPR_CO ~ TOT_SCRN_CO',data=screenViewer).fit() ## 단순선형회귀모형 적합"
   ]
  },
  {
   "cell_type": "code",
   "execution_count": 29,
   "metadata": {},
   "outputs": [
    {
     "data": {
      "text/html": [
       "<table class=\"simpletable\">\n",
       "<caption>OLS Regression Results</caption>\n",
       "<tr>\n",
       "  <th>Dep. Variable:</th>     <td>VIEWNG_NMPR_CO</td>  <th>  R-squared:         </th> <td>   0.530</td> \n",
       "</tr>\n",
       "<tr>\n",
       "  <th>Model:</th>                   <td>OLS</td>       <th>  Adj. R-squared:    </th> <td>   0.529</td> \n",
       "</tr>\n",
       "<tr>\n",
       "  <th>Method:</th>             <td>Least Squares</td>  <th>  F-statistic:       </th> <td>   435.4</td> \n",
       "</tr>\n",
       "<tr>\n",
       "  <th>Date:</th>             <td>Tue, 06 Dec 2022</td> <th>  Prob (F-statistic):</th> <td>2.78e-65</td> \n",
       "</tr>\n",
       "<tr>\n",
       "  <th>Time:</th>                 <td>13:56:15</td>     <th>  Log-Likelihood:    </th> <td> -5475.2</td> \n",
       "</tr>\n",
       "<tr>\n",
       "  <th>No. Observations:</th>      <td>   388</td>      <th>  AIC:               </th> <td>1.095e+04</td>\n",
       "</tr>\n",
       "<tr>\n",
       "  <th>Df Residuals:</th>          <td>   386</td>      <th>  BIC:               </th> <td>1.096e+04</td>\n",
       "</tr>\n",
       "<tr>\n",
       "  <th>Df Model:</th>              <td>     1</td>      <th>                     </th>     <td> </td>    \n",
       "</tr>\n",
       "<tr>\n",
       "  <th>Covariance Type:</th>      <td>nonrobust</td>    <th>                     </th>     <td> </td>    \n",
       "</tr>\n",
       "</table>\n",
       "<table class=\"simpletable\">\n",
       "<tr>\n",
       "       <td></td>          <th>coef</th>     <th>std err</th>      <th>t</th>      <th>P>|t|</th>  <th>[0.025</th>    <th>0.975]</th>  \n",
       "</tr>\n",
       "<tr>\n",
       "  <th>Intercept</th>   <td>-6.391e+04</td> <td> 1.85e+04</td> <td>   -3.460</td> <td> 0.001</td> <td>   -1e+05</td> <td>-2.76e+04</td>\n",
       "</tr>\n",
       "<tr>\n",
       "  <th>TOT_SCRN_CO</th> <td>  831.7423</td> <td>   39.859</td> <td>   20.867</td> <td> 0.000</td> <td>  753.375</td> <td>  910.110</td>\n",
       "</tr>\n",
       "</table>\n",
       "<table class=\"simpletable\">\n",
       "<tr>\n",
       "  <th>Omnibus:</th>       <td>418.778</td> <th>  Durbin-Watson:     </th> <td>   1.763</td> \n",
       "</tr>\n",
       "<tr>\n",
       "  <th>Prob(Omnibus):</th> <td> 0.000</td>  <th>  Jarque-Bera (JB):  </th> <td>39065.521</td>\n",
       "</tr>\n",
       "<tr>\n",
       "  <th>Skew:</th>          <td> 4.471</td>  <th>  Prob(JB):          </th> <td>    0.00</td> \n",
       "</tr>\n",
       "<tr>\n",
       "  <th>Kurtosis:</th>      <td>51.337</td>  <th>  Cond. No.          </th> <td>    517.</td> \n",
       "</tr>\n",
       "</table><br/><br/>Notes:<br/>[1] Standard Errors assume that the covariance matrix of the errors is correctly specified."
      ],
      "text/plain": [
       "<class 'statsmodels.iolib.summary.Summary'>\n",
       "\"\"\"\n",
       "                            OLS Regression Results                            \n",
       "==============================================================================\n",
       "Dep. Variable:         VIEWNG_NMPR_CO   R-squared:                       0.530\n",
       "Model:                            OLS   Adj. R-squared:                  0.529\n",
       "Method:                 Least Squares   F-statistic:                     435.4\n",
       "Date:                Tue, 06 Dec 2022   Prob (F-statistic):           2.78e-65\n",
       "Time:                        13:56:15   Log-Likelihood:                -5475.2\n",
       "No. Observations:                 388   AIC:                         1.095e+04\n",
       "Df Residuals:                     386   BIC:                         1.096e+04\n",
       "Df Model:                           1                                         \n",
       "Covariance Type:            nonrobust                                         \n",
       "===============================================================================\n",
       "                  coef    std err          t      P>|t|      [0.025      0.975]\n",
       "-------------------------------------------------------------------------------\n",
       "Intercept   -6.391e+04   1.85e+04     -3.460      0.001      -1e+05   -2.76e+04\n",
       "TOT_SCRN_CO   831.7423     39.859     20.867      0.000     753.375     910.110\n",
       "==============================================================================\n",
       "Omnibus:                      418.778   Durbin-Watson:                   1.763\n",
       "Prob(Omnibus):                  0.000   Jarque-Bera (JB):            39065.521\n",
       "Skew:                           4.471   Prob(JB):                         0.00\n",
       "Kurtosis:                      51.337   Cond. No.                         517.\n",
       "==============================================================================\n",
       "\n",
       "Notes:\n",
       "[1] Standard Errors assume that the covariance matrix of the errors is correctly specified.\n",
       "\"\"\""
      ]
     },
     "execution_count": 29,
     "metadata": {},
     "output_type": "execute_result"
    }
   ],
   "source": [
    "fit.summary()\n",
    "#R제곱과 수정 R제곱 수치가 0.530 ~ 0.529로 나타났다. : 50%정도의 자료만 설명 가능"
   ]
  },
  {
   "cell_type": "code",
   "execution_count": 30,
   "metadata": {},
   "outputs": [
    {
     "name": "stdout",
     "output_type": "stream",
     "text": [
      "10000개의 스크린 수 관람 인원 예측 :8253518.23924307\n",
      "X변수 계수: 831.7423306162813\n"
     ]
    }
   ],
   "source": [
    "## 변수의 선언\n",
    "x = screenViewer['TOT_SCRN_CO']\n",
    "y = screenViewer['VIEWNG_NMPR_CO']\n",
    "\n",
    "## 모델의 선언\n",
    "screenViewer_linearRegression = LinearRegression()\n",
    " \n",
    "## 모델-데이터셋의 학습 진행\n",
    "screenViewer_linearRegression.fit(x.values.reshape(-1,1), y)\n",
    " \n",
    " \n",
    "## 예측 실행\n",
    "print( '10000개의 스크린 수 관람 인원 예측 :{}'.format(screenViewer_linearRegression.predict([[10000]])[0])\n",
    "    , 'X변수 계수: {}'.format(screenViewer_linearRegression.coef_[0])\n",
    "    , sep = '\\n')"
   ]
  },
  {
   "cell_type": "code",
   "execution_count": 33,
   "metadata": {},
   "outputs": [
    {
     "name": "stdout",
     "output_type": "stream",
     "text": [
      "[831.74233062]\n",
      "-63905.0669197432\n"
     ]
    }
   ],
   "source": [
    "#기울기\n",
    "print(screenViewer_linearRegression.coef_)\n",
    "\n",
    "#절편\n",
    "print(screenViewer_linearRegression.intercept_)"
   ]
  },
  {
   "cell_type": "code",
   "execution_count": 37,
   "metadata": {},
   "outputs": [
    {
     "data": {
      "image/png": "[encoded data removed]",
      "text/plain": [
       "<Figure size 432x288 with 1 Axes>"
      ]
     },
     "metadata": {
      "needs_background": "light"
     },
     "output_type": "display_data"
    }
   ],
   "source": [
    "plt.plot(x, y, 'o')\n",
    "plt.plot(x,screenViewer_linearRegression.predict(x.values.reshape(-1,1)))\n",
    "plt.show()"
   ]
  },
  {
   "cell_type": "code",
   "execution_count": null,
   "metadata": {},
   "outputs": [],
   "source": []
  }
 ],
 "metadata": {
  "kernelspec": {
   "display_name": "Python 3.8.5 ('base')",
   "language": "python",
   "name": "python3"
  },
  "language_info": {
   "codemirror_mode": {
    "name": "ipython",
    "version": 3
   },
   "file_extension": ".py",
   "mimetype": "text/x-python",
   "name": "python",
   "nbconvert_exporter": "python",
   "pygments_lexer": "ipython3",
   "version": "3.8.5"
  },
  "orig_nbformat": 4,
  "vscode": {
   "interpreter": {
    "hash": "939c2a35bb44f922d4801ff6645981833f7a456ccc01d595bc465aeed00364a0"
   }
  }
 },
 "nbformat": 4,
 "nbformat_minor": 2
}
